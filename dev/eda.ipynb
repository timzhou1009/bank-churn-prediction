{
 "cells": [
  {
   "cell_type": "markdown",
   "metadata": {},
   "source": [
    "# Commercial Bank Customer Retention Prediction\n",
    "\n",
    "## APSTA-GE.2401: Statistical Consulting\n",
    "\n",
    "## Scripts"
   ]
  },
  {
   "cell_type": "markdown",
   "metadata": {},
   "source": [
    "Created on: 12/07/2020\n",
    "\n",
    "Modified on: 12/07/2020"
   ]
  },
  {
   "cell_type": "markdown",
   "metadata": {},
   "source": [
    "## Exploratory Data Analysis (EDA)"
   ]
  },
  {
   "cell_type": "markdown",
   "metadata": {},
   "source": [
    "----"
   ]
  },
  {
   "cell_type": "markdown",
   "metadata": {},
   "source": [
    "### Description\n",
    "\n",
    "This script contains the EDA section of data analysis. \n",
    "\n",
    "Data path: `../data/preprocess/`\n",
    "\n",
    "### Data\n",
    "\n",
    "The data we imported are: \n",
    "\n",
    "- `X_train.csv`: contains all features in Q3 and Q4 of 2019 for training. Imported as `X`.\n",
    "- `y_train.csv`: contains the label variable for validation. Imported as `y`.\n",
    "- `X_test.csv`: contains all features in Q1 of 2020 for testing. Imported as `X_true`.\n",
    "\n",
    "After importing the data, we confirmed that both train sets have the same number of records: **145296**. We also confirmed that the testing set has **76722** records.\n",
    "\n",
    "### Research Design\n",
    "\n",
    "The strategy of supervised learning is to train models using the `X_train` data and validate model performance using the `y_train` data. After training, we fit the model to the `X_test` data. The model will then generate predictions, `y_test`, based on `X_test`. \n",
    "\n",
    "To increase model performance, we splited the train set into two sets: 80% of the train data goes to the `X_train` set and 20% of the data goes to the `X_test` set. Then, we conducted a 5-fold cross validation and selected the best performed model output. We also find tuned hyperparameters using randomized search.\n",
    "\n",
    "### Details on EDA\n",
    "\n"
   ]
  },
  {
   "cell_type": "code",
   "execution_count": 1,
   "metadata": {},
   "outputs": [
    {
     "name": "stdout",
     "output_type": "stream",
     "text": [
      "SUCCESS! All modules are imported.\n"
     ]
    }
   ],
   "source": [
    "import pandas as pd\n",
    "import numpy as np\n",
    "from matplotlib import pyplot as plt\n",
    "from matplotlib.pyplot import figure, GridSpec\n",
    "import seaborn as sns\n",
    "\n",
    "print('SUCCESS! All modules are imported.')"
   ]
  },
  {
   "cell_type": "code",
   "execution_count": 2,
   "metadata": {},
   "outputs": [],
   "source": [
    "X = pd.read_csv('../data/X_train.csv')\n",
    "y = pd.read_csv('../data/y_train.csv')\n",
    "X_true = pd.read_csv('../data/X_test.csv')"
   ]
  },
  {
   "cell_type": "code",
   "execution_count": 3,
   "metadata": {},
   "outputs": [],
   "source": [
    "X_raw = pd.read_csv('../data/preprocess/X_train.csv')"
   ]
  },
  {
   "cell_type": "code",
   "execution_count": 4,
   "metadata": {},
   "outputs": [
    {
     "name": "stdout",
     "output_type": "stream",
     "text": [
      "The proprocessed train set has 145296 rows and 78 columns.\n",
      "The proprocessed validation set has 145296 rows and 2 columns.\n",
      "The proprocessed test set has 76722 rows and 78 columns.\n"
     ]
    }
   ],
   "source": [
    "print('The proprocessed train set has {} rows and {} columns.'.format(X.shape[0], X.shape[1]))\n",
    "print('The proprocessed validation set has {} rows and {} columns.'.format(y.shape[0], y.shape[1]))\n",
    "print('The proprocessed test set has {} rows and {} columns.'.format(X_true.shape[0], X_true.shape[1]))"
   ]
  },
  {
   "cell_type": "markdown",
   "metadata": {},
   "source": [
    "----"
   ]
  },
  {
   "cell_type": "markdown",
   "metadata": {},
   "source": [
    "## Features"
   ]
  },
  {
   "cell_type": "markdown",
   "metadata": {},
   "source": [
    "We first inspected features in the train set.\n",
    "\n",
    "1. There are 77 features in the feature set. \n",
    "2. We checked the correlation among features and the label. \n"
   ]
  },
  {
   "cell_type": "markdown",
   "metadata": {},
   "source": [
    "### Dimensions"
   ]
  },
  {
   "cell_type": "code",
   "execution_count": 9,
   "metadata": {
    "scrolled": true
   },
   "outputs": [
    {
     "data": {
      "text/plain": [
       "(145296, 78)"
      ]
     },
     "execution_count": 9,
     "metadata": {},
     "output_type": "execute_result"
    }
   ],
   "source": [
    "X.shape"
   ]
  },
  {
   "cell_type": "code",
   "execution_count": 10,
   "metadata": {
    "scrolled": false
   },
   "outputs": [
    {
     "name": "stdout",
     "output_type": "stream",
     "text": [
      "There are 78 columns in the feature set.\n"
     ]
    },
    {
     "data": {
      "text/plain": [
       "Index(['cust_no', 'X1', 'X2', 'X3', 'X4', 'X5', 'X6', 'X7', 'X8', 'B1', 'B2',\n",
       "       'B3', 'B4', 'B5', 'B7', 'E15', 'E17', 'C1', 'C2', 'I1', 'I2', 'I4',\n",
       "       'I6', 'I7', 'I11', 'I16', 'I17', 'I18', 'I19', 'I20', 'B6_y', 'B6_m',\n",
       "       'B6_d', 'E1_y', 'E1_m', 'E1_d', 'E2_y', 'E2_m', 'E2_d', 'E3_y', 'E3_m',\n",
       "       'E3_d', 'E4_y', 'E4_m', 'E4_d', 'E5_y', 'E5_m', 'E5_d', 'E6_y', 'E6_m',\n",
       "       'E6_d', 'E10_y', 'E10_m', 'E10_d', 'E14_y', 'E14_m', 'E14_d', 'E16_y',\n",
       "       'E16_m', 'E16_d', 'E18_y', 'E18_m', 'E18_d', '0', '1', '2', '3', '4',\n",
       "       '5', '6', '7', '8', '9', '10', '11', '12', '13', '14'],\n",
       "      dtype='object')"
      ]
     },
     "execution_count": 10,
     "metadata": {},
     "output_type": "execute_result"
    }
   ],
   "source": [
    "print('There are {} columns in the feature set.'.format(X.shape[1]))\n",
    "X.columns"
   ]
  },
  {
   "cell_type": "markdown",
   "metadata": {},
   "source": [
    "### Descriptive Analysis"
   ]
  },
  {
   "cell_type": "code",
   "execution_count": 7,
   "metadata": {
    "scrolled": true
   },
   "outputs": [
    {
     "data": {
      "text/plain": [
       "count    1.452960e+05\n",
       "mean     2.100153e+05\n",
       "std      2.085014e+06\n",
       "min      0.000000e+00\n",
       "25%      0.000000e+00\n",
       "50%      0.000000e+00\n",
       "75%      1.200000e+05\n",
       "max      1.918000e+08\n",
       "Name: X1, dtype: float64"
      ]
     },
     "execution_count": 7,
     "metadata": {},
     "output_type": "execute_result"
    }
   ],
   "source": [
    "X['X1'].describe()"
   ]
  },
  {
   "cell_type": "markdown",
   "metadata": {},
   "source": [
    "# plt.hist(x=1, bins=10, density=True)\n",
    "plt.show()"
   ]
  },
  {
   "cell_type": "code",
   "execution_count": 55,
   "metadata": {},
   "outputs": [
    {
     "name": "stderr",
     "output_type": "stream",
     "text": [
      "/Users/Jinink/opt/anaconda3/lib/python3.7/site-packages/ipykernel_launcher.py:8: MatplotlibDeprecationWarning: savefig() got unexpected keyword argument \"bbox_tight\" which is no longer supported as of 3.3 and will become an error two minor releases later\n",
      "  \n"
     ]
    },
    {
     "data": {
      "image/png": "[encoded data removed]",
      "text/plain": [
       "<Figure size 576x396 with 1 Axes>"
      ]
     },
     "metadata": {},
     "output_type": "display_data"
    }
   ],
   "source": [
    "plt.style.use('seaborn')\n",
    "n, bins, patches = plt.hist(x=X['X1'], bins=1000, density=False)\n",
    "plt.xlim(0, 1000000)\n",
    "plt.xlabel('Amount of Structural Savings')\n",
    "plt.ylabel('Count')\n",
    "plt.title('Distribution of Structural Savings')\n",
    "plt.grid(True)\n",
    "plt.savefig('../results/structural_savings.png', dpi=100, bbox_tight=True)\n",
    "plt.show()"
   ]
  },
  {
   "cell_type": "code",
   "execution_count": 17,
   "metadata": {},
   "outputs": [
    {
     "data": {
      "text/plain": [
       "count    1.452960e+05\n",
       "mean     1.564474e+04\n",
       "std      1.204459e+06\n",
       "min      0.000000e+00\n",
       "25%      0.000000e+00\n",
       "50%      0.000000e+00\n",
       "75%      0.000000e+00\n",
       "max      3.320671e+08\n",
       "Name: X2, dtype: float64"
      ]
     },
     "execution_count": 17,
     "metadata": {},
     "output_type": "execute_result"
    }
   ],
   "source": [
    "X['X2'].describe()"
   ]
  },
  {
   "cell_type": "code",
   "execution_count": 18,
   "metadata": {
    "scrolled": true
   },
   "outputs": [
    {
     "data": {
      "text/plain": [
       "count    1.452960e+05\n",
       "mean     3.845892e+04\n",
       "std      6.380324e+05\n",
       "min      0.000000e+00\n",
       "25%      5.069000e+01\n",
       "50%      1.000670e+03\n",
       "75%      7.340833e+03\n",
       "max      1.420225e+08\n",
       "Name: X3, dtype: float64"
      ]
     },
     "execution_count": 18,
     "metadata": {},
     "output_type": "execute_result"
    }
   ],
   "source": [
    "X['X3'].describe()"
   ]
  },
  {
   "cell_type": "code",
   "execution_count": 26,
   "metadata": {},
   "outputs": [
    {
     "data": {
      "text/plain": [
       "count    145296.000000\n",
       "mean          1.466702\n",
       "std           8.612308\n",
       "min           0.000000\n",
       "25%           0.000000\n",
       "50%           0.000000\n",
       "75%           1.000000\n",
       "max        1152.000000\n",
       "Name: B2, dtype: float64"
      ]
     },
     "execution_count": 26,
     "metadata": {},
     "output_type": "execute_result"
    }
   ],
   "source": [
    "X['B2'].describe()"
   ]
  },
  {
   "cell_type": "code",
   "execution_count": 28,
   "metadata": {},
   "outputs": [
    {
     "data": {
      "text/plain": [
       "count    1.452960e+05\n",
       "mean     2.372900e+05\n",
       "std      4.966519e+06\n",
       "min      0.000000e+00\n",
       "25%      0.000000e+00\n",
       "50%      0.000000e+00\n",
       "75%      4.700000e+04\n",
       "max      9.072123e+08\n",
       "Name: B3, dtype: float64"
      ]
     },
     "execution_count": 28,
     "metadata": {},
     "output_type": "execute_result"
    }
   ],
   "source": [
    "X['B3'].describe()"
   ]
  },
  {
   "cell_type": "code",
   "execution_count": 68,
   "metadata": {
    "scrolled": true
   },
   "outputs": [
    {
     "name": "stderr",
     "output_type": "stream",
     "text": [
      "/Users/Jinink/opt/anaconda3/lib/python3.7/site-packages/ipykernel_launcher.py:8: MatplotlibDeprecationWarning: savefig() got unexpected keyword argument \"bbox_tight\" which is no longer supported as of 3.3 and will become an error two minor releases later\n",
      "  \n"
     ]
    },
    {
     "data": {
      "image/png": "[encoded data removed]",
      "text/plain": [
       "<Figure size 576x396 with 1 Axes>"
      ]
     },
     "metadata": {},
     "output_type": "display_data"
    }
   ],
   "source": [
    "plt.style.use('seaborn')\n",
    "n, bins, patches = plt.hist(x=X['B3'], bins=1500, density=False)\n",
    "plt.xlim(0, 2e6)\n",
    "plt.xlabel('Transfer-in Amount')\n",
    "plt.ylabel('Count')\n",
    "plt.title('Distribution of Transfer-in Amount')\n",
    "plt.grid(True)\n",
    "plt.savefig('../results/monthly_transfer_in.png', dpi=100, bbox_tight=True)\n",
    "plt.show()"
   ]
  },
  {
   "cell_type": "code",
   "execution_count": 69,
   "metadata": {
    "scrolled": true
   },
   "outputs": [
    {
     "data": {
      "text/plain": [
       "count    1.452960e+05\n",
       "mean     3.375237e+05\n",
       "std      2.388482e+06\n",
       "min      0.000000e+00\n",
       "25%      2.914863e+03\n",
       "50%      5.025255e+04\n",
       "75%      2.900042e+05\n",
       "max      1.918000e+08\n",
       "Name: C1, dtype: float64"
      ]
     },
     "execution_count": 69,
     "metadata": {},
     "output_type": "execute_result"
    }
   ],
   "source": [
    "X['C1'].describe()"
   ]
  },
  {
   "cell_type": "code",
   "execution_count": 70,
   "metadata": {},
   "outputs": [
    {
     "name": "stderr",
     "output_type": "stream",
     "text": [
      "/Users/Jinink/opt/anaconda3/lib/python3.7/site-packages/ipykernel_launcher.py:8: MatplotlibDeprecationWarning: savefig() got unexpected keyword argument \"bbox_tight\" which is no longer supported as of 3.3 and will become an error two minor releases later\n",
      "  \n"
     ]
    },
    {
     "data": {
      "image/png": "[encoded data removed]",
      "text/plain": [
       "<Figure size 576x396 with 1 Axes>"
      ]
     },
     "metadata": {},
     "output_type": "display_data"
    }
   ],
   "source": [
    "plt.style.use('seaborn')\n",
    "n, bins, patches = plt.hist(x=X['C1'], bins=1500, density=False)\n",
    "plt.xlim(0, 2e6)\n",
    "plt.xlabel('Monthly Assets')\n",
    "plt.ylabel('Count')\n",
    "plt.title('Distribution of Monthly Assets')\n",
    "plt.grid(True)\n",
    "plt.savefig('../results/monthly_assets.png', dpi=100, bbox_tight=True)\n",
    "plt.show()"
   ]
  },
  {
   "cell_type": "markdown",
   "metadata": {},
   "source": [
    "### Correlation"
   ]
  },
  {
   "cell_type": "code",
   "execution_count": 14,
   "metadata": {},
   "outputs": [],
   "source": [
    "Xfull = X_raw.merge(y, how='left', on='cust_no')\n",
    "corrMatrix = Xfull.corr()\n",
    "mask = np.zeros_like(corrMatrix)\n",
    "mask[np.triu_indices_from(mask)] = True"
   ]
  },
  {
   "cell_type": "code",
   "execution_count": 15,
   "metadata": {},
   "outputs": [
    {
     "data": {
      "image/png": "[encoded data removed]",
      "text/plain": [
       "<Figure size 360x360 with 2 Axes>"
      ]
     },
     "metadata": {
      "needs_background": "light"
     },
     "output_type": "display_data"
    }
   ],
   "source": [
    "fig, ax = plt.subplots(figsize=(5, 5))\n",
    "ax = sns.heatmap(\n",
    "    corrMatrix,\n",
    "    mask=mask,\n",
    "    vmin=-1, vmax=1, center=0,\n",
    "    cmap=sns.diverging_palette(220, 20, as_cmap=True),\n",
    "    square=True\n",
    ")\n",
    "ax.set_xticklabels(\n",
    "    ax.get_xticklabels(),\n",
    "    rotation=45,\n",
    "    horizontalalignment='right',\n",
    ")\n",
    "ax.set_title('Correlation Matrix')\n",
    "fig.savefig('../results/correlation_matrix.png', dpi=100)"
   ]
  }
 ],
 "metadata": {
  "kernelspec": {
   "display_name": "Python 3",
   "language": "python",
   "name": "python3"
  },
  "language_info": {
   "codemirror_mode": {
    "name": "ipython",
    "version": 3
   },
   "file_extension": ".py",
   "mimetype": "text/x-python",
   "name": "python",
   "nbconvert_exporter": "python",
   "pygments_lexer": "ipython3",
   "version": "3.7.6"
  }
 },
 "nbformat": 4,
 "nbformat_minor": 4
}
