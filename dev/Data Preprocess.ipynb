{
 "cells": [
  {
   "cell_type": "markdown",
   "metadata": {},
   "source": [
    "# Commercial Bank Customer Retention Prediction\n",
    "\n",
    "## APSTA-GE.2401: Statistical Consulting\n",
    "\n",
    "### Scripts"
   ]
  },
  {
   "cell_type": "markdown",
   "metadata": {},
   "source": [
    "## Data Pre-process"
   ]
  },
  {
   "cell_type": "markdown",
   "metadata": {},
   "source": [
    "### Code Book\n",
    "##### aum_m(Y) \n",
    "This data set contains customer's assest at the end of month Y.\n",
    "\n",
    "| Variable Name | Description |\n",
    "| ------------- | ------------- |\n",
    "| cust_no  | custumer's ID (primary key)  |\n",
    "| X1  | structured deposit balance |\n",
    "| X2  | time deposit balance  |\n",
    "| X3  | time deposit balance  |\n",
    "| X4  | financial products balance  |\n",
    "| X5  | fund balance  |\n",
    "| X6  | assest management balance  |\n",
    "| X7  | loan balance  |\n",
    "| X8  | large deposit certificate balance  |\n",
    "\n",
    "##### behavior_m(Y) \n",
    "This data set records customers' behaviors in month Y.\n",
    "B6 and B7 only have data of month 3, 6, 9 and 12.\n",
    "\n",
    "| Variable Name | Description |\n",
    "| ------------- | ------------- |\n",
    "| cust_no  | custumer's ID (primary key)  |\n",
    "| B1  | mobile banking login times |\n",
    "| B2  | transfer-in times |\n",
    "| B3  | transfer-in money amount  |\n",
    "| B4  | transfer-out times |\n",
    "| B5  | transfer-out money amount  |\n",
    "| B6  | lateset transfer time  |\n",
    "| B7  | number of transfers in a season |\n",
    "\n",
    "##### big_event_Q(Z)\n",
    "This data set records customers' important behaviors in the season Z.\n",
    "\n",
    "| Variable Name | Description |\n",
    "| ------------- | ------------- |\n",
    "| cust_no  | custumer's ID (primary key)  |\n",
    "| E1  | account opening date |\n",
    "| E2  | online banking opening date |\n",
    "| E3  | mobile banking opening date  |\n",
    "| E4  | first online banking login date |\n",
    "| E5  | first mobile banking login date |\n",
    "| E6  | first demand deposit date |\n",
    "| E7  | first time deposit date |\n",
    "| E8  | first loan date |\n",
    "| E9  | first overdue date |\n",
    "| E10  | first cash transaction date |\n",
    "| E11  | first bank-securities transfer date |\n",
    "| E12  | first transfer at counter date |\n",
    "| E13  | first transfer via online banking date |\n",
    "| E14  | first transfer via mobile banking date |\n",
    "| E15  | maximum amount transferred out of another bank |\n",
    "| E16  | maximum amount transferred out of another bank date |\n",
    "| E17  | Maximum transfer amount from other bank |\n",
    "| E18  | Maximum transfer amount from other bank date|\n",
    "\n",
    "#####  cunkuan_m(Y)\n",
    "This data set contains customers' deposits in month Y.\n",
    "\n",
    "| Variable Name | Description |\n",
    "| ------------- | ------------- |\n",
    "| cust_no  | custumer's ID (primary key)  |\n",
    "| C1  | deposit products value|\n",
    "| C2  | number of deposit products  |\n",
    "\n",
    "#####  cust_avli_Q(Z)\n",
    "This data set contains customers list in the season Z.\n",
    "\n",
    "| Variable Name | Description |\n",
    "| ------------- | ------------- |\n",
    "| cust_no  | custumer's ID (primary key)  |\n",
    "\n",
    "##### cust_info_q(Z)\n",
    "This data set contains customer information in the season Z.\n",
    "\n",
    "| Variable Name | Description |\n",
    "| ------------- | ------------- |\n",
    "| cust_no  | custumer's ID (primary key)  |\n",
    "| l1  | gender |\n",
    "| l2  | age |\n",
    "| l3  | class |\n",
    "| l4  | tag |\n",
    "| l5  | occupation |\n",
    "| l6  | deposit customer tag |\n",
    "| l7  | number of products owning |\n",
    "| l8  | constellation |\n",
    "| l9  | contribution |\n",
    "| l10  | education level |\n",
    "| l11  | family annual income |\n",
    "| l12  | field description |\n",
    "| l13  | marriage description |\n",
    "| l14  | occupation description |\n",
    "| l15  | QR code recipient |\n",
    "| l16  | VIP |\n",
    "| l17  | online banking client |\n",
    "| l18  | mobile banking client |\n",
    "| l19  | SMS client |\n",
    "| l20  | WeChat Pay client|"
   ]
  },
  {
   "cell_type": "code",
   "execution_count": 2,
   "metadata": {},
   "outputs": [],
   "source": [
    "import pandas as pd\n",
    "import csv\n",
    "import glob\n",
    "import re\n",
    "import os"
   ]
  },
  {
   "cell_type": "code",
   "execution_count": 12,
   "metadata": {},
   "outputs": [],
   "source": [
    "X_test = '../data/raw/x_test/'\n",
    "X_train = '../data/raw/x_train/'\n",
    "y_train_3 = '../data/raw/y_train_3/'"
   ]
  },
  {
   "cell_type": "markdown",
   "metadata": {},
   "source": [
    "### Load in Test Data"
   ]
  },
  {
   "cell_type": "code",
   "execution_count": 13,
   "metadata": {},
   "outputs": [],
   "source": [
    "aum_m1 = pd.read_csv(X_test + \"aum_test/aum_m1.csv\")\n",
    "aum_m2 = pd.read_csv(X_test + \"aum_test/aum_m2.csv\")\n",
    "aum_m3 = pd.read_csv(X_test + \"aum_test/aum_m3.csv\")\n",
    "\n",
    "behavior_m1 = pd.read_csv(X_test + \"behavior_test/behavior_m1.csv\")\n",
    "behavior_m2 = pd.read_csv(X_test + \"behavior_test/behavior_m2.csv\")\n",
    "behavior_m3 = pd.read_csv(X_test + \"behavior_test/behavior_m3.csv\")\n",
    "\n",
    "cunkuan_m1 = pd.read_csv(X_test + \"cunkuan_test/cunkuan_m1.csv\")\n",
    "cunkuan_m2 = pd.read_csv(X_test + \"cunkuan_test/cunkuan_m2.csv\")\n",
    "cunkuan_m3 = pd.read_csv(X_test + \"cunkuan_test/cunkuan_m3.csv\")\n",
    "\n",
    "big_event_Q1 = pd.read_csv(X_test + \"big_event_Q1.csv\")\n",
    "cust_avli_Q1 = pd.read_csv(X_test + \"cust_avli_Q1.csv\")\n",
    "cust_info_q1 = pd.read_csv(X_test + \"cust_info_q1.csv\")"
   ]
  },
  {
   "cell_type": "markdown",
   "metadata": {},
   "source": [
    "### Load in Train Data"
   ]
  },
  {
   "cell_type": "code",
   "execution_count": 17,
   "metadata": {},
   "outputs": [
    {
     "name": "stderr",
     "output_type": "stream",
     "text": [
      "/Users/timzhou/anaconda3/lib/python3.7/site-packages/IPython/core/interactiveshell.py:3057: DtypeWarning: Columns (9) have mixed types. Specify dtype option on import or set low_memory=False.\n",
      "  interactivity=interactivity, compiler=compiler, result=result)\n"
     ]
    }
   ],
   "source": [
    "aum_m7 = pd.read_csv(X_train + \"aum_train/aum_m7.csv\")\n",
    "aum_m8 = pd.read_csv(X_train + \"aum_train/aum_m8.csv\")\n",
    "aum_m9 = pd.read_csv(X_train + \"aum_train/aum_m9.csv\")\n",
    "aum_m10 = pd.read_csv(X_train + \"aum_train/aum_m10.csv\")\n",
    "aum_m11 = pd.read_csv(X_train + \"aum_train/aum_m11.csv\")\n",
    "aum_m12 = pd.read_csv(X_train + \"aum_train/aum_m12.csv\")\n",
    "\n",
    "behavior_m7 = pd.read_csv(X_train + \"behavior_train/behavior_m7.csv\")\n",
    "behavior_m8 = pd.read_csv(X_train + \"behavior_train/behavior_m8.csv\")\n",
    "behavior_m9 = pd.read_csv(X_train + \"behavior_train/behavior_m9.csv\")\n",
    "behavior_m10 = pd.read_csv(X_train + \"behavior_train/behavior_m10.csv\")\n",
    "behavior_m11 = pd.read_csv(X_train + \"behavior_train/behavior_m11.csv\")\n",
    "behavior_m12 = pd.read_csv(X_train + \"behavior_train/behavior_m12.csv\")\n",
    "\n",
    "big_event_Q3 = pd.read_csv(X_train + \"big_event_train/big_event_Q3.csv\")\n",
    "big_event_Q4 = pd.read_csv(X_train + \"big_event_train/big_event_Q4.csv\")\n",
    "\n",
    "cunkuan_m7 = pd.read_csv(X_train + \"cunkuan_train/cunkuan_m7.csv\")\n",
    "cunkuan_m8 = pd.read_csv(X_train + \"cunkuan_train/cunkuan_m8.csv\")\n",
    "cunkuan_m9 = pd.read_csv(X_train + \"cunkuan_train/cunkuan_m9.csv\")\n",
    "cunkuan_m10 = pd.read_csv(X_train + \"cunkuan_train/cunkuan_m10.csv\")\n",
    "cunkuan_m11 = pd.read_csv(X_train + \"cunkuan_train/cunkuan_m11.csv\")\n",
    "cunkuan_m12 = pd.read_csv(X_train + \"cunkuan_train/cunkuan_m12.csv\")\n",
    "\n",
    "cust_avli_Q3 = pd.read_csv(X_train + \"cust_avli_Q3.csv\")\n",
    "cust_avli_Q4 = pd.read_csv(X_train + \"cust_avli_Q4.csv\")\n",
    "\n",
    "cust_info_q3 = pd.read_csv(X_train + \"cust_info_q3.csv\")\n",
    "cust_info_q4 = pd.read_csv(X_train + \"cust_info_q4.csv\")"
   ]
  },
  {
   "cell_type": "code",
   "execution_count": 19,
   "metadata": {},
   "outputs": [],
   "source": [
    "y_Q3_3 = pd.read_csv(y_train_3 + \"y_Q3_3.csv\")\n",
    "y_Q4_3 = pd.read_csv(y_train_3 + \"y_Q4_3.csv\")"
   ]
  }
 ],
 "metadata": {
  "kernelspec": {
   "display_name": "Python 3",
   "language": "python",
   "name": "python3"
  },
  "language_info": {
   "codemirror_mode": {
    "name": "ipython",
    "version": 3
   },
   "file_extension": ".py",
   "mimetype": "text/x-python",
   "name": "python",
   "nbconvert_exporter": "python",
   "pygments_lexer": "ipython3",
   "version": "3.7.3"
  }
 },
 "nbformat": 4,
 "nbformat_minor": 2
}
