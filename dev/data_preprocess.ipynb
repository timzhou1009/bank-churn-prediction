{
 "cells": [
  {
   "cell_type": "markdown",
   "metadata": {},
   "source": [
    "# Commercial Bank Customer Retention Prediction\n",
    "\n",
    "## APSTA-GE.2401: Statistical Consulting\n",
    "\n",
    "## Scripts"
   ]
  },
  {
   "cell_type": "markdown",
   "metadata": {},
   "source": [
    "Created on: 12/04/2020\n",
    "\n",
    "Modified on: 12/08/2020"
   ]
  },
  {
   "cell_type": "markdown",
   "metadata": {},
   "source": [
    "## Data Preprocess"
   ]
  },
  {
   "cell_type": "markdown",
   "metadata": {},
   "source": [
    "### Description\n",
    "\n",
    "This script preprocesses the raw data originated from the competition data warehouse. There are three main data packages:\n",
    "\n",
    "- `x_train`: the train data package containing all features.\n",
    "- `y_train`: the data package for feature test.\n",
    "- `x_test`: the train data package for prediction. It contains the same features as `x_train`.\n",
    "\n",
    "### Procedures\n",
    "\n",
    "We started from examining the `y_train` because it contains labels that can validate our model predictions. `y_train` contains random sampled label data from two quarters: Q3_2020 and Q4_2020. Since the customer ID column, `cust_no`, only contains unique values, we determined our data processing strategies as follows:\n",
    "\n",
    "1. Use **quarter** to separate data processing procedures. We created two training sets, `X_train_Q3` and `X_train_Q4`, and merged them before applying models. In this way, we bypassed duplicated customer IDs in both `y_train` sets caused by random sampling. This allowed us to maximize the number of labels that can be validated.\n",
    "\n",
    "    - `y_Q3_3` contains 69126 rows, `y_Q3_3` contains 76170 rows.\n",
    "    - `y_train` has 62397 duplicated customer IDs. \n",
    "    - `y_train` has 40090 completely identical records (same customer ID, same label).\n",
    "    - Two samples are heavily overlapped.\n",
    "    - 22307 customers changed their churn preference from Q3 to Q4.\n",
    "    \n",
    "2. Based on quarterly-separated `y_train` set, we merged `X_train` raw data accordingly. For each quarter, we dropped duplicated customer IDs except for the last occurrance.\n",
    "\n",
    "3. During data preprocessing, we examined records in the `cust_avli` column of the `X_train` sets. These sets contain the ID of all effective customers. We confirmed that these ID are the same as those in the `y_train` set. Therefore, we trimmed the dataset based on the `cust_no` column in the `cust_avli`, separated by quarters.\n",
    "\n",
    "    - Confirmed that `cust_avli` is the key indexing column.\n",
    "    \n",
    "4. Merged and Trimmed datasets, saved data to `../data/preprocess`.\n",
    "\n",
    "### Trimmed Data\n",
    "\n",
    "After preprocessing, we have three sets:\n",
    "\n",
    "1. `X`: contains 145296 rows and 55 features.\n",
    "\n",
    "2. `y`: contains 145296 rows and 1 label column.\n",
    "\n",
    "3. `X_true`: hold-out set, contains 76722 rows and 55 features."
   ]
  },
  {
   "cell_type": "code",
   "execution_count": 2,
   "metadata": {
    "scrolled": true
   },
   "outputs": [
    {
     "name": "stdout",
     "output_type": "stream",
     "text": [
      "SUCCESS! All modules are imported.\n"
     ]
    }
   ],
   "source": [
    "import pandas as pd\n",
    "import numpy as np\n",
    "import csv\n",
    "import glob\n",
    "import re\n",
    "import os\n",
    "\n",
    "print('SUCCESS! All modules are imported.')"
   ]
  },
  {
   "cell_type": "code",
   "execution_count": 157,
   "metadata": {},
   "outputs": [],
   "source": [
    "def merge_file(path):\n",
    "    '''Concatenate files from path\n",
    "    Param: path: file path from which data are imported and concatenated\n",
    "    '''\n",
    "    file_names = [name for name in glob.glob(path)]\n",
    "    df_temp = (pd.read_csv(file) for file in file_names)\n",
    "    return(pd.concat(df_temp, ignore_index=True, axis='index'))"
   ]
  },
  {
   "cell_type": "markdown",
   "metadata": {},
   "source": [
    "----"
   ]
  },
  {
   "cell_type": "markdown",
   "metadata": {},
   "source": [
    "## y_train\n",
    "\n",
    "In this step, we proved that there were duplicated customer IDs in each `y_train` sets. We did not perform trimming because even for the same customer, it is possible that he/she changed his/her churn preference after a period of time."
   ]
  },
  {
   "cell_type": "code",
   "execution_count": 261,
   "metadata": {},
   "outputs": [],
   "source": [
    "path = '../data/raw/y_train_3/y_Q[34]_3.csv'\n",
    "y_train = merge_file(path)"
   ]
  },
  {
   "cell_type": "code",
   "execution_count": 476,
   "metadata": {},
   "outputs": [],
   "source": [
    "y_train.to_csv('../data/preprocess/y_train.csv', index=False)"
   ]
  },
  {
   "cell_type": "code",
   "execution_count": 280,
   "metadata": {},
   "outputs": [],
   "source": [
    "path = '../data/raw/y_train_3/'\n",
    "y_Q3_3 = pd.read_csv(path + 'y_Q3_3.csv')\n",
    "y_Q4_3 = pd.read_csv(path + 'y_Q4_3.csv')"
   ]
  },
  {
   "cell_type": "code",
   "execution_count": 281,
   "metadata": {},
   "outputs": [],
   "source": [
    "# Index for trimming\n",
    "idxQ3 = y_Q3_3['cust_no']\n",
    "idxQ4 = y_Q4_3['cust_no']"
   ]
  },
  {
   "cell_type": "code",
   "execution_count": 294,
   "metadata": {},
   "outputs": [
    {
     "name": "stdout",
     "output_type": "stream",
     "text": [
      "69126\n",
      "76170\n"
     ]
    }
   ],
   "source": [
    "print(len(idxQ3))\n",
    "print(len(idxQ4))"
   ]
  },
  {
   "cell_type": "code",
   "execution_count": 287,
   "metadata": {},
   "outputs": [],
   "source": [
    "def trim_by_quarter(dat, isQ3):\n",
    "    '''Trim the data by quarterly index\n",
    "    Param: dat: imported data\n",
    "    Param: isQ3: binary, 1 if Q3; 0 if else\n",
    "    '''\n",
    "    if isQ3:\n",
    "        return(dat[dat['cust_no'].isin(idxQ3)])\n",
    "    else:\n",
    "        return(dat[dat['cust_no'].isin(idxQ4)])"
   ]
  },
  {
   "cell_type": "code",
   "execution_count": 265,
   "metadata": {},
   "outputs": [
    {
     "name": "stdout",
     "output_type": "stream",
     "text": [
      "True\n",
      "True\n"
     ]
    }
   ],
   "source": [
    "# FOR DISPLAY PURPOSE. SKIP THIS CHUNK.\n",
    "# Confirm that all customer IDs are unique\n",
    "print(len(y_Q3_3['cust_no'].value_counts()) == y_Q3_3.shape[0])\n",
    "print(len(y_Q4_3['cust_no'].value_counts()) == y_Q4_3.shape[0])"
   ]
  },
  {
   "cell_type": "code",
   "execution_count": 266,
   "metadata": {
    "scrolled": true
   },
   "outputs": [
    {
     "name": "stdout",
     "output_type": "stream",
     "text": [
      "y_Q3_3 has 69126 rows and 2 columns.\n",
      "y_Q4_3 has 76170 rows and 2 columns.\n",
      "y_train has 145296 rows and 2 columns.\n",
      "y_train has 62397 duplicated customer IDs.\n",
      "y_train has 40090 completely identical records.\n",
      "22307 customers changed their churn preference from Q3 to Q4.\n"
     ]
    }
   ],
   "source": [
    "# FOR DISPLAY PURPOSE. SKIP THIS CHUNK.\n",
    "print('y_Q3_3 has {} rows and {} columns.'.format(y_Q3_3.shape[0], y_Q3_3.shape[1]))\n",
    "print('y_Q4_3 has {} rows and {} columns.'.format(y_Q4_3.shape[0], y_Q4_3.shape[1]))\n",
    "print('y_train has {} rows and {} columns.'.format(y_train.shape[0], y_train.shape[1]))\n",
    "print('y_train has {} duplicated customer IDs.'.format(y_train['cust_no'].duplicated().sum()))\n",
    "print('y_train has {} completely identical records.'.format(y_train.duplicated().sum()))\n",
    "print('{} customers changed their churn preference from Q3 to Q4.'.format(\n",
    "    y_train['cust_no'].duplicated().sum()-y_train.duplicated().sum()))"
   ]
  },
  {
   "cell_type": "markdown",
   "metadata": {},
   "source": [
    "----"
   ]
  },
  {
   "cell_type": "markdown",
   "metadata": {},
   "source": [
    "### Sample Submission File"
   ]
  },
  {
   "cell_type": "code",
   "execution_count": 244,
   "metadata": {},
   "outputs": [
    {
     "name": "stdout",
     "output_type": "stream",
     "text": [
      "Sample submission file has 76722 rows and 2 columns.\n"
     ]
    },
    {
     "data": {
      "text/html": [
       "<div>\n",
       "<style scoped>\n",
       "    .dataframe tbody tr th:only-of-type {\n",
       "        vertical-align: middle;\n",
       "    }\n",
       "\n",
       "    .dataframe tbody tr th {\n",
       "        vertical-align: top;\n",
       "    }\n",
       "\n",
       "    .dataframe thead th {\n",
       "        text-align: right;\n",
       "    }\n",
       "</style>\n",
       "<table border=\"1\" class=\"dataframe\">\n",
       "  <thead>\n",
       "    <tr style=\"text-align: right;\">\n",
       "      <th></th>\n",
       "      <th>cust_no</th>\n",
       "      <th>label</th>\n",
       "    </tr>\n",
       "  </thead>\n",
       "  <tbody>\n",
       "    <tr>\n",
       "      <th>0</th>\n",
       "      <td>0x3b9b4615</td>\n",
       "      <td>0</td>\n",
       "    </tr>\n",
       "    <tr>\n",
       "      <th>1</th>\n",
       "      <td>0x3b9ae61b</td>\n",
       "      <td>0</td>\n",
       "    </tr>\n",
       "    <tr>\n",
       "      <th>2</th>\n",
       "      <td>0x3b9add69</td>\n",
       "      <td>0</td>\n",
       "    </tr>\n",
       "    <tr>\n",
       "      <th>3</th>\n",
       "      <td>0x3b9b3601</td>\n",
       "      <td>0</td>\n",
       "    </tr>\n",
       "    <tr>\n",
       "      <th>4</th>\n",
       "      <td>0x3b9b2599</td>\n",
       "      <td>0</td>\n",
       "    </tr>\n",
       "  </tbody>\n",
       "</table>\n",
       "</div>"
      ],
      "text/plain": [
       "      cust_no  label\n",
       "0  0x3b9b4615      0\n",
       "1  0x3b9ae61b      0\n",
       "2  0x3b9add69      0\n",
       "3  0x3b9b3601      0\n",
       "4  0x3b9b2599      0"
      ]
     },
     "metadata": {},
     "output_type": "display_data"
    }
   ],
   "source": [
    "# FOR DISPLAY PURPOSE. SKIP THIS CHUNK.\n",
    "sample = pd.read_csv('../instructions/sample_submission.csv')\n",
    "print('Sample submission file has {} rows and {} columns.'.format(sample.shape[0], sample.shape[1]))\n",
    "display(sample.head())"
   ]
  },
  {
   "cell_type": "markdown",
   "metadata": {},
   "source": [
    "----"
   ]
  },
  {
   "cell_type": "markdown",
   "metadata": {},
   "source": [
    "## X_train"
   ]
  },
  {
   "cell_type": "code",
   "execution_count": 461,
   "metadata": {},
   "outputs": [],
   "source": [
    "X_train_Q3 = y_Q3_3.drop('label', axis=1).copy()\n",
    "X_train_Q4 = y_Q4_3.drop('label', axis=1).copy()"
   ]
  },
  {
   "cell_type": "markdown",
   "metadata": {},
   "source": [
    "### Customer Assets (aum)"
   ]
  },
  {
   "cell_type": "code",
   "execution_count": 377,
   "metadata": {},
   "outputs": [],
   "source": [
    "# Q3\n",
    "path = '../data/raw/x_train/aum_m[789].csv'\n",
    "aum_Q3 = merge_file(path)"
   ]
  },
  {
   "cell_type": "code",
   "execution_count": 378,
   "metadata": {},
   "outputs": [],
   "source": [
    "# Q4\n",
    "path = '../data/raw/x_train/aum_m1[012].csv'\n",
    "aum_Q4 = merge_file(path)"
   ]
  },
  {
   "cell_type": "code",
   "execution_count": 379,
   "metadata": {},
   "outputs": [],
   "source": [
    "# Drop duplicated customer IDs except for the last occurrance\n",
    "aum_Q3 = aum_Q3.drop_duplicates(subset=['cust_no'], keep='last')\n",
    "aum_Q4 = aum_Q4.drop_duplicates(subset=['cust_no'], keep='last')"
   ]
  },
  {
   "cell_type": "code",
   "execution_count": 380,
   "metadata": {},
   "outputs": [
    {
     "name": "stdout",
     "output_type": "stream",
     "text": [
      "After dropping duplicated customer IDs, aum_Q3 has 493441 rows and 9 columns.\n",
      "After dropping duplicated customer IDs, aum_Q4 has 543823 rows and 9 columns.\n"
     ]
    }
   ],
   "source": [
    "# FOR DISPLAY PURPOSE. SKIP THIS CHUNK.\n",
    "print('After dropping duplicated customer IDs, aum_Q3 has {} rows and {} columns.'.format(aum_Q3.shape[0], aum_Q3.shape[1]))\n",
    "print('After dropping duplicated customer IDs, aum_Q4 has {} rows and {} columns.'.format(aum_Q4.shape[0], aum_Q4.shape[1]))"
   ]
  },
  {
   "cell_type": "code",
   "execution_count": 381,
   "metadata": {},
   "outputs": [],
   "source": [
    "# Trim by the customer IDs in `y_train` set, separated by quarter\n",
    "aum_Q3 = trim_by_quarter(aum_Q3, True)\n",
    "aum_Q4 = trim_by_quarter(aum_Q4, False)"
   ]
  },
  {
   "cell_type": "code",
   "execution_count": 382,
   "metadata": {
    "scrolled": true
   },
   "outputs": [
    {
     "name": "stdout",
     "output_type": "stream",
     "text": [
      "After trimming, aum_Q3 has 69126 rows and 9 columns.\n",
      "After trimming, aum_Q4 has 76170 rows and 9 columns.\n"
     ]
    }
   ],
   "source": [
    "# FOR DISPLAY PURPOSE. SKIP THIS CHUNK.\n",
    "print('After trimming, aum_Q3 has {} rows and {} columns.'.format(aum_Q3.shape[0], aum_Q3.shape[1]))\n",
    "print('After trimming, aum_Q4 has {} rows and {} columns.'.format(aum_Q4.shape[0], aum_Q4.shape[1]))"
   ]
  },
  {
   "cell_type": "code",
   "execution_count": 386,
   "metadata": {},
   "outputs": [],
   "source": [
    "# Save to archive\n",
    "aum_Q3.to_csv('../data/preprocess/archive/aum_Q3.csv', index=False)\n",
    "aum_Q4.to_csv('../data/preprocess/archive/aum_Q4.csv', index=False)"
   ]
  },
  {
   "cell_type": "code",
   "execution_count": 462,
   "metadata": {},
   "outputs": [],
   "source": [
    "# Merge to X_train\n",
    "X_train_Q3 = X_train_Q3.merge(aum_Q3, how='left', on='cust_no')\n",
    "X_train_Q4 = X_train_Q4.merge(aum_Q4, how='left', on='cust_no')"
   ]
  },
  {
   "cell_type": "markdown",
   "metadata": {},
   "source": [
    "### Customer Behavior (behavior)"
   ]
  },
  {
   "cell_type": "code",
   "execution_count": 184,
   "metadata": {},
   "outputs": [],
   "source": [
    "# Q3\n",
    "path = '../data/raw/x_train/behavior_m[789].csv'\n",
    "behavior_Q3 = merge_file(path)"
   ]
  },
  {
   "cell_type": "code",
   "execution_count": 185,
   "metadata": {},
   "outputs": [],
   "source": [
    "# Q4\n",
    "path = '../data/raw/x_train/behavior_m1[012].csv'\n",
    "behavior_Q4 = merge_file(path)"
   ]
  },
  {
   "cell_type": "code",
   "execution_count": 186,
   "metadata": {},
   "outputs": [],
   "source": [
    "# Drop duplicated customer IDs except for the last occurrance\n",
    "behavior_Q3 = behavior_Q3.drop_duplicates(subset=['cust_no'], keep='last')\n",
    "behavior_Q4 = behavior_Q4.drop_duplicates(subset=['cust_no'], keep='last')"
   ]
  },
  {
   "cell_type": "code",
   "execution_count": 187,
   "metadata": {},
   "outputs": [
    {
     "name": "stdout",
     "output_type": "stream",
     "text": [
      "After dropping duplicated customer IDs, behavior_Q3 has 493441 rows and 8 columns.\n",
      "After dropping duplicated customer IDs, behavior_Q4 has 543823 rows and 8 columns.\n"
     ]
    }
   ],
   "source": [
    "# FOR DISPLAY PURPOSE. SKIP THIS CHUNK.\n",
    "print('After dropping duplicated customer IDs, behavior_Q3 has {} rows and {} columns.'.format(behavior_Q3.shape[0], behavior_Q3.shape[1]))\n",
    "print('After dropping duplicated customer IDs, behavior_Q4 has {} rows and {} columns.'.format(behavior_Q4.shape[0], behavior_Q4.shape[1]))"
   ]
  },
  {
   "cell_type": "code",
   "execution_count": 389,
   "metadata": {},
   "outputs": [],
   "source": [
    "# Trim by the customer IDs in `y_train` set, separated by quarter\n",
    "behavior_Q3 = trim_by_quarter(behavior_Q3, True)\n",
    "behavior_Q4 = trim_by_quarter(behavior_Q4, False)"
   ]
  },
  {
   "cell_type": "code",
   "execution_count": 390,
   "metadata": {},
   "outputs": [
    {
     "name": "stdout",
     "output_type": "stream",
     "text": [
      "After trimming, behavior_Q3 has 69126 rows and 8 columns.\n",
      "After trimming, behavior_Q4 has 76170 rows and 8 columns.\n"
     ]
    }
   ],
   "source": [
    "# FOR DISPLAY PURPOSE. SKIP THIS CHUNK.\n",
    "print('After trimming, behavior_Q3 has {} rows and {} columns.'.format(behavior_Q3.shape[0], behavior_Q3.shape[1]))\n",
    "print('After trimming, behavior_Q4 has {} rows and {} columns.'.format(behavior_Q4.shape[0], behavior_Q4.shape[1]))"
   ]
  },
  {
   "cell_type": "code",
   "execution_count": 391,
   "metadata": {},
   "outputs": [],
   "source": [
    "# Save to archive\n",
    "behavior_Q3.to_csv('../data/preprocess/archive/behavior_Q3.csv', index=False)\n",
    "behavior_Q4.to_csv('../data/preprocess/archive/behavior_Q4.csv', index=False)"
   ]
  },
  {
   "cell_type": "code",
   "execution_count": 463,
   "metadata": {},
   "outputs": [],
   "source": [
    "# Merge to X_train\n",
    "X_train_Q3 = X_train_Q3.merge(behavior_Q3, how='left', on='cust_no')\n",
    "X_train_Q4 = X_train_Q4.merge(behavior_Q4, how='left', on='cust_no')"
   ]
  },
  {
   "cell_type": "markdown",
   "metadata": {},
   "source": [
    "### Important Customer Behavior (big_event)"
   ]
  },
  {
   "cell_type": "code",
   "execution_count": 189,
   "metadata": {},
   "outputs": [
    {
     "name": "stderr",
     "output_type": "stream",
     "text": [
      "<ipython-input-157-cee1144e6e7f>:7: DtypeWarning: Columns (9) have mixed types.Specify dtype option on import or set low_memory=False.\n",
      "  return(pd.concat(df_temp, ignore_index=True, axis='index'))\n"
     ]
    }
   ],
   "source": [
    "# Q3\n",
    "path = '../data/raw/x_train/big_event_Q3.csv'\n",
    "big_event_Q3 = merge_file(path)"
   ]
  },
  {
   "cell_type": "code",
   "execution_count": 190,
   "metadata": {},
   "outputs": [],
   "source": [
    "# Q4\n",
    "path = '../data/raw/x_train/big_event_Q4.csv'\n",
    "big_event_Q4 = merge_file(path)"
   ]
  },
  {
   "cell_type": "code",
   "execution_count": 193,
   "metadata": {},
   "outputs": [],
   "source": [
    "# Drop duplicated customer IDs except for the last occurrance\n",
    "big_event_Q3 = big_event_Q3.drop_duplicates(subset=['cust_no'], keep='last')\n",
    "big_event_Q3 = big_event_Q4.drop_duplicates(subset=['cust_no'], keep='last')"
   ]
  },
  {
   "cell_type": "code",
   "execution_count": 194,
   "metadata": {},
   "outputs": [
    {
     "name": "stdout",
     "output_type": "stream",
     "text": [
      "After dropping duplicated customer IDs, big_event_Q3 has 493441 rows and 19 columns.\n",
      "After dropping duplicated customer IDs, big_event_Q4 has 543823 rows and 19 columns.\n"
     ]
    }
   ],
   "source": [
    "# FOR DISPLAY PURPOSE. SKIP THIS CHUNK.\n",
    "print('After dropping duplicated customer IDs, big_event_Q3 has {} rows and {} columns.'.format(big_event_Q3.shape[0], big_event_Q3.shape[1]))\n",
    "print('After dropping duplicated customer IDs, big_event_Q4 has {} rows and {} columns.'.format(big_event_Q4.shape[0], big_event_Q4.shape[1]))"
   ]
  },
  {
   "cell_type": "code",
   "execution_count": 393,
   "metadata": {},
   "outputs": [],
   "source": [
    "# Trim by the customer IDs in `y_train` set, separated by quarter\n",
    "big_event_Q3 = trim_by_quarter(big_event_Q3, True)\n",
    "big_event_Q4 = trim_by_quarter(big_event_Q4, False)"
   ]
  },
  {
   "cell_type": "code",
   "execution_count": 394,
   "metadata": {},
   "outputs": [
    {
     "name": "stdout",
     "output_type": "stream",
     "text": [
      "After trimming, big_event_Q3 has 69126 rows and 19 columns.\n",
      "After trimming, big_event_Q4 has 76170 rows and 19 columns.\n"
     ]
    }
   ],
   "source": [
    "# FOR DISPLAY PURPOSE. SKIP THIS CHUNK.\n",
    "print('After trimming, big_event_Q3 has {} rows and {} columns.'.format(big_event_Q3.shape[0], big_event_Q3.shape[1]))\n",
    "print('After trimming, big_event_Q4 has {} rows and {} columns.'.format(big_event_Q4.shape[0], big_event_Q4.shape[1]))"
   ]
  },
  {
   "cell_type": "code",
   "execution_count": 395,
   "metadata": {},
   "outputs": [],
   "source": [
    "# Save to archive\n",
    "big_event_Q3.to_csv('../data/preprocess/archive/big_event_Q3.csv', index=False)\n",
    "big_event_Q4.to_csv('../data/preprocess/archive/big_event_Q4.csv', index=False)"
   ]
  },
  {
   "cell_type": "code",
   "execution_count": 464,
   "metadata": {},
   "outputs": [],
   "source": [
    "# Merge to X_train\n",
    "X_train_Q3 = X_train_Q3.merge(big_event_Q3, how='left', on='cust_no')\n",
    "X_train_Q4 = X_train_Q4.merge(big_event_Q4, how='left', on='cust_no')"
   ]
  },
  {
   "cell_type": "markdown",
   "metadata": {},
   "source": [
    "### Customer Deposits (cunkuan)"
   ]
  },
  {
   "cell_type": "code",
   "execution_count": 398,
   "metadata": {},
   "outputs": [],
   "source": [
    "# Q3\n",
    "path = '../data/raw/x_train/cunkuan_m[789].csv'\n",
    "savings_Q3 = merge_file(path)"
   ]
  },
  {
   "cell_type": "code",
   "execution_count": 399,
   "metadata": {},
   "outputs": [],
   "source": [
    "# Q4\n",
    "path = '../data/raw/x_train/cunkuan_m1[012].csv'\n",
    "savings_Q4 = merge_file(path)"
   ]
  },
  {
   "cell_type": "code",
   "execution_count": 400,
   "metadata": {},
   "outputs": [],
   "source": [
    "# Drop duplicated customer IDs except for the last occurrance\n",
    "savings_Q3 = savings_Q3.drop_duplicates(subset=['cust_no'], keep='last')\n",
    "savings_Q4 = savings_Q4.drop_duplicates(subset=['cust_no'], keep='last')"
   ]
  },
  {
   "cell_type": "code",
   "execution_count": 401,
   "metadata": {},
   "outputs": [
    {
     "name": "stdout",
     "output_type": "stream",
     "text": [
      "After dropping duplicated customer IDs, savings_Q3 has 200721 rows and 3 columns.\n",
      "After dropping duplicated customer IDs, savings_Q4 has 237049 rows and 3 columns.\n"
     ]
    }
   ],
   "source": [
    "# FOR DISPLAY PURPOSE. SKIP THIS CHUNK.\n",
    "print('After dropping duplicated customer IDs, savings_Q3 has {} rows and {} columns.'.format(savings_Q3.shape[0], savings_Q3.shape[1]))\n",
    "print('After dropping duplicated customer IDs, savings_Q4 has {} rows and {} columns.'.format(savings_Q4.shape[0], savings_Q4.shape[1]))"
   ]
  },
  {
   "cell_type": "code",
   "execution_count": 402,
   "metadata": {},
   "outputs": [],
   "source": [
    "# Trim by the customer IDs in `y_train` set, separated by quarter\n",
    "savings_Q3 = trim_by_quarter(savings_Q3, True)\n",
    "savings_Q4 = trim_by_quarter(savings_Q4, False)"
   ]
  },
  {
   "cell_type": "code",
   "execution_count": 403,
   "metadata": {},
   "outputs": [
    {
     "name": "stdout",
     "output_type": "stream",
     "text": [
      "After trimming, savings_Q3 has 69122 rows and 3 columns.\n",
      "After trimming, savings_Q4 has 76167 rows and 3 columns.\n"
     ]
    }
   ],
   "source": [
    "# FOR DISPLAY PURPOSE. SKIP THIS CHUNK.\n",
    "print('After trimming, savings_Q3 has {} rows and {} columns.'.format(savings_Q3.shape[0], savings_Q3.shape[1]))\n",
    "print('After trimming, savings_Q4 has {} rows and {} columns.'.format(savings_Q4.shape[0], savings_Q4.shape[1]))"
   ]
  },
  {
   "cell_type": "code",
   "execution_count": 404,
   "metadata": {},
   "outputs": [],
   "source": [
    "# Save to archive\n",
    "savings_Q3.to_csv('../data/preprocess/archive/savings_Q3.csv', index=False)\n",
    "savings_Q4.to_csv('../data/preprocess/archive/savings_Q4.csv', index=False)"
   ]
  },
  {
   "cell_type": "code",
   "execution_count": 465,
   "metadata": {},
   "outputs": [],
   "source": [
    "# Merge to X_train\n",
    "X_train_Q3 = X_train_Q3.merge(savings_Q3, how='left', on='cust_no')\n",
    "X_train_Q4 = X_train_Q4.merge(savings_Q4, how='left', on='cust_no')"
   ]
  },
  {
   "cell_type": "markdown",
   "metadata": {},
   "source": [
    "### Valid Customer (cust_avli)\n",
    "\n",
    "Valid customer set contains customer IDs that are same as those in the test set."
   ]
  },
  {
   "cell_type": "code",
   "execution_count": 204,
   "metadata": {},
   "outputs": [],
   "source": [
    "# Q3\n",
    "path = '../data/raw/x_train/cust_avli_Q3.csv'\n",
    "cust_avli_Q3 = merge_file(path)"
   ]
  },
  {
   "cell_type": "code",
   "execution_count": 205,
   "metadata": {},
   "outputs": [],
   "source": [
    "# Q4\n",
    "path = '../data/raw/x_train/cust_avli_Q4.csv'\n",
    "cust_avli_Q4 = merge_file(path)"
   ]
  },
  {
   "cell_type": "code",
   "execution_count": 212,
   "metadata": {},
   "outputs": [
    {
     "name": "stdout",
     "output_type": "stream",
     "text": [
      "cust_avli_Q3 has 69126 rows and 1 columns.\n",
      "cust_avli_Q4 has 76170 rows and 1 columns.\n"
     ]
    }
   ],
   "source": [
    "# FOR DISPLAY PURPOSE. SKIP THIS CHUNK.\n",
    "print('cust_avli_Q3 has {} rows and {} columns.'.format(cust_avli_Q3.shape[0], cust_avli_Q3.shape[1]))\n",
    "print('cust_avli_Q4 has {} rows and {} columns.'.format(cust_avli_Q4.shape[0], cust_avli_Q4.shape[1]))"
   ]
  },
  {
   "cell_type": "code",
   "execution_count": 211,
   "metadata": {
    "scrolled": true
   },
   "outputs": [
    {
     "name": "stdout",
     "output_type": "stream",
     "text": [
      "True\n",
      "True\n"
     ]
    }
   ],
   "source": [
    "# FOR DISPLAY PURPOSE. SKIP THIS CHUNK.\n",
    "# Confirm that valid customers are the same as those in the test set\n",
    "print(len(cust_avli_Q3.value_counts()) == y_Q3_3.shape[0])\n",
    "print(len(cust_avli_Q4.value_counts()) == y_Q4_3.shape[0])"
   ]
  },
  {
   "cell_type": "markdown",
   "metadata": {},
   "source": [
    "### Customer Trivias (cust_info)"
   ]
  },
  {
   "cell_type": "code",
   "execution_count": 451,
   "metadata": {},
   "outputs": [],
   "source": [
    "# Q3\n",
    "path = '../data/raw/x_train/cust_info_q3.csv'\n",
    "cust_info_Q3 = merge_file(path)"
   ]
  },
  {
   "cell_type": "code",
   "execution_count": 452,
   "metadata": {},
   "outputs": [],
   "source": [
    "# Q4\n",
    "path = '../data/raw/x_train/cust_info_q4.csv'\n",
    "cust_info_Q4 = merge_file(path)"
   ]
  },
  {
   "cell_type": "code",
   "execution_count": 453,
   "metadata": {},
   "outputs": [],
   "source": [
    "# Drop duplicated customer IDs except for the last occurrance\n",
    "cust_info_Q3 = cust_info_Q3.drop_duplicates(subset=['cust_no'], keep='last')\n",
    "cust_info_Q4 = cust_info_Q4.drop_duplicates(subset=['cust_no'], keep='last')"
   ]
  },
  {
   "cell_type": "code",
   "execution_count": 454,
   "metadata": {
    "scrolled": true
   },
   "outputs": [
    {
     "name": "stdout",
     "output_type": "stream",
     "text": [
      "After dropping duplicated customer IDs, cust_info_Q3 has 493441 rows and 21 columns.\n",
      "After dropping duplicated customer IDs, cust_info_Q4 has 543823 rows and 21 columns.\n"
     ]
    }
   ],
   "source": [
    "# FOR DISPLAY PURPOSE. SKIP THIS CHUNK.\n",
    "print('After dropping duplicated customer IDs, cust_info_Q3 has {} rows and {} columns.'.format(cust_info_Q3.shape[0], cust_info_Q3.shape[1]))\n",
    "print('After dropping duplicated customer IDs, cust_info_Q4 has {} rows and {} columns.'.format(cust_info_Q4.shape[0], cust_info_Q4.shape[1]))"
   ]
  },
  {
   "cell_type": "code",
   "execution_count": 455,
   "metadata": {},
   "outputs": [],
   "source": [
    "# Trim by the customer IDs in `y_train` set, separated by quarter\n",
    "cust_info_Q3 = trim_by_quarter(cust_info_Q3, True)\n",
    "cust_info_Q4 = trim_by_quarter(cust_info_Q4, False)"
   ]
  },
  {
   "cell_type": "code",
   "execution_count": 456,
   "metadata": {},
   "outputs": [
    {
     "name": "stdout",
     "output_type": "stream",
     "text": [
      "After trimming, cust_info_Q3 has 69126 rows and 21 columns.\n",
      "After trimming, cust_info_Q4 has 76170 rows and 21 columns.\n"
     ]
    }
   ],
   "source": [
    "# FOR DISPLAY PURPOSE. SKIP THIS CHUNK.\n",
    "print('After trimming, cust_info_Q3 has {} rows and {} columns.'.format(cust_info_Q3.shape[0], cust_info_Q3.shape[1]))\n",
    "print('After trimming, cust_info_Q4 has {} rows and {} columns.'.format(cust_info_Q4.shape[0], cust_info_Q4.shape[1]))"
   ]
  },
  {
   "cell_type": "code",
   "execution_count": 457,
   "metadata": {},
   "outputs": [],
   "source": [
    "# Save to archive\n",
    "cust_info_Q3.to_csv('../data/preprocess/archive/cust_info_Q3.csv', index=False)\n",
    "cust_info_Q4.to_csv('../data/preprocess/archive/cust_info_Q4.csv', index=False)"
   ]
  },
  {
   "cell_type": "code",
   "execution_count": 470,
   "metadata": {},
   "outputs": [],
   "source": [
    "# Merge to X_train\n",
    "X_train_Q3 = X_train_Q3.merge(cust_info_Q3, how='left', on='cust_no')\n",
    "X_train_Q4 = X_train_Q4.merge(cust_info_Q4, how='left', on='cust_no')"
   ]
  },
  {
   "cell_type": "markdown",
   "metadata": {},
   "source": [
    "### X_Train Ready"
   ]
  },
  {
   "cell_type": "code",
   "execution_count": 471,
   "metadata": {},
   "outputs": [
    {
     "name": "stdout",
     "output_type": "stream",
     "text": [
      "(69126, 56)\n",
      "(76170, 56)\n"
     ]
    }
   ],
   "source": [
    "print(X_train_Q3.shape)\n",
    "print(X_train_Q4.shape)"
   ]
  },
  {
   "cell_type": "code",
   "execution_count": 472,
   "metadata": {},
   "outputs": [],
   "source": [
    "X_train_Q3.to_csv('../data/preprocess/archive/X_train_Q3.csv', index=False)\n",
    "X_train_Q4.to_csv('../data/preprocess/archive/X_train_Q4.csv', index=False)"
   ]
  },
  {
   "cell_type": "code",
   "execution_count": 473,
   "metadata": {},
   "outputs": [],
   "source": [
    "X_train = X_train_Q3.append(X_train_Q4)"
   ]
  },
  {
   "cell_type": "code",
   "execution_count": 474,
   "metadata": {},
   "outputs": [
    {
     "data": {
      "text/plain": [
       "(145296, 56)"
      ]
     },
     "execution_count": 474,
     "metadata": {},
     "output_type": "execute_result"
    }
   ],
   "source": [
    "X_train.shape"
   ]
  },
  {
   "cell_type": "code",
   "execution_count": 475,
   "metadata": {},
   "outputs": [],
   "source": [
    "X_train.to_csv('../data/preprocess/X_train.csv', index=False)"
   ]
  },
  {
   "cell_type": "markdown",
   "metadata": {},
   "source": [
    "----"
   ]
  },
  {
   "cell_type": "markdown",
   "metadata": {},
   "source": [
    "## X_test"
   ]
  },
  {
   "cell_type": "markdown",
   "metadata": {},
   "source": [
    "### Customer Assets (aum)"
   ]
  },
  {
   "cell_type": "code",
   "execution_count": 220,
   "metadata": {},
   "outputs": [],
   "source": [
    "# Q1\n",
    "path = '../data/raw/x_test/aum_m[123].csv'\n",
    "aum_Q1 = merge_file(path)"
   ]
  },
  {
   "cell_type": "code",
   "execution_count": 221,
   "metadata": {},
   "outputs": [],
   "source": [
    "# Drop duplicated customer IDs except for the last occurrance\n",
    "aum_Q1 = aum_Q1.drop_duplicates(subset=['cust_no'], keep='last')"
   ]
  },
  {
   "cell_type": "code",
   "execution_count": 222,
   "metadata": {},
   "outputs": [
    {
     "name": "stdout",
     "output_type": "stream",
     "text": [
      "After dropping duplicated customer IDs, aum_Q1 has 659624 rows and 9 columns.\n"
     ]
    }
   ],
   "source": [
    "# FOR DISPLAY PURPOSE. SKIP THIS CHUNK.\n",
    "print('After dropping duplicated customer IDs, aum_Q1 has {} rows and {} columns.'.format(aum_Q1.shape[0], aum_Q1.shape[1]))"
   ]
  },
  {
   "cell_type": "markdown",
   "metadata": {},
   "source": [
    "### Customer Behavior (behavior)"
   ]
  },
  {
   "cell_type": "code",
   "execution_count": 246,
   "metadata": {},
   "outputs": [],
   "source": [
    "# Q1\n",
    "path = '../data/raw/x_test/behavior_m[123].csv'\n",
    "behavior_Q1 = merge_file(path)"
   ]
  },
  {
   "cell_type": "code",
   "execution_count": 247,
   "metadata": {},
   "outputs": [],
   "source": [
    "# Drop duplicated customer IDs except for the last occurrance\n",
    "behavior_Q1 = behavior_Q1.drop_duplicates(subset=['cust_no'], keep='last')"
   ]
  },
  {
   "cell_type": "code",
   "execution_count": 248,
   "metadata": {
    "scrolled": true
   },
   "outputs": [
    {
     "name": "stdout",
     "output_type": "stream",
     "text": [
      "After dropping duplicated customer IDs, behavior_Q1 has 659624 rows and 8 columns.\n"
     ]
    }
   ],
   "source": [
    "# FOR DISPLAY PURPOSE. SKIP THIS CHUNK.\n",
    "print('After dropping duplicated customer IDs, behavior_Q1 has {} rows and {} columns.'.format(behavior_Q1.shape[0], behavior_Q1.shape[1]))"
   ]
  },
  {
   "cell_type": "markdown",
   "metadata": {},
   "source": [
    "### Important Customer Behavior (big_event)"
   ]
  },
  {
   "cell_type": "code",
   "execution_count": 249,
   "metadata": {},
   "outputs": [],
   "source": [
    "# Q1\n",
    "path = '../data/raw/x_test/big_event_Q1.csv'\n",
    "big_event_Q1 = merge_file(path)"
   ]
  },
  {
   "cell_type": "code",
   "execution_count": 250,
   "metadata": {},
   "outputs": [],
   "source": [
    "# Drop duplicated customer IDs except for the last occurrance\n",
    "big_event_Q1 = big_event_Q1.drop_duplicates(subset=['cust_no'], keep='last')"
   ]
  },
  {
   "cell_type": "code",
   "execution_count": 251,
   "metadata": {},
   "outputs": [
    {
     "name": "stdout",
     "output_type": "stream",
     "text": [
      "After dropping duplicated customer IDs, big_event_Q1 has 659624 rows and 19 columns.\n"
     ]
    }
   ],
   "source": [
    "# FOR DISPLAY PURPOSE. SKIP THIS CHUNK.\n",
    "print('After dropping duplicated customer IDs, big_event_Q1 has {} rows and {} columns.'.format(big_event_Q1.shape[0], big_event_Q1.shape[1]))"
   ]
  },
  {
   "cell_type": "markdown",
   "metadata": {},
   "source": [
    "### Customer Deposits (cunkuan)"
   ]
  },
  {
   "cell_type": "code",
   "execution_count": 252,
   "metadata": {},
   "outputs": [],
   "source": [
    "# Q1\n",
    "path = '../data/raw/x_test/cunkuan_m[123].csv'\n",
    "savings_Q1 = merge_file(path)"
   ]
  },
  {
   "cell_type": "code",
   "execution_count": 253,
   "metadata": {},
   "outputs": [],
   "source": [
    "# Drop duplicated customer IDs except for the last occurrance\n",
    "savings_Q1 = savings_Q1.drop_duplicates(subset=['cust_no'], keep='last')"
   ]
  },
  {
   "cell_type": "code",
   "execution_count": 254,
   "metadata": {},
   "outputs": [
    {
     "name": "stdout",
     "output_type": "stream",
     "text": [
      "After dropping duplicated customer IDs, savings_Q1 has 254816 rows and 3 columns.\n"
     ]
    }
   ],
   "source": [
    "# FOR DISPLAY PURPOSE. SKIP THIS CHUNK.\n",
    "print('After dropping duplicated customer IDs, savings_Q1 has {} rows and {} columns.'.format(savings_Q1.shape[0], savings_Q1.shape[1]))"
   ]
  },
  {
   "cell_type": "markdown",
   "metadata": {},
   "source": [
    "### Valid Customer (cust_avli)\n",
    "\n",
    "The `cust_avli` in the `x_test` sets is identical to the sample submission file."
   ]
  },
  {
   "cell_type": "code",
   "execution_count": 255,
   "metadata": {},
   "outputs": [],
   "source": [
    "# Q1\n",
    "path = '../data/raw/x_test/cust_avli_Q1.csv'\n",
    "cust_avli_Q1 = merge_file(path)"
   ]
  },
  {
   "cell_type": "code",
   "execution_count": 256,
   "metadata": {},
   "outputs": [
    {
     "name": "stdout",
     "output_type": "stream",
     "text": [
      "cust_avli_Q1 has 76722 rows and 1 columns.\n"
     ]
    }
   ],
   "source": [
    "# FOR DISPLAY PURPOSE. SKIP THIS CHUNK.\n",
    "print('cust_avli_Q1 has {} rows and {} columns.'.format(cust_avli_Q1.shape[0], cust_avli_Q1.shape[1]))"
   ]
  },
  {
   "cell_type": "markdown",
   "metadata": {},
   "source": [
    "### Customer Trivias (cust_info)"
   ]
  },
  {
   "cell_type": "code",
   "execution_count": 257,
   "metadata": {},
   "outputs": [],
   "source": [
    "# Q1\n",
    "path = '../data/raw/x_test/cust_info_q1.csv'\n",
    "cust_info_Q1 = merge_file(path)"
   ]
  },
  {
   "cell_type": "markdown",
   "metadata": {},
   "source": [
    "## Drop duplicated customer IDs except for the last occurrance\n",
    "cust_info_Q1 = cust_info_Q1.drop_duplicates(subset=['cust_no'], keep='last')"
   ]
  },
  {
   "cell_type": "code",
   "execution_count": 258,
   "metadata": {},
   "outputs": [
    {
     "name": "stdout",
     "output_type": "stream",
     "text": [
      "After dropping duplicated customer IDs, cust_info_Q1 has 659624 rows and 21 columns.\n"
     ]
    }
   ],
   "source": [
    "# FOR DISPLAY PURPOSE. SKIP THIS CHUNK.\n",
    "print('After dropping duplicated customer IDs, cust_info_Q1 has {} rows and {} columns.'.format(cust_info_Q1.shape[0], cust_info_Q1.shape[1]))"
   ]
  },
  {
   "cell_type": "markdown",
   "metadata": {},
   "source": [
    "### X_test Ready"
   ]
  },
  {
   "cell_type": "code",
   "execution_count": 418,
   "metadata": {},
   "outputs": [],
   "source": [
    "X_test = cust_avli_Q1.copy()"
   ]
  },
  {
   "cell_type": "code",
   "execution_count": 420,
   "metadata": {},
   "outputs": [],
   "source": [
    "X_test = X_test.merge(aum_Q1, how='left', on='cust_no')"
   ]
  },
  {
   "cell_type": "code",
   "execution_count": 421,
   "metadata": {},
   "outputs": [],
   "source": [
    "X_test = X_test.merge(behavior_Q1, how='left', on='cust_no')"
   ]
  },
  {
   "cell_type": "code",
   "execution_count": 422,
   "metadata": {},
   "outputs": [],
   "source": [
    "X_test = X_test.merge(big_event_Q1, how='left', on='cust_no')"
   ]
  },
  {
   "cell_type": "code",
   "execution_count": 423,
   "metadata": {},
   "outputs": [],
   "source": [
    "X_test = X_test.merge(savings_Q1, how='left', on='cust_no')"
   ]
  },
  {
   "cell_type": "code",
   "execution_count": 424,
   "metadata": {},
   "outputs": [],
   "source": [
    "X_test = X_test.merge(cust_info_Q1, how='left', on='cust_no')"
   ]
  },
  {
   "cell_type": "code",
   "execution_count": 425,
   "metadata": {},
   "outputs": [
    {
     "data": {
      "text/plain": [
       "(76722, 56)"
      ]
     },
     "execution_count": 425,
     "metadata": {},
     "output_type": "execute_result"
    }
   ],
   "source": [
    "X_test.shape"
   ]
  },
  {
   "cell_type": "code",
   "execution_count": 477,
   "metadata": {},
   "outputs": [],
   "source": [
    "X_test.to_csv('../data/preprocess/X_test.csv', index=False)"
   ]
  },
  {
   "cell_type": "markdown",
   "metadata": {},
   "source": [
    "----"
   ]
  }
 ],
 "metadata": {
  "kernelspec": {
   "display_name": "Python 3",
   "language": "python",
   "name": "python3"
  },
  "language_info": {
   "codemirror_mode": {
    "name": "ipython",
    "version": 3
   },
   "file_extension": ".py",
   "mimetype": "text/x-python",
   "name": "python",
   "nbconvert_exporter": "python",
   "pygments_lexer": "ipython3",
   "version": "3.7.6"
  }
 },
 "nbformat": 4,
 "nbformat_minor": 2
}
