{
 "cells": [
  {
   "cell_type": "markdown",
   "metadata": {},
   "source": [
    "# Commercial Bank Customer Retention Prediction\n",
    "\n",
    "## APSTA-GE.2401: Statistical Consulting\n",
    "\n",
    "## Scripts"
   ]
  },
  {
   "cell_type": "markdown",
   "metadata": {},
   "source": [
    "Created on: 12/04/2020\n",
    "\n",
    "Modified on: 12/06/2020"
   ]
  },
  {
   "cell_type": "markdown",
   "metadata": {},
   "source": [
    "## Data Preprocess"
   ]
  },
  {
   "cell_type": "markdown",
   "metadata": {},
   "source": [
    "### Description\n",
    "\n",
    "This script preprocesses the raw data originated from the competition data warehouse. There are three main data packages:\n",
    "\n",
    "- `x_train`: the train data package containing all features.\n",
    "- `y_train`: the data package for feature test.\n",
    "- `x_test`: the train data package for prediction. It contains the same features as `x_train`.\n",
    "\n",
    "We started from examining the `y_train` because it contains labels that can validate our model predictions. `y_train` contains random sampled label data from two quarters: Q3_2020 and Q4_2020. Since the customer ID column, `cust_no`, only contains unique values, we determined our data processing strategies as follows:\n",
    "\n",
    "1. Use **quarter** to separate data processing procedures. We created two training sets, `X_train_Q3` and `X_train_Q4`, and merged them before applying models. In this way, we bypassed duplicated customer IDs in both `y_train` sets caused by random sampling. This allowed us to maximize the number of labels that can be validated.\n",
    "\n",
    "    - `y_Q3_3` contains 69126 rows, `y_Q3_3` contains 76170 rows.\n",
    "    - `y_train` has 62397 duplicated customer IDs. \n",
    "    - `y_train` has 40090 completely identical records (same customer ID, same label).\n",
    "    - Two samples are heavily overlapped.\n",
    "    - 22307 customers changed their churn preference from Q3 to Q4.\n",
    "    \n",
    "2. Based on quarterly-separated `y_train` set, we merged `X_train` raw data accordingly. For each quarter, we dropped duplicated customer IDs except for the last occurrance.\n",
    "\n",
    "3. During data preprocessing, we examined records in the `cust_avli` column of the `X_train` sets. These sets contain the ID of all effective customers. We confirmed that these ID are the same as those in the `y_train` set. Therefore, we trimmed the dataset based on the `cust_no` column in the `cust_avli`, separated by quarters.\n",
    "\n",
    "    - Confirmed that `cust_avli` is the key indexing column."
   ]
  },
  {
   "cell_type": "code",
   "execution_count": 2,
   "metadata": {
    "scrolled": true
   },
   "outputs": [
    {
     "name": "stdout",
     "output_type": "stream",
     "text": [
      "SUCCESS! All modules are imported.\n"
     ]
    }
   ],
   "source": [
    "import pandas as pd\n",
    "import numpy as np\n",
    "import csv\n",
    "import glob\n",
    "import re\n",
    "import os\n",
    "\n",
    "print('SUCCESS! All modules are imported.')"
   ]
  },
  {
   "cell_type": "code",
   "execution_count": 157,
   "metadata": {},
   "outputs": [],
   "source": [
    "def merge_file(path):\n",
    "    '''Concatenate files from path\n",
    "    Param: path: file path from which data are imported and concatenated\n",
    "    '''\n",
    "    file_names = [name for name in glob.glob(path)]\n",
    "    df_temp = (pd.read_csv(file) for file in file_names)\n",
    "    return(pd.concat(df_temp, ignore_index=True, axis='index'))"
   ]
  },
  {
   "cell_type": "markdown",
   "metadata": {},
   "source": [
    "----"
   ]
  },
  {
   "cell_type": "markdown",
   "metadata": {},
   "source": [
    "## y_train\n",
    "\n",
    "In this step, we proved that there were duplicated customer IDs in each `y_train` sets. We did not perform trimming because even for the same customer, it is possible that he/she changed his/her churn preference after a period of time."
   ]
  },
  {
   "cell_type": "code",
   "execution_count": 261,
   "metadata": {},
   "outputs": [],
   "source": [
    "path = '../data/raw/y_train_3/y_Q[34]_3.csv'\n",
    "y_train = merge_file(path)"
   ]
  },
  {
   "cell_type": "code",
   "execution_count": 476,
   "metadata": {},
   "outputs": [],
   "source": [
    "y_train.to_csv('../data/preprocess/y_train.csv', index=False)"
   ]
  },
  {
   "cell_type": "code",
   "execution_count": 280,
   "metadata": {},
   "outputs": [],
   "source": [
    "path = '../data/raw/y_train_3/'\n",
    "y_Q3_3 = pd.read_csv(path + 'y_Q3_3.csv')\n",
    "y_Q4_3 = pd.read_csv(path + 'y_Q4_3.csv')"
   ]
  },
  {
   "cell_type": "code",
   "execution_count": 281,
   "metadata": {},
   "outputs": [],
   "source": [
    "# Index for trimming\n",
    "idxQ3 = y_Q3_3['cust_no']\n",
    "idxQ4 = y_Q4_3['cust_no']"
   ]
  },
  {
   "cell_type": "code",
   "execution_count": 294,
   "metadata": {},
   "outputs": [
    {
     "name": "stdout",
     "output_type": "stream",
     "text": [
      "69126\n",
      "76170\n"
     ]
    }
   ],
   "source": [
    "print(len(idxQ3))\n",
    "print(len(idxQ4))"
   ]
  },
  {
   "cell_type": "code",
   "execution_count": 287,
   "metadata": {},
   "outputs": [],
   "source": [
    "def trim_by_quarter(dat, isQ3):\n",
    "    '''Trim the data by quarterly index\n",
    "    Param: dat: imported data\n",
    "    Param: isQ3: binary, 1 if Q3; 0 if else\n",
    "    '''\n",
    "    if isQ3:\n",
    "        return(dat[dat['cust_no'].isin(idxQ3)])\n",
    "    else:\n",
    "        return(dat[dat['cust_no'].isin(idxQ4)])"
   ]
  },
  {
   "cell_type": "code",
   "execution_count": 265,
   "metadata": {},
   "outputs": [
    {
     "name": "stdout",
     "output_type": "stream",
     "text": [
      "True\n",
      "True\n"
     ]
    }
   ],
   "source": [
    "# FOR DISPLAY PURPOSE. SKIP THIS CHUNK.\n",
    "# Confirm that all customer IDs are unique\n",
    "print(len(y_Q3_3['cust_no'].value_counts()) == y_Q3_3.shape[0])\n",
    "print(len(y_Q4_3['cust_no'].value_counts()) == y_Q4_3.shape[0])"
   ]
  },
  {
   "cell_type": "code",
   "execution_count": 266,
   "metadata": {
    "scrolled": true
   },
   "outputs": [
    {
     "name": "stdout",
     "output_type": "stream",
     "text": [
      "y_Q3_3 has 69126 rows and 2 columns.\n",
      "y_Q4_3 has 76170 rows and 2 columns.\n",
      "y_train has 145296 rows and 2 columns.\n",
      "y_train has 62397 duplicated customer IDs.\n",
      "y_train has 40090 completely identical records.\n",
      "22307 customers changed their churn preference from Q3 to Q4.\n"
     ]
    }
   ],
   "source": [
    "# FOR DISPLAY PURPOSE. SKIP THIS CHUNK.\n",
    "print('y_Q3_3 has {} rows and {} columns.'.format(y_Q3_3.shape[0], y_Q3_3.shape[1]))\n",
    "print('y_Q4_3 has {} rows and {} columns.'.format(y_Q4_3.shape[0], y_Q4_3.shape[1]))\n",
    "print('y_train has {} rows and {} columns.'.format(y_train.shape[0], y_train.shape[1]))\n",
    "print('y_train has {} duplicated customer IDs.'.format(y_train['cust_no'].duplicated().sum()))\n",
    "print('y_train has {} completely identical records.'.format(y_train.duplicated().sum()))\n",
    "print('{} customers changed their churn preference from Q3 to Q4.'.format(\n",
    "    y_train['cust_no'].duplicated().sum()-y_train.duplicated().sum()))"
   ]
  },
  {
   "cell_type": "markdown",
   "metadata": {},
   "source": [
    "----"
   ]
  },
  {
   "cell_type": "markdown",
   "metadata": {},
   "source": [
    "### Sample Submission File"
   ]
  },
  {
   "cell_type": "code",
   "execution_count": 244,
   "metadata": {},
   "outputs": [
    {
     "name": "stdout",
     "output_type": "stream",
     "text": [
      "Sample submission file has 76722 rows and 2 columns.\n"
     ]
    },
    {
     "data": {
      "text/html": [
       "<div>\n",
       "<style scoped>\n",
       "    .dataframe tbody tr th:only-of-type {\n",
       "        vertical-align: middle;\n",
       "    }\n",
       "\n",
       "    .dataframe tbody tr th {\n",
       "        vertical-align: top;\n",
       "    }\n",
       "\n",
       "    .dataframe thead th {\n",
       "        text-align: right;\n",
       "    }\n",
       "</style>\n",
       "<table border=\"1\" class=\"dataframe\">\n",
       "  <thead>\n",
       "    <tr style=\"text-align: right;\">\n",
       "      <th></th>\n",
       "      <th>cust_no</th>\n",
       "      <th>label</th>\n",
       "    </tr>\n",
       "  </thead>\n",
       "  <tbody>\n",
       "    <tr>\n",
       "      <th>0</th>\n",
       "      <td>0x3b9b4615</td>\n",
       "      <td>0</td>\n",
       "    </tr>\n",
       "    <tr>\n",
       "      <th>1</th>\n",
       "      <td>0x3b9ae61b</td>\n",
       "      <td>0</td>\n",
       "    </tr>\n",
       "    <tr>\n",
       "      <th>2</th>\n",
       "      <td>0x3b9add69</td>\n",
       "      <td>0</td>\n",
       "    </tr>\n",
       "    <tr>\n",
       "      <th>3</th>\n",
       "      <td>0x3b9b3601</td>\n",
       "      <td>0</td>\n",
       "    </tr>\n",
       "    <tr>\n",
       "      <th>4</th>\n",
       "      <td>0x3b9b2599</td>\n",
       "      <td>0</td>\n",
       "    </tr>\n",
       "  </tbody>\n",
       "</table>\n",
       "</div>"
      ],
      "text/plain": [
       "      cust_no  label\n",
       "0  0x3b9b4615      0\n",
       "1  0x3b9ae61b      0\n",
       "2  0x3b9add69      0\n",
       "3  0x3b9b3601      0\n",
       "4  0x3b9b2599      0"
      ]
     },
     "metadata": {},
     "output_type": "display_data"
    }
   ],
   "source": [
    "# FOR DISPLAY PURPOSE. SKIP THIS CHUNK.\n",
    "sample = pd.read_csv('../instructions/sample_submission.csv')\n",
    "print('Sample submission file has {} rows and {} columns.'.format(sample.shape[0], sample.shape[1]))\n",
    "display(sample.head())"
   ]
  },
  {
   "cell_type": "markdown",
   "metadata": {},
   "source": [
    "----"
   ]
  },
  {
   "cell_type": "markdown",
   "metadata": {},
   "source": [
    "## X_train"
   ]
  },
  {
   "cell_type": "code",
   "execution_count": 461,
   "metadata": {},
   "outputs": [],
   "source": [
    "X_train_Q3 = y_Q3_3.drop('label', axis=1).copy()\n",
    "X_train_Q4 = y_Q4_3.drop('label', axis=1).copy()"
   ]
  },
  {
   "cell_type": "markdown",
   "metadata": {},
   "source": [
    "### Customer Assets (aum)"
   ]
  },
  {
   "cell_type": "code",
   "execution_count": 377,
   "metadata": {},
   "outputs": [],
   "source": [
    "# Q3\n",
    "path = '../data/raw/x_train/aum_m[789].csv'\n",
    "aum_Q3 = merge_file(path)"
   ]
  },
  {
   "cell_type": "code",
   "execution_count": 378,
   "metadata": {},
   "outputs": [],
   "source": [
    "# Q4\n",
    "path = '../data/raw/x_train/aum_m1[012].csv'\n",
    "aum_Q4 = merge_file(path)"
   ]
  },
  {
   "cell_type": "code",
   "execution_count": 379,
   "metadata": {},
   "outputs": [],
   "source": [
    "# Drop duplicated customer IDs except for the last occurrance\n",
    "aum_Q3 = aum_Q3.drop_duplicates(subset=['cust_no'], keep='last')\n",
    "aum_Q4 = aum_Q4.drop_duplicates(subset=['cust_no'], keep='last')"
   ]
  },
  {
   "cell_type": "code",
   "execution_count": 380,
   "metadata": {},
   "outputs": [
    {
     "name": "stdout",
     "output_type": "stream",
     "text": [
      "After dropping duplicated customer IDs, aum_Q3 has 493441 rows and 9 columns.\n",
      "After dropping duplicated customer IDs, aum_Q4 has 543823 rows and 9 columns.\n"
     ]
    }
   ],
   "source": [
    "# FOR DISPLAY PURPOSE. SKIP THIS CHUNK.\n",
    "print('After dropping duplicated customer IDs, aum_Q3 has {} rows and {} columns.'.format(aum_Q3.shape[0], aum_Q3.shape[1]))\n",
    "print('After dropping duplicated customer IDs, aum_Q4 has {} rows and {} columns.'.format(aum_Q4.shape[0], aum_Q4.shape[1]))"
   ]
  },
  {
   "cell_type": "code",
   "execution_count": 381,
   "metadata": {},
   "outputs": [],
   "source": [
    "# Trim by the customer IDs in `y_train` set, separated by quarter\n",
    "aum_Q3 = trim_by_quarter(aum_Q3, True)\n",
    "aum_Q4 = trim_by_quarter(aum_Q4, False)"
   ]
  },
  {
   "cell_type": "code",
   "execution_count": 382,
   "metadata": {
    "scrolled": true
   },
   "outputs": [
    {
     "name": "stdout",
     "output_type": "stream",
     "text": [
      "After trimming, aum_Q3 has 69126 rows and 9 columns.\n",
      "After trimming, aum_Q4 has 76170 rows and 9 columns.\n"
     ]
    }
   ],
   "source": [
    "# FOR DISPLAY PURPOSE. SKIP THIS CHUNK.\n",
    "print('After trimming, aum_Q3 has {} rows and {} columns.'.format(aum_Q3.shape[0], aum_Q3.shape[1]))\n",
    "print('After trimming, aum_Q4 has {} rows and {} columns.'.format(aum_Q4.shape[0], aum_Q4.shape[1]))"
   ]
  },
  {
   "cell_type": "code",
   "execution_count": 386,
   "metadata": {},
   "outputs": [],
   "source": [
    "# Save to archive\n",
    "aum_Q3.to_csv('../data/preprocess/archive/aum_Q3.csv', index=False)\n",
    "aum_Q4.to_csv('../data/preprocess/archive/aum_Q4.csv', index=False)"
   ]
  },
  {
   "cell_type": "code",
   "execution_count": 462,
   "metadata": {},
   "outputs": [],
   "source": [
    "# Merge to X_train\n",
    "X_train_Q3 = X_train_Q3.merge(aum_Q3, how='left', on='cust_no')\n",
    "X_train_Q4 = X_train_Q4.merge(aum_Q4, how='left', on='cust_no')"
   ]
  },
  {
   "cell_type": "markdown",
   "metadata": {},
   "source": [
    "### Customer Behavior (behavior)"
   ]
  },
  {
   "cell_type": "code",
   "execution_count": 184,
   "metadata": {},
   "outputs": [],
   "source": [
    "# Q3\n",
    "path = '../data/raw/x_train/behavior_m[789].csv'\n",
    "behavior_Q3 = merge_file(path)"
   ]
  },
  {
   "cell_type": "code",
   "execution_count": 185,
   "metadata": {},
   "outputs": [],
   "source": [
    "# Q4\n",
    "path = '../data/raw/x_train/behavior_m1[012].csv'\n",
    "behavior_Q4 = merge_file(path)"
   ]
  },
  {
   "cell_type": "code",
   "execution_count": 186,
   "metadata": {},
   "outputs": [],
   "source": [
    "# Drop duplicated customer IDs except for the last occurrance\n",
    "behavior_Q3 = behavior_Q3.drop_duplicates(subset=['cust_no'], keep='last')\n",
    "behavior_Q4 = behavior_Q4.drop_duplicates(subset=['cust_no'], keep='last')"
   ]
  },
  {
   "cell_type": "code",
   "execution_count": 187,
   "metadata": {},
   "outputs": [
    {
     "name": "stdout",
     "output_type": "stream",
     "text": [
      "After dropping duplicated customer IDs, behavior_Q3 has 493441 rows and 8 columns.\n",
      "After dropping duplicated customer IDs, behavior_Q4 has 543823 rows and 8 columns.\n"
     ]
    }
   ],
   "source": [
    "# FOR DISPLAY PURPOSE. SKIP THIS CHUNK.\n",
    "print('After dropping duplicated customer IDs, behavior_Q3 has {} rows and {} columns.'.format(behavior_Q3.shape[0], behavior_Q3.shape[1]))\n",
    "print('After dropping duplicated customer IDs, behavior_Q4 has {} rows and {} columns.'.format(behavior_Q4.shape[0], behavior_Q4.shape[1]))"
   ]
  },
  {
   "cell_type": "code",
   "execution_count": 389,
   "metadata": {},
   "outputs": [],
   "source": [
    "# Trim by the customer IDs in `y_train` set, separated by quarter\n",
    "behavior_Q3 = trim_by_quarter(behavior_Q3, True)\n",
    "behavior_Q4 = trim_by_quarter(behavior_Q4, False)"
   ]
  },
  {
   "cell_type": "code",
   "execution_count": 390,
   "metadata": {},
   "outputs": [
    {
     "name": "stdout",
     "output_type": "stream",
     "text": [
      "After trimming, behavior_Q3 has 69126 rows and 8 columns.\n",
      "After trimming, behavior_Q4 has 76170 rows and 8 columns.\n"
     ]
    }
   ],
   "source": [
    "# FOR DISPLAY PURPOSE. SKIP THIS CHUNK.\n",
    "print('After trimming, behavior_Q3 has {} rows and {} columns.'.format(behavior_Q3.shape[0], behavior_Q3.shape[1]))\n",
    "print('After trimming, behavior_Q4 has {} rows and {} columns.'.format(behavior_Q4.shape[0], behavior_Q4.shape[1]))"
   ]
  },
  {
   "cell_type": "code",
   "execution_count": 391,
   "metadata": {},
   "outputs": [],
   "source": [
    "# Save to archive\n",
    "behavior_Q3.to_csv('../data/preprocess/archive/behavior_Q3.csv', index=False)\n",
    "behavior_Q4.to_csv('../data/preprocess/archive/behavior_Q4.csv', index=False)"
   ]
  },
  {
   "cell_type": "code",
   "execution_count": 463,
   "metadata": {},
   "outputs": [],
   "source": [
    "# Merge to X_train\n",
    "X_train_Q3 = X_train_Q3.merge(behavior_Q3, how='left', on='cust_no')\n",
    "X_train_Q4 = X_train_Q4.merge(behavior_Q4, how='left', on='cust_no')"
   ]
  },
  {
   "cell_type": "markdown",
   "metadata": {},
   "source": [
    "### Important Customer Behavior (big_event)"
   ]
  },
  {
   "cell_type": "code",
   "execution_count": 189,
   "metadata": {},
   "outputs": [
    {
     "name": "stderr",
     "output_type": "stream",
     "text": [
      "<ipython-input-157-cee1144e6e7f>:7: DtypeWarning: Columns (9) have mixed types.Specify dtype option on import or set low_memory=False.\n",
      "  return(pd.concat(df_temp, ignore_index=True, axis='index'))\n"
     ]
    }
   ],
   "source": [
    "# Q3\n",
    "path = '../data/raw/x_train/big_event_Q3.csv'\n",
    "big_event_Q3 = merge_file(path)"
   ]
  },
  {
   "cell_type": "code",
   "execution_count": 190,
   "metadata": {},
   "outputs": [],
   "source": [
    "# Q4\n",
    "path = '../data/raw/x_train/big_event_Q4.csv'\n",
    "big_event_Q4 = merge_file(path)"
   ]
  },
  {
   "cell_type": "code",
   "execution_count": 193,
   "metadata": {},
   "outputs": [],
   "source": [
    "# Drop duplicated customer IDs except for the last occurrance\n",
    "big_event_Q3 = big_event_Q3.drop_duplicates(subset=['cust_no'], keep='last')\n",
    "big_event_Q3 = big_event_Q4.drop_duplicates(subset=['cust_no'], keep='last')"
   ]
  },
  {
   "cell_type": "code",
   "execution_count": 194,
   "metadata": {},
   "outputs": [
    {
     "name": "stdout",
     "output_type": "stream",
     "text": [
      "After dropping duplicated customer IDs, big_event_Q3 has 493441 rows and 19 columns.\n",
      "After dropping duplicated customer IDs, big_event_Q4 has 543823 rows and 19 columns.\n"
     ]
    }
   ],
   "source": [
    "# FOR DISPLAY PURPOSE. SKIP THIS CHUNK.\n",
    "print('After dropping duplicated customer IDs, big_event_Q3 has {} rows and {} columns.'.format(big_event_Q3.shape[0], big_event_Q3.shape[1]))\n",
    "print('After dropping duplicated customer IDs, big_event_Q4 has {} rows and {} columns.'.format(big_event_Q4.shape[0], big_event_Q4.shape[1]))"
   ]
  },
  {
   "cell_type": "code",
   "execution_count": 393,
   "metadata": {},
   "outputs": [],
   "source": [
    "# Trim by the customer IDs in `y_train` set, separated by quarter\n",
    "big_event_Q3 = trim_by_quarter(big_event_Q3, True)\n",
    "big_event_Q4 = trim_by_quarter(big_event_Q4, False)"
   ]
  },
  {
   "cell_type": "code",
   "execution_count": 394,
   "metadata": {},
   "outputs": [
    {
     "name": "stdout",
     "output_type": "stream",
     "text": [
      "After trimming, big_event_Q3 has 69126 rows and 19 columns.\n",
      "After trimming, big_event_Q4 has 76170 rows and 19 columns.\n"
     ]
    }
   ],
   "source": [
    "# FOR DISPLAY PURPOSE. SKIP THIS CHUNK.\n",
    "print('After trimming, big_event_Q3 has {} rows and {} columns.'.format(big_event_Q3.shape[0], big_event_Q3.shape[1]))\n",
    "print('After trimming, big_event_Q4 has {} rows and {} columns.'.format(big_event_Q4.shape[0], big_event_Q4.shape[1]))"
   ]
  },
  {
   "cell_type": "code",
   "execution_count": 395,
   "metadata": {},
   "outputs": [],
   "source": [
    "# Save to archive\n",
    "big_event_Q3.to_csv('../data/preprocess/archive/big_event_Q3.csv', index=False)\n",
    "big_event_Q4.to_csv('../data/preprocess/archive/big_event_Q4.csv', index=False)"
   ]
  },
  {
   "cell_type": "code",
   "execution_count": 464,
   "metadata": {},
   "outputs": [],
   "source": [
    "# Merge to X_train\n",
    "X_train_Q3 = X_train_Q3.merge(big_event_Q3, how='left', on='cust_no')\n",
    "X_train_Q4 = X_train_Q4.merge(big_event_Q4, how='left', on='cust_no')"
   ]
  },
  {
   "cell_type": "markdown",
   "metadata": {},
   "source": [
    "### Customer Deposits (cunkuan)"
   ]
  },
  {
   "cell_type": "code",
   "execution_count": 398,
   "metadata": {},
   "outputs": [],
   "source": [
    "# Q3\n",
    "path = '../data/raw/x_train/cunkuan_m[789].csv'\n",
    "savings_Q3 = merge_file(path)"
   ]
  },
  {
   "cell_type": "code",
   "execution_count": 399,
   "metadata": {},
   "outputs": [],
   "source": [
    "# Q4\n",
    "path = '../data/raw/x_train/cunkuan_m1[012].csv'\n",
    "savings_Q4 = merge_file(path)"
   ]
  },
  {
   "cell_type": "code",
   "execution_count": 400,
   "metadata": {},
   "outputs": [],
   "source": [
    "# Drop duplicated customer IDs except for the last occurrance\n",
    "savings_Q3 = savings_Q3.drop_duplicates(subset=['cust_no'], keep='last')\n",
    "savings_Q4 = savings_Q4.drop_duplicates(subset=['cust_no'], keep='last')"
   ]
  },
  {
   "cell_type": "code",
   "execution_count": 401,
   "metadata": {},
   "outputs": [
    {
     "name": "stdout",
     "output_type": "stream",
     "text": [
      "After dropping duplicated customer IDs, savings_Q3 has 200721 rows and 3 columns.\n",
      "After dropping duplicated customer IDs, savings_Q4 has 237049 rows and 3 columns.\n"
     ]
    }
   ],
   "source": [
    "# FOR DISPLAY PURPOSE. SKIP THIS CHUNK.\n",
    "print('After dropping duplicated customer IDs, savings_Q3 has {} rows and {} columns.'.format(savings_Q3.shape[0], savings_Q3.shape[1]))\n",
    "print('After dropping duplicated customer IDs, savings_Q4 has {} rows and {} columns.'.format(savings_Q4.shape[0], savings_Q4.shape[1]))"
   ]
  },
  {
   "cell_type": "code",
   "execution_count": 402,
   "metadata": {},
   "outputs": [],
   "source": [
    "# Trim by the customer IDs in `y_train` set, separated by quarter\n",
    "savings_Q3 = trim_by_quarter(savings_Q3, True)\n",
    "savings_Q4 = trim_by_quarter(savings_Q4, False)"
   ]
  },
  {
   "cell_type": "code",
   "execution_count": 403,
   "metadata": {},
   "outputs": [
    {
     "name": "stdout",
     "output_type": "stream",
     "text": [
      "After trimming, savings_Q3 has 69122 rows and 3 columns.\n",
      "After trimming, savings_Q4 has 76167 rows and 3 columns.\n"
     ]
    }
   ],
   "source": [
    "# FOR DISPLAY PURPOSE. SKIP THIS CHUNK.\n",
    "print('After trimming, savings_Q3 has {} rows and {} columns.'.format(savings_Q3.shape[0], savings_Q3.shape[1]))\n",
    "print('After trimming, savings_Q4 has {} rows and {} columns.'.format(savings_Q4.shape[0], savings_Q4.shape[1]))"
   ]
  },
  {
   "cell_type": "code",
   "execution_count": 404,
   "metadata": {},
   "outputs": [],
   "source": [
    "# Save to archive\n",
    "savings_Q3.to_csv('../data/preprocess/archive/savings_Q3.csv', index=False)\n",
    "savings_Q4.to_csv('../data/preprocess/archive/savings_Q4.csv', index=False)"
   ]
  },
  {
   "cell_type": "code",
   "execution_count": 465,
   "metadata": {},
   "outputs": [],
   "source": [
    "# Merge to X_train\n",
    "X_train_Q3 = X_train_Q3.merge(savings_Q3, how='left', on='cust_no')\n",
    "X_train_Q4 = X_train_Q4.merge(savings_Q4, how='left', on='cust_no')"
   ]
  },
  {
   "cell_type": "markdown",
   "metadata": {},
   "source": [
    "### Valid Customer (cust_avli)\n",
    "\n",
    "Valid customer set contains customer IDs that are same as those in the test set."
   ]
  },
  {
   "cell_type": "code",
   "execution_count": 204,
   "metadata": {},
   "outputs": [],
   "source": [
    "# Q3\n",
    "path = '../data/raw/x_train/cust_avli_Q3.csv'\n",
    "cust_avli_Q3 = merge_file(path)"
   ]
  },
  {
   "cell_type": "code",
   "execution_count": 205,
   "metadata": {},
   "outputs": [],
   "source": [
    "# Q4\n",
    "path = '../data/raw/x_train/cust_avli_Q4.csv'\n",
    "cust_avli_Q4 = merge_file(path)"
   ]
  },
  {
   "cell_type": "code",
   "execution_count": 212,
   "metadata": {},
   "outputs": [
    {
     "name": "stdout",
     "output_type": "stream",
     "text": [
      "cust_avli_Q3 has 69126 rows and 1 columns.\n",
      "cust_avli_Q4 has 76170 rows and 1 columns.\n"
     ]
    }
   ],
   "source": [
    "# FOR DISPLAY PURPOSE. SKIP THIS CHUNK.\n",
    "print('cust_avli_Q3 has {} rows and {} columns.'.format(cust_avli_Q3.shape[0], cust_avli_Q3.shape[1]))\n",
    "print('cust_avli_Q4 has {} rows and {} columns.'.format(cust_avli_Q4.shape[0], cust_avli_Q4.shape[1]))"
   ]
  },
  {
   "cell_type": "code",
   "execution_count": 211,
   "metadata": {
    "scrolled": true
   },
   "outputs": [
    {
     "name": "stdout",
     "output_type": "stream",
     "text": [
      "True\n",
      "True\n"
     ]
    }
   ],
   "source": [
    "# FOR DISPLAY PURPOSE. SKIP THIS CHUNK.\n",
    "# Confirm that valid customers are the same as those in the test set\n",
    "print(len(cust_avli_Q3.value_counts()) == y_Q3_3.shape[0])\n",
    "print(len(cust_avli_Q4.value_counts()) == y_Q4_3.shape[0])"
   ]
  },
  {
   "cell_type": "markdown",
   "metadata": {},
   "source": [
    "### Customer Trivias (cust_info)"
   ]
  },
  {
   "cell_type": "code",
   "execution_count": 451,
   "metadata": {},
   "outputs": [],
   "source": [
    "# Q3\n",
    "path = '../data/raw/x_train/cust_info_q3.csv'\n",
    "cust_info_Q3 = merge_file(path)"
   ]
  },
  {
   "cell_type": "code",
   "execution_count": 452,
   "metadata": {},
   "outputs": [],
   "source": [
    "# Q4\n",
    "path = '../data/raw/x_train/cust_info_q4.csv'\n",
    "cust_info_Q4 = merge_file(path)"
   ]
  },
  {
   "cell_type": "code",
   "execution_count": 453,
   "metadata": {},
   "outputs": [],
   "source": [
    "# Drop duplicated customer IDs except for the last occurrance\n",
    "cust_info_Q3 = cust_info_Q3.drop_duplicates(subset=['cust_no'], keep='last')\n",
    "cust_info_Q4 = cust_info_Q4.drop_duplicates(subset=['cust_no'], keep='last')"
   ]
  },
  {
   "cell_type": "code",
   "execution_count": 454,
   "metadata": {
    "scrolled": true
   },
   "outputs": [
    {
     "name": "stdout",
     "output_type": "stream",
     "text": [
      "After dropping duplicated customer IDs, cust_info_Q3 has 493441 rows and 21 columns.\n",
      "After dropping duplicated customer IDs, cust_info_Q4 has 543823 rows and 21 columns.\n"
     ]
    }
   ],
   "source": [
    "# FOR DISPLAY PURPOSE. SKIP THIS CHUNK.\n",
    "print('After dropping duplicated customer IDs, cust_info_Q3 has {} rows and {} columns.'.format(cust_info_Q3.shape[0], cust_info_Q3.shape[1]))\n",
    "print('After dropping duplicated customer IDs, cust_info_Q4 has {} rows and {} columns.'.format(cust_info_Q4.shape[0], cust_info_Q4.shape[1]))"
   ]
  },
  {
   "cell_type": "code",
   "execution_count": 455,
   "metadata": {},
   "outputs": [],
   "source": [
    "# Trim by the customer IDs in `y_train` set, separated by quarter\n",
    "cust_info_Q3 = trim_by_quarter(cust_info_Q3, True)\n",
    "cust_info_Q4 = trim_by_quarter(cust_info_Q4, False)"
   ]
  },
  {
   "cell_type": "code",
   "execution_count": 456,
   "metadata": {},
   "outputs": [
    {
     "name": "stdout",
     "output_type": "stream",
     "text": [
      "After trimming, cust_info_Q3 has 69126 rows and 21 columns.\n",
      "After trimming, cust_info_Q4 has 76170 rows and 21 columns.\n"
     ]
    }
   ],
   "source": [
    "# FOR DISPLAY PURPOSE. SKIP THIS CHUNK.\n",
    "print('After trimming, cust_info_Q3 has {} rows and {} columns.'.format(cust_info_Q3.shape[0], cust_info_Q3.shape[1]))\n",
    "print('After trimming, cust_info_Q4 has {} rows and {} columns.'.format(cust_info_Q4.shape[0], cust_info_Q4.shape[1]))"
   ]
  },
  {
   "cell_type": "code",
   "execution_count": 457,
   "metadata": {},
   "outputs": [],
   "source": [
    "# Save to archive\n",
    "cust_info_Q3.to_csv('../data/preprocess/archive/cust_info_Q3.csv', index=False)\n",
    "cust_info_Q4.to_csv('../data/preprocess/archive/cust_info_Q4.csv', index=False)"
   ]
  },
  {
   "cell_type": "code",
   "execution_count": 470,
   "metadata": {},
   "outputs": [],
   "source": [
    "# Merge to X_train\n",
    "X_train_Q3 = X_train_Q3.merge(cust_info_Q3, how='left', on='cust_no')\n",
    "X_train_Q4 = X_train_Q4.merge(cust_info_Q4, how='left', on='cust_no')"
   ]
  },
  {
   "cell_type": "markdown",
   "metadata": {},
   "source": [
    "### X_Train Ready"
   ]
  },
  {
   "cell_type": "code",
   "execution_count": 471,
   "metadata": {},
   "outputs": [
    {
     "name": "stdout",
     "output_type": "stream",
     "text": [
      "(69126, 56)\n",
      "(76170, 56)\n"
     ]
    }
   ],
   "source": [
    "print(X_train_Q3.shape)\n",
    "print(X_train_Q4.shape)"
   ]
  },
  {
   "cell_type": "code",
   "execution_count": 472,
   "metadata": {},
   "outputs": [],
   "source": [
    "X_train_Q3.to_csv('../data/preprocess/archive/X_train_Q3.csv', index=False)\n",
    "X_train_Q4.to_csv('../data/preprocess/archive/X_train_Q4.csv', index=False)"
   ]
  },
  {
   "cell_type": "code",
   "execution_count": 473,
   "metadata": {},
   "outputs": [],
   "source": [
    "X_train = X_train_Q3.append(X_train_Q4)"
   ]
  },
  {
   "cell_type": "code",
   "execution_count": 474,
   "metadata": {},
   "outputs": [
    {
     "data": {
      "text/plain": [
       "(145296, 56)"
      ]
     },
     "execution_count": 474,
     "metadata": {},
     "output_type": "execute_result"
    }
   ],
   "source": [
    "X_train.shape"
   ]
  },
  {
   "cell_type": "code",
   "execution_count": 475,
   "metadata": {},
   "outputs": [],
   "source": [
    "X_train.to_csv('../data/preprocess/X_train.csv', index=False)"
   ]
  },
  {
   "cell_type": "markdown",
   "metadata": {},
   "source": [
    "----"
   ]
  },
  {
   "cell_type": "markdown",
   "metadata": {},
   "source": [
    "## X_test"
   ]
  },
  {
   "cell_type": "markdown",
   "metadata": {},
   "source": [
    "### Customer Assets (aum)"
   ]
  },
  {
   "cell_type": "code",
   "execution_count": 220,
   "metadata": {},
   "outputs": [],
   "source": [
    "# Q1\n",
    "path = '../data/raw/x_test/aum_m[123].csv'\n",
    "aum_Q1 = merge_file(path)"
   ]
  },
  {
   "cell_type": "code",
   "execution_count": 221,
   "metadata": {},
   "outputs": [],
   "source": [
    "# Drop duplicated customer IDs except for the last occurrance\n",
    "aum_Q1 = aum_Q1.drop_duplicates(subset=['cust_no'], keep='last')"
   ]
  },
  {
   "cell_type": "code",
   "execution_count": 222,
   "metadata": {},
   "outputs": [
    {
     "name": "stdout",
     "output_type": "stream",
     "text": [
      "After dropping duplicated customer IDs, aum_Q1 has 659624 rows and 9 columns.\n"
     ]
    }
   ],
   "source": [
    "# FOR DISPLAY PURPOSE. SKIP THIS CHUNK.\n",
    "print('After dropping duplicated customer IDs, aum_Q1 has {} rows and {} columns.'.format(aum_Q1.shape[0], aum_Q1.shape[1]))"
   ]
  },
  {
   "cell_type": "markdown",
   "metadata": {},
   "source": [
    "### Customer Behavior (behavior)"
   ]
  },
  {
   "cell_type": "code",
   "execution_count": 246,
   "metadata": {},
   "outputs": [],
   "source": [
    "# Q1\n",
    "path = '../data/raw/x_test/behavior_m[123].csv'\n",
    "behavior_Q1 = merge_file(path)"
   ]
  },
  {
   "cell_type": "code",
   "execution_count": 247,
   "metadata": {},
   "outputs": [],
   "source": [
    "# Drop duplicated customer IDs except for the last occurrance\n",
    "behavior_Q1 = behavior_Q1.drop_duplicates(subset=['cust_no'], keep='last')"
   ]
  },
  {
   "cell_type": "code",
   "execution_count": 248,
   "metadata": {
    "scrolled": true
   },
   "outputs": [
    {
     "name": "stdout",
     "output_type": "stream",
     "text": [
      "After dropping duplicated customer IDs, behavior_Q1 has 659624 rows and 8 columns.\n"
     ]
    }
   ],
   "source": [
    "# FOR DISPLAY PURPOSE. SKIP THIS CHUNK.\n",
    "print('After dropping duplicated customer IDs, behavior_Q1 has {} rows and {} columns.'.format(behavior_Q1.shape[0], behavior_Q1.shape[1]))"
   ]
  },
  {
   "cell_type": "markdown",
   "metadata": {},
   "source": [
    "### Important Customer Behavior (big_event)"
   ]
  },
  {
   "cell_type": "code",
   "execution_count": 249,
   "metadata": {},
   "outputs": [],
   "source": [
    "# Q1\n",
    "path = '../data/raw/x_test/big_event_Q1.csv'\n",
    "big_event_Q1 = merge_file(path)"
   ]
  },
  {
   "cell_type": "code",
   "execution_count": 250,
   "metadata": {},
   "outputs": [],
   "source": [
    "# Drop duplicated customer IDs except for the last occurrance\n",
    "big_event_Q1 = big_event_Q1.drop_duplicates(subset=['cust_no'], keep='last')"
   ]
  },
  {
   "cell_type": "code",
   "execution_count": 251,
   "metadata": {},
   "outputs": [
    {
     "name": "stdout",
     "output_type": "stream",
     "text": [
      "After dropping duplicated customer IDs, big_event_Q1 has 659624 rows and 19 columns.\n"
     ]
    }
   ],
   "source": [
    "# FOR DISPLAY PURPOSE. SKIP THIS CHUNK.\n",
    "print('After dropping duplicated customer IDs, big_event_Q1 has {} rows and {} columns.'.format(big_event_Q1.shape[0], big_event_Q1.shape[1]))"
   ]
  },
  {
   "cell_type": "markdown",
   "metadata": {},
   "source": [
    "### Customer Deposits (cunkuan)"
   ]
  },
  {
   "cell_type": "code",
   "execution_count": 252,
   "metadata": {},
   "outputs": [],
   "source": [
    "# Q1\n",
    "path = '../data/raw/x_test/cunkuan_m[123].csv'\n",
    "savings_Q1 = merge_file(path)"
   ]
  },
  {
   "cell_type": "code",
   "execution_count": 253,
   "metadata": {},
   "outputs": [],
   "source": [
    "# Drop duplicated customer IDs except for the last occurrance\n",
    "savings_Q1 = savings_Q1.drop_duplicates(subset=['cust_no'], keep='last')"
   ]
  },
  {
   "cell_type": "code",
   "execution_count": 254,
   "metadata": {},
   "outputs": [
    {
     "name": "stdout",
     "output_type": "stream",
     "text": [
      "After dropping duplicated customer IDs, savings_Q1 has 254816 rows and 3 columns.\n"
     ]
    }
   ],
   "source": [
    "# FOR DISPLAY PURPOSE. SKIP THIS CHUNK.\n",
    "print('After dropping duplicated customer IDs, savings_Q1 has {} rows and {} columns.'.format(savings_Q1.shape[0], savings_Q1.shape[1]))"
   ]
  },
  {
   "cell_type": "markdown",
   "metadata": {},
   "source": [
    "### Valid Customer (cust_avli)\n",
    "\n",
    "The `cust_avli` in the `x_test` sets is identical to the sample submission file."
   ]
  },
  {
   "cell_type": "code",
   "execution_count": 255,
   "metadata": {},
   "outputs": [],
   "source": [
    "# Q1\n",
    "path = '../data/raw/x_test/cust_avli_Q1.csv'\n",
    "cust_avli_Q1 = merge_file(path)"
   ]
  },
  {
   "cell_type": "code",
   "execution_count": 256,
   "metadata": {},
   "outputs": [
    {
     "name": "stdout",
     "output_type": "stream",
     "text": [
      "cust_avli_Q1 has 76722 rows and 1 columns.\n"
     ]
    }
   ],
   "source": [
    "# FOR DISPLAY PURPOSE. SKIP THIS CHUNK.\n",
    "print('cust_avli_Q1 has {} rows and {} columns.'.format(cust_avli_Q1.shape[0], cust_avli_Q1.shape[1]))"
   ]
  },
  {
   "cell_type": "markdown",
   "metadata": {},
   "source": [
    "### Customer Trivias (cust_info)"
   ]
  },
  {
   "cell_type": "code",
   "execution_count": 257,
   "metadata": {},
   "outputs": [],
   "source": [
    "# Q1\n",
    "path = '../data/raw/x_test/cust_info_q1.csv'\n",
    "cust_info_Q1 = merge_file(path)"
   ]
  },
  {
   "cell_type": "code",
   "execution_count": null,
   "metadata": {},
   "outputs": [],
   "source": [
    "# Drop duplicated customer IDs except for the last occurrance\n",
    "cust_info_Q1 = cust_info_Q1.drop_duplicates(subset=['cust_no'], keep='last')"
   ]
  },
  {
   "cell_type": "code",
   "execution_count": 258,
   "metadata": {},
   "outputs": [
    {
     "name": "stdout",
     "output_type": "stream",
     "text": [
      "After dropping duplicated customer IDs, cust_info_Q1 has 659624 rows and 21 columns.\n"
     ]
    }
   ],
   "source": [
    "# FOR DISPLAY PURPOSE. SKIP THIS CHUNK.\n",
    "print('After dropping duplicated customer IDs, cust_info_Q1 has {} rows and {} columns.'.format(cust_info_Q1.shape[0], cust_info_Q1.shape[1]))"
   ]
  },
  {
   "cell_type": "markdown",
   "metadata": {},
   "source": [
    "### X_test Ready"
   ]
  },
  {
   "cell_type": "code",
   "execution_count": 418,
   "metadata": {},
   "outputs": [],
   "source": [
    "X_test = cust_avli_Q1.copy()"
   ]
  },
  {
   "cell_type": "code",
   "execution_count": 420,
   "metadata": {},
   "outputs": [],
   "source": [
    "X_test = X_test.merge(aum_Q1, how='left', on='cust_no')"
   ]
  },
  {
   "cell_type": "code",
   "execution_count": 421,
   "metadata": {},
   "outputs": [],
   "source": [
    "X_test = X_test.merge(behavior_Q1, how='left', on='cust_no')"
   ]
  },
  {
   "cell_type": "code",
   "execution_count": 422,
   "metadata": {},
   "outputs": [],
   "source": [
    "X_test = X_test.merge(big_event_Q1, how='left', on='cust_no')"
   ]
  },
  {
   "cell_type": "code",
   "execution_count": 423,
   "metadata": {},
   "outputs": [],
   "source": [
    "X_test = X_test.merge(savings_Q1, how='left', on='cust_no')"
   ]
  },
  {
   "cell_type": "code",
   "execution_count": 424,
   "metadata": {},
   "outputs": [],
   "source": [
    "X_test = X_test.merge(cust_info_Q1, how='left', on='cust_no')"
   ]
  },
  {
   "cell_type": "code",
   "execution_count": 425,
   "metadata": {},
   "outputs": [
    {
     "data": {
      "text/plain": [
       "(76722, 56)"
      ]
     },
     "execution_count": 425,
     "metadata": {},
     "output_type": "execute_result"
    }
   ],
   "source": [
    "X_test.shape"
   ]
  },
  {
   "cell_type": "code",
   "execution_count": 477,
   "metadata": {},
   "outputs": [],
   "source": [
    "X_test.to_csv('../data/preprocess/X_test.csv', index=False)"
   ]
  },
  {
   "cell_type": "markdown",
   "metadata": {},
   "source": [
    "----"
   ]
  },
  {
   "cell_type": "markdown",
   "metadata": {},
   "source": [
    "### Missing Values"
   ]
  },
  {
   "cell_type": "code",
   "execution_count": 139,
   "metadata": {},
   "outputs": [],
   "source": [
    "# check which data set has missing values\n",
    "def nulltracker(self):\n",
    "    counter = 0\n",
    "    for names in self:\n",
    "        indicator = names.isnull().sum() == 0\n",
    "        if indicator.all() == False:\n",
    "            print(counter)\n",
    "        counter = counter + 1 "
   ]
  },
  {
   "cell_type": "code",
   "execution_count": 127,
   "metadata": {},
   "outputs": [],
   "source": [
    "aum_m = aum_m1, aum_m2, aum_m3, aum_m7, aum_m8, aum_m9, aum_m10, aum_m11, aum_m12\n",
    "nulltracker(aum_m)"
   ]
  },
  {
   "cell_type": "code",
   "execution_count": 151,
   "metadata": {},
   "outputs": [
    {
     "name": "stdout",
     "output_type": "stream",
     "text": [
      "2\n",
      "5\n",
      "8\n"
     ]
    }
   ],
   "source": [
    "behavior_m = behavior_m1, behavior_m2, behavior_m3, behavior_m7, behavior_m8, behavior_m9, behavior_m10, behavior_m11, behavior_m12 \n",
    "nulltracker(behavior_m)"
   ]
  },
  {
   "cell_type": "code",
   "execution_count": 129,
   "metadata": {},
   "outputs": [],
   "source": [
    "cunkuan_m = cunkuan_m1, cunkuan_m2, cunkuan_m3, cunkuan_m7, cunkuan_m8, cunkuan_m9, cunkuan_m10, cunkuan_m11, cunkuan_m12\n",
    "nulltracker(cunkuan_m)"
   ]
  },
  {
   "cell_type": "code",
   "execution_count": 141,
   "metadata": {},
   "outputs": [
    {
     "name": "stdout",
     "output_type": "stream",
     "text": [
      "0\n",
      "1\n",
      "2\n"
     ]
    }
   ],
   "source": [
    "big_event_Q = big_event_Q1, big_event_Q3, big_event_Q4\n",
    "nulltracker(big_event_Q)"
   ]
  },
  {
   "cell_type": "code",
   "execution_count": 142,
   "metadata": {},
   "outputs": [],
   "source": [
    "cust_avli_Q = cust_avli_Q1, cust_avli_Q3, cust_avli_Q4\n",
    "nulltracker(cust_avli_Q)"
   ]
  },
  {
   "cell_type": "code",
   "execution_count": 143,
   "metadata": {},
   "outputs": [
    {
     "name": "stdout",
     "output_type": "stream",
     "text": [
      "0\n",
      "1\n",
      "2\n"
     ]
    }
   ],
   "source": [
    "cust_info_q = cust_info_q1, cust_info_q3, cust_info_q4\n",
    "nulltracker(cust_info_q)"
   ]
  },
  {
   "cell_type": "code",
   "execution_count": 144,
   "metadata": {},
   "outputs": [],
   "source": [
    "y_Q = y_Q3_3, y_Q4_3\n",
    "nulltracker(y_Q)"
   ]
  },
  {
   "cell_type": "code",
   "execution_count": 146,
   "metadata": {},
   "outputs": [
    {
     "data": {
      "text/plain": [
       "0                         NaN\n",
       "1                         NaN\n",
       "2                         NaN\n",
       "3         2020-03-31 22:06:00\n",
       "4                         NaN\n",
       "5         2020-03-30 19:07:00\n",
       "6                         NaN\n",
       "7                         NaN\n",
       "8                         NaN\n",
       "9                         NaN\n",
       "10                        NaN\n",
       "11                        NaN\n",
       "12                        NaN\n",
       "13                        NaN\n",
       "14                        NaN\n",
       "15        2020-01-16 11:07:00\n",
       "16                        NaN\n",
       "17                        NaN\n",
       "18                        NaN\n",
       "19                        NaN\n",
       "20                        NaN\n",
       "21                        NaN\n",
       "22                        NaN\n",
       "23                        NaN\n",
       "24        2020-01-20 04:17:00\n",
       "25                        NaN\n",
       "26                        NaN\n",
       "27                        NaN\n",
       "28                        NaN\n",
       "29                        NaN\n",
       "                 ...         \n",
       "659594                    NaN\n",
       "659595                    NaN\n",
       "659596                    NaN\n",
       "659597                    NaN\n",
       "659598                    NaN\n",
       "659599                    NaN\n",
       "659600                    NaN\n",
       "659601                    NaN\n",
       "659602                    NaN\n",
       "659603                    NaN\n",
       "659604                    NaN\n",
       "659605                    NaN\n",
       "659606                    NaN\n",
       "659607                    NaN\n",
       "659608                    NaN\n",
       "659609                    NaN\n",
       "659610                    NaN\n",
       "659611                    NaN\n",
       "659612                    NaN\n",
       "659613    2020-03-31 10:50:00\n",
       "659614    2020-03-31 10:14:00\n",
       "659615                    NaN\n",
       "659616                    NaN\n",
       "659617                    NaN\n",
       "659618                    NaN\n",
       "659619                    NaN\n",
       "659620                    NaN\n",
       "659621                    NaN\n",
       "659622                    NaN\n",
       "659623                    NaN\n",
       "Name: B6, Length: 659624, dtype: object"
      ]
     },
     "execution_count": 146,
     "metadata": {},
     "output_type": "execute_result"
    }
   ],
   "source": [
    "#print(behavior_m[3][behavior_m[3].isnull().T.any()])\n",
    "behavior_m[2].isnull().any()\n",
    "behavior_m[2][\"B6\"]"
   ]
  },
  {
   "cell_type": "code",
   "execution_count": 156,
   "metadata": {},
   "outputs": [
    {
     "data": {
      "text/html": [
       "<div>\n",
       "<style scoped>\n",
       "    .dataframe tbody tr th:only-of-type {\n",
       "        vertical-align: middle;\n",
       "    }\n",
       "\n",
       "    .dataframe tbody tr th {\n",
       "        vertical-align: top;\n",
       "    }\n",
       "\n",
       "    .dataframe thead th {\n",
       "        text-align: right;\n",
       "    }\n",
       "</style>\n",
       "<table border=\"1\" class=\"dataframe\">\n",
       "  <thead>\n",
       "    <tr style=\"text-align: right;\">\n",
       "      <th></th>\n",
       "      <th>cust_no</th>\n",
       "      <th>B1</th>\n",
       "      <th>B2</th>\n",
       "      <th>B3</th>\n",
       "      <th>B4</th>\n",
       "      <th>B5</th>\n",
       "      <th>B6</th>\n",
       "      <th>B7</th>\n",
       "    </tr>\n",
       "  </thead>\n",
       "  <tbody>\n",
       "    <tr>\n",
       "      <th>0</th>\n",
       "      <td>0xb2d14994</td>\n",
       "      <td>5</td>\n",
       "      <td>2</td>\n",
       "      <td>1346.15</td>\n",
       "      <td>2</td>\n",
       "      <td>5346.15</td>\n",
       "      <td>2019-12-13 18:03:00</td>\n",
       "      <td>22</td>\n",
       "    </tr>\n",
       "    <tr>\n",
       "      <th>1</th>\n",
       "      <td>0xb2d65824</td>\n",
       "      <td>0</td>\n",
       "      <td>0</td>\n",
       "      <td>0.00</td>\n",
       "      <td>0</td>\n",
       "      <td>0.00</td>\n",
       "      <td>NaN</td>\n",
       "      <td>0</td>\n",
       "    </tr>\n",
       "    <tr>\n",
       "      <th>2</th>\n",
       "      <td>0xb2d539b7</td>\n",
       "      <td>0</td>\n",
       "      <td>0</td>\n",
       "      <td>0.00</td>\n",
       "      <td>0</td>\n",
       "      <td>0.00</td>\n",
       "      <td>NaN</td>\n",
       "      <td>0</td>\n",
       "    </tr>\n",
       "    <tr>\n",
       "      <th>3</th>\n",
       "      <td>0xb2d807ae</td>\n",
       "      <td>0</td>\n",
       "      <td>0</td>\n",
       "      <td>0.00</td>\n",
       "      <td>0</td>\n",
       "      <td>0.00</td>\n",
       "      <td>NaN</td>\n",
       "      <td>0</td>\n",
       "    </tr>\n",
       "    <tr>\n",
       "      <th>4</th>\n",
       "      <td>0xb2d176b2</td>\n",
       "      <td>14</td>\n",
       "      <td>3</td>\n",
       "      <td>292654.81</td>\n",
       "      <td>8</td>\n",
       "      <td>323939.53</td>\n",
       "      <td>2019-12-31 06:02:00</td>\n",
       "      <td>28</td>\n",
       "    </tr>\n",
       "    <tr>\n",
       "      <th>5</th>\n",
       "      <td>0xb2d1386f</td>\n",
       "      <td>0</td>\n",
       "      <td>0</td>\n",
       "      <td>0.00</td>\n",
       "      <td>0</td>\n",
       "      <td>0.00</td>\n",
       "      <td>NaN</td>\n",
       "      <td>0</td>\n",
       "    </tr>\n",
       "    <tr>\n",
       "      <th>6</th>\n",
       "      <td>0xb2d5ae1e</td>\n",
       "      <td>0</td>\n",
       "      <td>1</td>\n",
       "      <td>0.01</td>\n",
       "      <td>0</td>\n",
       "      <td>0.00</td>\n",
       "      <td>2019-12-13 19:35:00</td>\n",
       "      <td>1</td>\n",
       "    </tr>\n",
       "    <tr>\n",
       "      <th>7</th>\n",
       "      <td>0xb2d73522</td>\n",
       "      <td>0</td>\n",
       "      <td>0</td>\n",
       "      <td>0.00</td>\n",
       "      <td>0</td>\n",
       "      <td>0.00</td>\n",
       "      <td>NaN</td>\n",
       "      <td>0</td>\n",
       "    </tr>\n",
       "    <tr>\n",
       "      <th>8</th>\n",
       "      <td>0xb2d4bec7</td>\n",
       "      <td>0</td>\n",
       "      <td>0</td>\n",
       "      <td>0.00</td>\n",
       "      <td>0</td>\n",
       "      <td>0.00</td>\n",
       "      <td>NaN</td>\n",
       "      <td>0</td>\n",
       "    </tr>\n",
       "    <tr>\n",
       "      <th>9</th>\n",
       "      <td>0xb2d86da5</td>\n",
       "      <td>0</td>\n",
       "      <td>0</td>\n",
       "      <td>0.00</td>\n",
       "      <td>0</td>\n",
       "      <td>0.00</td>\n",
       "      <td>NaN</td>\n",
       "      <td>0</td>\n",
       "    </tr>\n",
       "    <tr>\n",
       "      <th>10</th>\n",
       "      <td>0xb2d86cbe</td>\n",
       "      <td>0</td>\n",
       "      <td>0</td>\n",
       "      <td>0.00</td>\n",
       "      <td>0</td>\n",
       "      <td>0.00</td>\n",
       "      <td>NaN</td>\n",
       "      <td>0</td>\n",
       "    </tr>\n",
       "    <tr>\n",
       "      <th>11</th>\n",
       "      <td>0xb2d4de0f</td>\n",
       "      <td>0</td>\n",
       "      <td>0</td>\n",
       "      <td>0.00</td>\n",
       "      <td>0</td>\n",
       "      <td>0.00</td>\n",
       "      <td>NaN</td>\n",
       "      <td>0</td>\n",
       "    </tr>\n",
       "    <tr>\n",
       "      <th>12</th>\n",
       "      <td>0xb2d17a9b</td>\n",
       "      <td>0</td>\n",
       "      <td>0</td>\n",
       "      <td>0.00</td>\n",
       "      <td>0</td>\n",
       "      <td>0.00</td>\n",
       "      <td>NaN</td>\n",
       "      <td>0</td>\n",
       "    </tr>\n",
       "    <tr>\n",
       "      <th>13</th>\n",
       "      <td>0xb2d6b7b5</td>\n",
       "      <td>0</td>\n",
       "      <td>0</td>\n",
       "      <td>0.00</td>\n",
       "      <td>0</td>\n",
       "      <td>0.00</td>\n",
       "      <td>2019-04-24 17:40:00</td>\n",
       "      <td>0</td>\n",
       "    </tr>\n",
       "    <tr>\n",
       "      <th>14</th>\n",
       "      <td>0x3b9b42b7</td>\n",
       "      <td>0</td>\n",
       "      <td>0</td>\n",
       "      <td>0.00</td>\n",
       "      <td>0</td>\n",
       "      <td>0.00</td>\n",
       "      <td>NaN</td>\n",
       "      <td>0</td>\n",
       "    </tr>\n",
       "    <tr>\n",
       "      <th>15</th>\n",
       "      <td>0xb2d32c08</td>\n",
       "      <td>0</td>\n",
       "      <td>0</td>\n",
       "      <td>0.00</td>\n",
       "      <td>0</td>\n",
       "      <td>0.00</td>\n",
       "      <td>NaN</td>\n",
       "      <td>0</td>\n",
       "    </tr>\n",
       "    <tr>\n",
       "      <th>16</th>\n",
       "      <td>0xb2d81f71</td>\n",
       "      <td>0</td>\n",
       "      <td>0</td>\n",
       "      <td>0.00</td>\n",
       "      <td>0</td>\n",
       "      <td>0.00</td>\n",
       "      <td>NaN</td>\n",
       "      <td>0</td>\n",
       "    </tr>\n",
       "    <tr>\n",
       "      <th>17</th>\n",
       "      <td>0xb2d328b9</td>\n",
       "      <td>0</td>\n",
       "      <td>0</td>\n",
       "      <td>0.00</td>\n",
       "      <td>0</td>\n",
       "      <td>0.00</td>\n",
       "      <td>2019-04-18 23:57:00</td>\n",
       "      <td>0</td>\n",
       "    </tr>\n",
       "    <tr>\n",
       "      <th>18</th>\n",
       "      <td>0xb2d81f24</td>\n",
       "      <td>0</td>\n",
       "      <td>0</td>\n",
       "      <td>0.00</td>\n",
       "      <td>0</td>\n",
       "      <td>0.00</td>\n",
       "      <td>NaN</td>\n",
       "      <td>0</td>\n",
       "    </tr>\n",
       "    <tr>\n",
       "      <th>19</th>\n",
       "      <td>0xb2d2fb9b</td>\n",
       "      <td>0</td>\n",
       "      <td>0</td>\n",
       "      <td>0.00</td>\n",
       "      <td>0</td>\n",
       "      <td>0.00</td>\n",
       "      <td>NaN</td>\n",
       "      <td>0</td>\n",
       "    </tr>\n",
       "    <tr>\n",
       "      <th>20</th>\n",
       "      <td>0xb2d73f71</td>\n",
       "      <td>0</td>\n",
       "      <td>0</td>\n",
       "      <td>0.00</td>\n",
       "      <td>0</td>\n",
       "      <td>0.00</td>\n",
       "      <td>NaN</td>\n",
       "      <td>0</td>\n",
       "    </tr>\n",
       "    <tr>\n",
       "      <th>21</th>\n",
       "      <td>0xb2d612a9</td>\n",
       "      <td>0</td>\n",
       "      <td>0</td>\n",
       "      <td>0.00</td>\n",
       "      <td>0</td>\n",
       "      <td>0.00</td>\n",
       "      <td>NaN</td>\n",
       "      <td>0</td>\n",
       "    </tr>\n",
       "    <tr>\n",
       "      <th>22</th>\n",
       "      <td>0xb2d2fccf</td>\n",
       "      <td>0</td>\n",
       "      <td>0</td>\n",
       "      <td>0.00</td>\n",
       "      <td>0</td>\n",
       "      <td>0.00</td>\n",
       "      <td>NaN</td>\n",
       "      <td>0</td>\n",
       "    </tr>\n",
       "    <tr>\n",
       "      <th>23</th>\n",
       "      <td>0xb2d2fd1c</td>\n",
       "      <td>0</td>\n",
       "      <td>0</td>\n",
       "      <td>0.00</td>\n",
       "      <td>0</td>\n",
       "      <td>0.00</td>\n",
       "      <td>NaN</td>\n",
       "      <td>0</td>\n",
       "    </tr>\n",
       "    <tr>\n",
       "      <th>24</th>\n",
       "      <td>0xb2d1309d</td>\n",
       "      <td>0</td>\n",
       "      <td>0</td>\n",
       "      <td>0.00</td>\n",
       "      <td>0</td>\n",
       "      <td>0.00</td>\n",
       "      <td>2019-10-18 04:12:00</td>\n",
       "      <td>4</td>\n",
       "    </tr>\n",
       "    <tr>\n",
       "      <th>25</th>\n",
       "      <td>0xb2d8235a</td>\n",
       "      <td>0</td>\n",
       "      <td>0</td>\n",
       "      <td>0.00</td>\n",
       "      <td>0</td>\n",
       "      <td>0.00</td>\n",
       "      <td>NaN</td>\n",
       "      <td>0</td>\n",
       "    </tr>\n",
       "    <tr>\n",
       "      <th>26</th>\n",
       "      <td>0xb2d1ced3</td>\n",
       "      <td>0</td>\n",
       "      <td>0</td>\n",
       "      <td>0.00</td>\n",
       "      <td>0</td>\n",
       "      <td>0.00</td>\n",
       "      <td>2019-06-18 12:24:00</td>\n",
       "      <td>0</td>\n",
       "    </tr>\n",
       "    <tr>\n",
       "      <th>27</th>\n",
       "      <td>0xb2d0da4a</td>\n",
       "      <td>0</td>\n",
       "      <td>0</td>\n",
       "      <td>0.00</td>\n",
       "      <td>0</td>\n",
       "      <td>0.00</td>\n",
       "      <td>NaN</td>\n",
       "      <td>0</td>\n",
       "    </tr>\n",
       "    <tr>\n",
       "      <th>28</th>\n",
       "      <td>0xb2d40000</td>\n",
       "      <td>0</td>\n",
       "      <td>1</td>\n",
       "      <td>25565.00</td>\n",
       "      <td>0</td>\n",
       "      <td>0.00</td>\n",
       "      <td>2019-12-08 23:52:00</td>\n",
       "      <td>3</td>\n",
       "    </tr>\n",
       "    <tr>\n",
       "      <th>29</th>\n",
       "      <td>0xb2d2d17f</td>\n",
       "      <td>0</td>\n",
       "      <td>0</td>\n",
       "      <td>0.00</td>\n",
       "      <td>0</td>\n",
       "      <td>0.00</td>\n",
       "      <td>NaN</td>\n",
       "      <td>0</td>\n",
       "    </tr>\n",
       "    <tr>\n",
       "      <th>...</th>\n",
       "      <td>...</td>\n",
       "      <td>...</td>\n",
       "      <td>...</td>\n",
       "      <td>...</td>\n",
       "      <td>...</td>\n",
       "      <td>...</td>\n",
       "      <td>...</td>\n",
       "      <td>...</td>\n",
       "    </tr>\n",
       "    <tr>\n",
       "      <th>543793</th>\n",
       "      <td>0xb2da3084</td>\n",
       "      <td>3</td>\n",
       "      <td>2</td>\n",
       "      <td>80100.00</td>\n",
       "      <td>1</td>\n",
       "      <td>80000.00</td>\n",
       "      <td>2019-12-27 04:35:00</td>\n",
       "      <td>5</td>\n",
       "    </tr>\n",
       "    <tr>\n",
       "      <th>543794</th>\n",
       "      <td>0xb2da579e</td>\n",
       "      <td>0</td>\n",
       "      <td>0</td>\n",
       "      <td>0.00</td>\n",
       "      <td>0</td>\n",
       "      <td>0.00</td>\n",
       "      <td>2019-12-24 15:56:00</td>\n",
       "      <td>8</td>\n",
       "    </tr>\n",
       "    <tr>\n",
       "      <th>543795</th>\n",
       "      <td>0xb2da4cca</td>\n",
       "      <td>0</td>\n",
       "      <td>0</td>\n",
       "      <td>0.00</td>\n",
       "      <td>0</td>\n",
       "      <td>0.00</td>\n",
       "      <td>NaN</td>\n",
       "      <td>0</td>\n",
       "    </tr>\n",
       "    <tr>\n",
       "      <th>543796</th>\n",
       "      <td>0xb2da544f</td>\n",
       "      <td>2</td>\n",
       "      <td>0</td>\n",
       "      <td>0.00</td>\n",
       "      <td>0</td>\n",
       "      <td>0.00</td>\n",
       "      <td>NaN</td>\n",
       "      <td>0</td>\n",
       "    </tr>\n",
       "    <tr>\n",
       "      <th>543797</th>\n",
       "      <td>0xb2da393d</td>\n",
       "      <td>0</td>\n",
       "      <td>1</td>\n",
       "      <td>100.00</td>\n",
       "      <td>0</td>\n",
       "      <td>0.00</td>\n",
       "      <td>2019-12-27 15:16:00</td>\n",
       "      <td>1</td>\n",
       "    </tr>\n",
       "    <tr>\n",
       "      <th>543798</th>\n",
       "      <td>0xb2da5066</td>\n",
       "      <td>1</td>\n",
       "      <td>0</td>\n",
       "      <td>0.00</td>\n",
       "      <td>0</td>\n",
       "      <td>0.00</td>\n",
       "      <td>NaN</td>\n",
       "      <td>0</td>\n",
       "    </tr>\n",
       "    <tr>\n",
       "      <th>543799</th>\n",
       "      <td>0xb2da4d64</td>\n",
       "      <td>0</td>\n",
       "      <td>0</td>\n",
       "      <td>0.00</td>\n",
       "      <td>0</td>\n",
       "      <td>0.00</td>\n",
       "      <td>NaN</td>\n",
       "      <td>0</td>\n",
       "    </tr>\n",
       "    <tr>\n",
       "      <th>543800</th>\n",
       "      <td>0xb2da5368</td>\n",
       "      <td>1</td>\n",
       "      <td>0</td>\n",
       "      <td>0.00</td>\n",
       "      <td>0</td>\n",
       "      <td>0.00</td>\n",
       "      <td>NaN</td>\n",
       "      <td>0</td>\n",
       "    </tr>\n",
       "    <tr>\n",
       "      <th>543801</th>\n",
       "      <td>0xb2da3c3f</td>\n",
       "      <td>3</td>\n",
       "      <td>0</td>\n",
       "      <td>0.00</td>\n",
       "      <td>0</td>\n",
       "      <td>0.00</td>\n",
       "      <td>2019-12-18 11:28:00</td>\n",
       "      <td>1</td>\n",
       "    </tr>\n",
       "    <tr>\n",
       "      <th>543802</th>\n",
       "      <td>0xb2da5751</td>\n",
       "      <td>7</td>\n",
       "      <td>2</td>\n",
       "      <td>2.00</td>\n",
       "      <td>0</td>\n",
       "      <td>0.00</td>\n",
       "      <td>2019-12-26 16:57:00</td>\n",
       "      <td>3</td>\n",
       "    </tr>\n",
       "    <tr>\n",
       "      <th>543803</th>\n",
       "      <td>0xb2da497b</td>\n",
       "      <td>0</td>\n",
       "      <td>1</td>\n",
       "      <td>100.00</td>\n",
       "      <td>0</td>\n",
       "      <td>0.00</td>\n",
       "      <td>2019-12-19 17:22:00</td>\n",
       "      <td>1</td>\n",
       "    </tr>\n",
       "    <tr>\n",
       "      <th>543804</th>\n",
       "      <td>0xb2da5019</td>\n",
       "      <td>0</td>\n",
       "      <td>0</td>\n",
       "      <td>0.00</td>\n",
       "      <td>0</td>\n",
       "      <td>0.00</td>\n",
       "      <td>2019-12-31 16:48:00</td>\n",
       "      <td>1</td>\n",
       "    </tr>\n",
       "    <tr>\n",
       "      <th>543805</th>\n",
       "      <td>0xb2da316b</td>\n",
       "      <td>0</td>\n",
       "      <td>1</td>\n",
       "      <td>100.00</td>\n",
       "      <td>0</td>\n",
       "      <td>0.00</td>\n",
       "      <td>2019-12-20 22:13:00</td>\n",
       "      <td>9</td>\n",
       "    </tr>\n",
       "    <tr>\n",
       "      <th>543806</th>\n",
       "      <td>0xb2da5281</td>\n",
       "      <td>2</td>\n",
       "      <td>1</td>\n",
       "      <td>10000.00</td>\n",
       "      <td>1</td>\n",
       "      <td>10000.00</td>\n",
       "      <td>2019-12-25 08:16:00</td>\n",
       "      <td>12</td>\n",
       "    </tr>\n",
       "    <tr>\n",
       "      <th>543807</th>\n",
       "      <td>0xb2da2f50</td>\n",
       "      <td>0</td>\n",
       "      <td>0</td>\n",
       "      <td>0.00</td>\n",
       "      <td>0</td>\n",
       "      <td>0.00</td>\n",
       "      <td>NaN</td>\n",
       "      <td>0</td>\n",
       "    </tr>\n",
       "    <tr>\n",
       "      <th>543808</th>\n",
       "      <td>0xb2da4a62</td>\n",
       "      <td>0</td>\n",
       "      <td>1</td>\n",
       "      <td>0.10</td>\n",
       "      <td>0</td>\n",
       "      <td>0.00</td>\n",
       "      <td>2019-12-24 19:13:00</td>\n",
       "      <td>13</td>\n",
       "    </tr>\n",
       "    <tr>\n",
       "      <th>543809</th>\n",
       "      <td>0xb2da3856</td>\n",
       "      <td>0</td>\n",
       "      <td>1</td>\n",
       "      <td>100.00</td>\n",
       "      <td>0</td>\n",
       "      <td>0.00</td>\n",
       "      <td>2019-12-27 15:16:00</td>\n",
       "      <td>1</td>\n",
       "    </tr>\n",
       "    <tr>\n",
       "      <th>543810</th>\n",
       "      <td>0xb2da566a</td>\n",
       "      <td>0</td>\n",
       "      <td>1</td>\n",
       "      <td>100.00</td>\n",
       "      <td>0</td>\n",
       "      <td>0.00</td>\n",
       "      <td>2019-12-26 17:12:00</td>\n",
       "      <td>1</td>\n",
       "    </tr>\n",
       "    <tr>\n",
       "      <th>543811</th>\n",
       "      <td>0xb2da4fcc</td>\n",
       "      <td>1</td>\n",
       "      <td>2</td>\n",
       "      <td>200.00</td>\n",
       "      <td>0</td>\n",
       "      <td>0.00</td>\n",
       "      <td>2019-12-23 11:40:00</td>\n",
       "      <td>3</td>\n",
       "    </tr>\n",
       "    <tr>\n",
       "      <th>543812</th>\n",
       "      <td>0xb2da63a6</td>\n",
       "      <td>5</td>\n",
       "      <td>0</td>\n",
       "      <td>0.00</td>\n",
       "      <td>0</td>\n",
       "      <td>0.00</td>\n",
       "      <td>NaN</td>\n",
       "      <td>0</td>\n",
       "    </tr>\n",
       "    <tr>\n",
       "      <th>543813</th>\n",
       "      <td>0xb2da5c6e</td>\n",
       "      <td>11</td>\n",
       "      <td>2</td>\n",
       "      <td>2.00</td>\n",
       "      <td>0</td>\n",
       "      <td>0.00</td>\n",
       "      <td>2019-12-27 11:27:00</td>\n",
       "      <td>3</td>\n",
       "    </tr>\n",
       "    <tr>\n",
       "      <th>543814</th>\n",
       "      <td>0xb2da5b87</td>\n",
       "      <td>2</td>\n",
       "      <td>0</td>\n",
       "      <td>0.00</td>\n",
       "      <td>0</td>\n",
       "      <td>0.00</td>\n",
       "      <td>2019-12-25 15:57:00</td>\n",
       "      <td>3</td>\n",
       "    </tr>\n",
       "    <tr>\n",
       "      <th>543815</th>\n",
       "      <td>0xb2da5fbd</td>\n",
       "      <td>11</td>\n",
       "      <td>1</td>\n",
       "      <td>20000.00</td>\n",
       "      <td>1</td>\n",
       "      <td>20000.00</td>\n",
       "      <td>2019-12-30 04:29:00</td>\n",
       "      <td>2</td>\n",
       "    </tr>\n",
       "    <tr>\n",
       "      <th>543816</th>\n",
       "      <td>0xb2da6359</td>\n",
       "      <td>0</td>\n",
       "      <td>0</td>\n",
       "      <td>0.00</td>\n",
       "      <td>0</td>\n",
       "      <td>0.00</td>\n",
       "      <td>NaN</td>\n",
       "      <td>0</td>\n",
       "    </tr>\n",
       "    <tr>\n",
       "      <th>543817</th>\n",
       "      <td>0xb2da5f70</td>\n",
       "      <td>0</td>\n",
       "      <td>1</td>\n",
       "      <td>100.00</td>\n",
       "      <td>0</td>\n",
       "      <td>0.00</td>\n",
       "      <td>2019-12-26 18:18:00</td>\n",
       "      <td>2</td>\n",
       "    </tr>\n",
       "    <tr>\n",
       "      <th>543818</th>\n",
       "      <td>0xb2da6057</td>\n",
       "      <td>0</td>\n",
       "      <td>0</td>\n",
       "      <td>0.00</td>\n",
       "      <td>0</td>\n",
       "      <td>0.00</td>\n",
       "      <td>NaN</td>\n",
       "      <td>0</td>\n",
       "    </tr>\n",
       "    <tr>\n",
       "      <th>543819</th>\n",
       "      <td>0xb2da5bd4</td>\n",
       "      <td>0</td>\n",
       "      <td>0</td>\n",
       "      <td>0.00</td>\n",
       "      <td>0</td>\n",
       "      <td>0.00</td>\n",
       "      <td>2019-12-25 16:17:00</td>\n",
       "      <td>8</td>\n",
       "    </tr>\n",
       "    <tr>\n",
       "      <th>543820</th>\n",
       "      <td>0xb2da5a53</td>\n",
       "      <td>0</td>\n",
       "      <td>1</td>\n",
       "      <td>50.00</td>\n",
       "      <td>0</td>\n",
       "      <td>0.00</td>\n",
       "      <td>2019-12-31 13:31:00</td>\n",
       "      <td>1</td>\n",
       "    </tr>\n",
       "    <tr>\n",
       "      <th>543821</th>\n",
       "      <td>0xb2da678f</td>\n",
       "      <td>6</td>\n",
       "      <td>0</td>\n",
       "      <td>0.00</td>\n",
       "      <td>0</td>\n",
       "      <td>0.00</td>\n",
       "      <td>2019-12-30 12:48:00</td>\n",
       "      <td>2</td>\n",
       "    </tr>\n",
       "    <tr>\n",
       "      <th>543822</th>\n",
       "      <td>0xb2da6b78</td>\n",
       "      <td>4</td>\n",
       "      <td>0</td>\n",
       "      <td>0.00</td>\n",
       "      <td>0</td>\n",
       "      <td>0.00</td>\n",
       "      <td>NaN</td>\n",
       "      <td>0</td>\n",
       "    </tr>\n",
       "  </tbody>\n",
       "</table>\n",
       "<p>543823 rows × 8 columns</p>\n",
       "</div>"
      ],
      "text/plain": [
       "           cust_no  B1  B2         B3  B4         B5                   B6  B7\n",
       "0       0xb2d14994   5   2    1346.15   2    5346.15  2019-12-13 18:03:00  22\n",
       "1       0xb2d65824   0   0       0.00   0       0.00                  NaN   0\n",
       "2       0xb2d539b7   0   0       0.00   0       0.00                  NaN   0\n",
       "3       0xb2d807ae   0   0       0.00   0       0.00                  NaN   0\n",
       "4       0xb2d176b2  14   3  292654.81   8  323939.53  2019-12-31 06:02:00  28\n",
       "5       0xb2d1386f   0   0       0.00   0       0.00                  NaN   0\n",
       "6       0xb2d5ae1e   0   1       0.01   0       0.00  2019-12-13 19:35:00   1\n",
       "7       0xb2d73522   0   0       0.00   0       0.00                  NaN   0\n",
       "8       0xb2d4bec7   0   0       0.00   0       0.00                  NaN   0\n",
       "9       0xb2d86da5   0   0       0.00   0       0.00                  NaN   0\n",
       "10      0xb2d86cbe   0   0       0.00   0       0.00                  NaN   0\n",
       "11      0xb2d4de0f   0   0       0.00   0       0.00                  NaN   0\n",
       "12      0xb2d17a9b   0   0       0.00   0       0.00                  NaN   0\n",
       "13      0xb2d6b7b5   0   0       0.00   0       0.00  2019-04-24 17:40:00   0\n",
       "14      0x3b9b42b7   0   0       0.00   0       0.00                  NaN   0\n",
       "15      0xb2d32c08   0   0       0.00   0       0.00                  NaN   0\n",
       "16      0xb2d81f71   0   0       0.00   0       0.00                  NaN   0\n",
       "17      0xb2d328b9   0   0       0.00   0       0.00  2019-04-18 23:57:00   0\n",
       "18      0xb2d81f24   0   0       0.00   0       0.00                  NaN   0\n",
       "19      0xb2d2fb9b   0   0       0.00   0       0.00                  NaN   0\n",
       "20      0xb2d73f71   0   0       0.00   0       0.00                  NaN   0\n",
       "21      0xb2d612a9   0   0       0.00   0       0.00                  NaN   0\n",
       "22      0xb2d2fccf   0   0       0.00   0       0.00                  NaN   0\n",
       "23      0xb2d2fd1c   0   0       0.00   0       0.00                  NaN   0\n",
       "24      0xb2d1309d   0   0       0.00   0       0.00  2019-10-18 04:12:00   4\n",
       "25      0xb2d8235a   0   0       0.00   0       0.00                  NaN   0\n",
       "26      0xb2d1ced3   0   0       0.00   0       0.00  2019-06-18 12:24:00   0\n",
       "27      0xb2d0da4a   0   0       0.00   0       0.00                  NaN   0\n",
       "28      0xb2d40000   0   1   25565.00   0       0.00  2019-12-08 23:52:00   3\n",
       "29      0xb2d2d17f   0   0       0.00   0       0.00                  NaN   0\n",
       "...            ...  ..  ..        ...  ..        ...                  ...  ..\n",
       "543793  0xb2da3084   3   2   80100.00   1   80000.00  2019-12-27 04:35:00   5\n",
       "543794  0xb2da579e   0   0       0.00   0       0.00  2019-12-24 15:56:00   8\n",
       "543795  0xb2da4cca   0   0       0.00   0       0.00                  NaN   0\n",
       "543796  0xb2da544f   2   0       0.00   0       0.00                  NaN   0\n",
       "543797  0xb2da393d   0   1     100.00   0       0.00  2019-12-27 15:16:00   1\n",
       "543798  0xb2da5066   1   0       0.00   0       0.00                  NaN   0\n",
       "543799  0xb2da4d64   0   0       0.00   0       0.00                  NaN   0\n",
       "543800  0xb2da5368   1   0       0.00   0       0.00                  NaN   0\n",
       "543801  0xb2da3c3f   3   0       0.00   0       0.00  2019-12-18 11:28:00   1\n",
       "543802  0xb2da5751   7   2       2.00   0       0.00  2019-12-26 16:57:00   3\n",
       "543803  0xb2da497b   0   1     100.00   0       0.00  2019-12-19 17:22:00   1\n",
       "543804  0xb2da5019   0   0       0.00   0       0.00  2019-12-31 16:48:00   1\n",
       "543805  0xb2da316b   0   1     100.00   0       0.00  2019-12-20 22:13:00   9\n",
       "543806  0xb2da5281   2   1   10000.00   1   10000.00  2019-12-25 08:16:00  12\n",
       "543807  0xb2da2f50   0   0       0.00   0       0.00                  NaN   0\n",
       "543808  0xb2da4a62   0   1       0.10   0       0.00  2019-12-24 19:13:00  13\n",
       "543809  0xb2da3856   0   1     100.00   0       0.00  2019-12-27 15:16:00   1\n",
       "543810  0xb2da566a   0   1     100.00   0       0.00  2019-12-26 17:12:00   1\n",
       "543811  0xb2da4fcc   1   2     200.00   0       0.00  2019-12-23 11:40:00   3\n",
       "543812  0xb2da63a6   5   0       0.00   0       0.00                  NaN   0\n",
       "543813  0xb2da5c6e  11   2       2.00   0       0.00  2019-12-27 11:27:00   3\n",
       "543814  0xb2da5b87   2   0       0.00   0       0.00  2019-12-25 15:57:00   3\n",
       "543815  0xb2da5fbd  11   1   20000.00   1   20000.00  2019-12-30 04:29:00   2\n",
       "543816  0xb2da6359   0   0       0.00   0       0.00                  NaN   0\n",
       "543817  0xb2da5f70   0   1     100.00   0       0.00  2019-12-26 18:18:00   2\n",
       "543818  0xb2da6057   0   0       0.00   0       0.00                  NaN   0\n",
       "543819  0xb2da5bd4   0   0       0.00   0       0.00  2019-12-25 16:17:00   8\n",
       "543820  0xb2da5a53   0   1      50.00   0       0.00  2019-12-31 13:31:00   1\n",
       "543821  0xb2da678f   6   0       0.00   0       0.00  2019-12-30 12:48:00   2\n",
       "543822  0xb2da6b78   4   0       0.00   0       0.00                  NaN   0\n",
       "\n",
       "[543823 rows x 8 columns]"
      ]
     },
     "execution_count": 156,
     "metadata": {},
     "output_type": "execute_result"
    }
   ],
   "source": [
    "behavior_m12"
   ]
  },
  {
   "cell_type": "code",
   "execution_count": 36,
   "metadata": {},
   "outputs": [
    {
     "data": {
      "text/html": [
       "<div>\n",
       "<style scoped>\n",
       "    .dataframe tbody tr th:only-of-type {\n",
       "        vertical-align: middle;\n",
       "    }\n",
       "\n",
       "    .dataframe tbody tr th {\n",
       "        vertical-align: top;\n",
       "    }\n",
       "\n",
       "    .dataframe thead th {\n",
       "        text-align: right;\n",
       "    }\n",
       "</style>\n",
       "<table border=\"1\" class=\"dataframe\">\n",
       "  <thead>\n",
       "    <tr style=\"text-align: right;\">\n",
       "      <th></th>\n",
       "      <th>X1</th>\n",
       "      <th>X2</th>\n",
       "      <th>X3</th>\n",
       "      <th>X4</th>\n",
       "      <th>X5</th>\n",
       "      <th>X6</th>\n",
       "      <th>X7</th>\n",
       "      <th>X8</th>\n",
       "    </tr>\n",
       "  </thead>\n",
       "  <tbody>\n",
       "    <tr>\n",
       "      <th>count</th>\n",
       "      <td>5.561950e+05</td>\n",
       "      <td>5.561950e+05</td>\n",
       "      <td>5.561950e+05</td>\n",
       "      <td>5.561950e+05</td>\n",
       "      <td>5.561950e+05</td>\n",
       "      <td>5.561950e+05</td>\n",
       "      <td>5.561950e+05</td>\n",
       "      <td>5.561950e+05</td>\n",
       "    </tr>\n",
       "    <tr>\n",
       "      <th>mean</th>\n",
       "      <td>4.752963e+04</td>\n",
       "      <td>3.296358e+03</td>\n",
       "      <td>4.633316e+03</td>\n",
       "      <td>4.351619e+03</td>\n",
       "      <td>1.939474e+02</td>\n",
       "      <td>3.158859e+02</td>\n",
       "      <td>6.446212e+04</td>\n",
       "      <td>1.264714e+04</td>\n",
       "    </tr>\n",
       "    <tr>\n",
       "      <th>std</th>\n",
       "      <td>1.555244e+06</td>\n",
       "      <td>5.476658e+05</td>\n",
       "      <td>2.170638e+05</td>\n",
       "      <td>1.000142e+05</td>\n",
       "      <td>1.039317e+04</td>\n",
       "      <td>2.743851e+04</td>\n",
       "      <td>6.525137e+05</td>\n",
       "      <td>1.866075e+05</td>\n",
       "    </tr>\n",
       "    <tr>\n",
       "      <th>min</th>\n",
       "      <td>0.000000e+00</td>\n",
       "      <td>0.000000e+00</td>\n",
       "      <td>0.000000e+00</td>\n",
       "      <td>0.000000e+00</td>\n",
       "      <td>0.000000e+00</td>\n",
       "      <td>0.000000e+00</td>\n",
       "      <td>0.000000e+00</td>\n",
       "      <td>0.000000e+00</td>\n",
       "    </tr>\n",
       "    <tr>\n",
       "      <th>25%</th>\n",
       "      <td>0.000000e+00</td>\n",
       "      <td>0.000000e+00</td>\n",
       "      <td>0.000000e+00</td>\n",
       "      <td>0.000000e+00</td>\n",
       "      <td>0.000000e+00</td>\n",
       "      <td>0.000000e+00</td>\n",
       "      <td>0.000000e+00</td>\n",
       "      <td>0.000000e+00</td>\n",
       "    </tr>\n",
       "    <tr>\n",
       "      <th>50%</th>\n",
       "      <td>0.000000e+00</td>\n",
       "      <td>0.000000e+00</td>\n",
       "      <td>0.000000e+00</td>\n",
       "      <td>0.000000e+00</td>\n",
       "      <td>0.000000e+00</td>\n",
       "      <td>0.000000e+00</td>\n",
       "      <td>0.000000e+00</td>\n",
       "      <td>0.000000e+00</td>\n",
       "    </tr>\n",
       "    <tr>\n",
       "      <th>75%</th>\n",
       "      <td>0.000000e+00</td>\n",
       "      <td>0.000000e+00</td>\n",
       "      <td>7.670000e+00</td>\n",
       "      <td>0.000000e+00</td>\n",
       "      <td>0.000000e+00</td>\n",
       "      <td>0.000000e+00</td>\n",
       "      <td>0.000000e+00</td>\n",
       "      <td>0.000000e+00</td>\n",
       "    </tr>\n",
       "    <tr>\n",
       "      <th>max</th>\n",
       "      <td>2.900000e+08</td>\n",
       "      <td>3.278498e+08</td>\n",
       "      <td>1.090412e+08</td>\n",
       "      <td>3.000000e+07</td>\n",
       "      <td>3.740000e+06</td>\n",
       "      <td>1.000000e+07</td>\n",
       "      <td>3.000000e+07</td>\n",
       "      <td>5.800000e+07</td>\n",
       "    </tr>\n",
       "  </tbody>\n",
       "</table>\n",
       "</div>"
      ],
      "text/plain": [
       "                 X1            X2            X3            X4            X5  \\\n",
       "count  5.561950e+05  5.561950e+05  5.561950e+05  5.561950e+05  5.561950e+05   \n",
       "mean   4.752963e+04  3.296358e+03  4.633316e+03  4.351619e+03  1.939474e+02   \n",
       "std    1.555244e+06  5.476658e+05  2.170638e+05  1.000142e+05  1.039317e+04   \n",
       "min    0.000000e+00  0.000000e+00  0.000000e+00  0.000000e+00  0.000000e+00   \n",
       "25%    0.000000e+00  0.000000e+00  0.000000e+00  0.000000e+00  0.000000e+00   \n",
       "50%    0.000000e+00  0.000000e+00  0.000000e+00  0.000000e+00  0.000000e+00   \n",
       "75%    0.000000e+00  0.000000e+00  7.670000e+00  0.000000e+00  0.000000e+00   \n",
       "max    2.900000e+08  3.278498e+08  1.090412e+08  3.000000e+07  3.740000e+06   \n",
       "\n",
       "                 X6            X7            X8  \n",
       "count  5.561950e+05  5.561950e+05  5.561950e+05  \n",
       "mean   3.158859e+02  6.446212e+04  1.264714e+04  \n",
       "std    2.743851e+04  6.525137e+05  1.866075e+05  \n",
       "min    0.000000e+00  0.000000e+00  0.000000e+00  \n",
       "25%    0.000000e+00  0.000000e+00  0.000000e+00  \n",
       "50%    0.000000e+00  0.000000e+00  0.000000e+00  \n",
       "75%    0.000000e+00  0.000000e+00  0.000000e+00  \n",
       "max    1.000000e+07  3.000000e+07  5.800000e+07  "
      ]
     },
     "metadata": {},
     "output_type": "display_data"
    },
    {
     "data": {
      "text/html": [
       "<div>\n",
       "<style scoped>\n",
       "    .dataframe tbody tr th:only-of-type {\n",
       "        vertical-align: middle;\n",
       "    }\n",
       "\n",
       "    .dataframe tbody tr th {\n",
       "        vertical-align: top;\n",
       "    }\n",
       "\n",
       "    .dataframe thead th {\n",
       "        text-align: right;\n",
       "    }\n",
       "</style>\n",
       "<table border=\"1\" class=\"dataframe\">\n",
       "  <thead>\n",
       "    <tr style=\"text-align: right;\">\n",
       "      <th></th>\n",
       "      <th>X1</th>\n",
       "      <th>X2</th>\n",
       "      <th>X3</th>\n",
       "      <th>X4</th>\n",
       "      <th>X5</th>\n",
       "      <th>X6</th>\n",
       "      <th>X7</th>\n",
       "      <th>X8</th>\n",
       "    </tr>\n",
       "  </thead>\n",
       "  <tbody>\n",
       "    <tr>\n",
       "      <th>count</th>\n",
       "      <td>6.036310e+05</td>\n",
       "      <td>6.036310e+05</td>\n",
       "      <td>6.036310e+05</td>\n",
       "      <td>6.036310e+05</td>\n",
       "      <td>6.036310e+05</td>\n",
       "      <td>6.036310e+05</td>\n",
       "      <td>6.036310e+05</td>\n",
       "      <td>6.036310e+05</td>\n",
       "    </tr>\n",
       "    <tr>\n",
       "      <th>mean</th>\n",
       "      <td>4.385846e+04</td>\n",
       "      <td>3.259812e+03</td>\n",
       "      <td>4.922958e+03</td>\n",
       "      <td>3.361816e+03</td>\n",
       "      <td>1.850724e+02</td>\n",
       "      <td>2.975686e+02</td>\n",
       "      <td>5.981933e+04</td>\n",
       "      <td>1.230564e+04</td>\n",
       "    </tr>\n",
       "    <tr>\n",
       "      <th>std</th>\n",
       "      <td>1.492338e+06</td>\n",
       "      <td>5.552339e+05</td>\n",
       "      <td>2.108768e+05</td>\n",
       "      <td>7.890369e+04</td>\n",
       "      <td>8.912695e+03</td>\n",
       "      <td>2.673754e+04</td>\n",
       "      <td>6.298647e+05</td>\n",
       "      <td>1.846377e+05</td>\n",
       "    </tr>\n",
       "    <tr>\n",
       "      <th>min</th>\n",
       "      <td>0.000000e+00</td>\n",
       "      <td>0.000000e+00</td>\n",
       "      <td>0.000000e+00</td>\n",
       "      <td>0.000000e+00</td>\n",
       "      <td>-1.770000e+00</td>\n",
       "      <td>0.000000e+00</td>\n",
       "      <td>0.000000e+00</td>\n",
       "      <td>0.000000e+00</td>\n",
       "    </tr>\n",
       "    <tr>\n",
       "      <th>25%</th>\n",
       "      <td>0.000000e+00</td>\n",
       "      <td>0.000000e+00</td>\n",
       "      <td>0.000000e+00</td>\n",
       "      <td>0.000000e+00</td>\n",
       "      <td>0.000000e+00</td>\n",
       "      <td>0.000000e+00</td>\n",
       "      <td>0.000000e+00</td>\n",
       "      <td>0.000000e+00</td>\n",
       "    </tr>\n",
       "    <tr>\n",
       "      <th>50%</th>\n",
       "      <td>0.000000e+00</td>\n",
       "      <td>0.000000e+00</td>\n",
       "      <td>0.000000e+00</td>\n",
       "      <td>0.000000e+00</td>\n",
       "      <td>0.000000e+00</td>\n",
       "      <td>0.000000e+00</td>\n",
       "      <td>0.000000e+00</td>\n",
       "      <td>0.000000e+00</td>\n",
       "    </tr>\n",
       "    <tr>\n",
       "      <th>75%</th>\n",
       "      <td>0.000000e+00</td>\n",
       "      <td>0.000000e+00</td>\n",
       "      <td>3.970000e+00</td>\n",
       "      <td>0.000000e+00</td>\n",
       "      <td>0.000000e+00</td>\n",
       "      <td>0.000000e+00</td>\n",
       "      <td>0.000000e+00</td>\n",
       "      <td>0.000000e+00</td>\n",
       "    </tr>\n",
       "    <tr>\n",
       "      <th>max</th>\n",
       "      <td>2.900000e+08</td>\n",
       "      <td>3.335142e+08</td>\n",
       "      <td>1.090412e+08</td>\n",
       "      <td>1.877200e+07</td>\n",
       "      <td>2.100000e+06</td>\n",
       "      <td>1.000000e+07</td>\n",
       "      <td>3.000000e+07</td>\n",
       "      <td>5.800000e+07</td>\n",
       "    </tr>\n",
       "  </tbody>\n",
       "</table>\n",
       "</div>"
      ],
      "text/plain": [
       "                 X1            X2            X3            X4            X5  \\\n",
       "count  6.036310e+05  6.036310e+05  6.036310e+05  6.036310e+05  6.036310e+05   \n",
       "mean   4.385846e+04  3.259812e+03  4.922958e+03  3.361816e+03  1.850724e+02   \n",
       "std    1.492338e+06  5.552339e+05  2.108768e+05  7.890369e+04  8.912695e+03   \n",
       "min    0.000000e+00  0.000000e+00  0.000000e+00  0.000000e+00 -1.770000e+00   \n",
       "25%    0.000000e+00  0.000000e+00  0.000000e+00  0.000000e+00  0.000000e+00   \n",
       "50%    0.000000e+00  0.000000e+00  0.000000e+00  0.000000e+00  0.000000e+00   \n",
       "75%    0.000000e+00  0.000000e+00  3.970000e+00  0.000000e+00  0.000000e+00   \n",
       "max    2.900000e+08  3.335142e+08  1.090412e+08  1.877200e+07  2.100000e+06   \n",
       "\n",
       "                 X6            X7            X8  \n",
       "count  6.036310e+05  6.036310e+05  6.036310e+05  \n",
       "mean   2.975686e+02  5.981933e+04  1.230564e+04  \n",
       "std    2.673754e+04  6.298647e+05  1.846377e+05  \n",
       "min    0.000000e+00  0.000000e+00  0.000000e+00  \n",
       "25%    0.000000e+00  0.000000e+00  0.000000e+00  \n",
       "50%    0.000000e+00  0.000000e+00  0.000000e+00  \n",
       "75%    0.000000e+00  0.000000e+00  0.000000e+00  \n",
       "max    1.000000e+07  3.000000e+07  5.800000e+07  "
      ]
     },
     "metadata": {},
     "output_type": "display_data"
    },
    {
     "data": {
      "text/html": [
       "<div>\n",
       "<style scoped>\n",
       "    .dataframe tbody tr th:only-of-type {\n",
       "        vertical-align: middle;\n",
       "    }\n",
       "\n",
       "    .dataframe tbody tr th {\n",
       "        vertical-align: top;\n",
       "    }\n",
       "\n",
       "    .dataframe thead th {\n",
       "        text-align: right;\n",
       "    }\n",
       "</style>\n",
       "<table border=\"1\" class=\"dataframe\">\n",
       "  <thead>\n",
       "    <tr style=\"text-align: right;\">\n",
       "      <th></th>\n",
       "      <th>X1</th>\n",
       "      <th>X2</th>\n",
       "      <th>X3</th>\n",
       "      <th>X4</th>\n",
       "      <th>X5</th>\n",
       "      <th>X6</th>\n",
       "      <th>X7</th>\n",
       "      <th>X8</th>\n",
       "    </tr>\n",
       "  </thead>\n",
       "  <tbody>\n",
       "    <tr>\n",
       "      <th>count</th>\n",
       "      <td>6.596240e+05</td>\n",
       "      <td>6.596240e+05</td>\n",
       "      <td>6.596240e+05</td>\n",
       "      <td>6.596240e+05</td>\n",
       "      <td>6.596240e+05</td>\n",
       "      <td>6.596240e+05</td>\n",
       "      <td>6.596240e+05</td>\n",
       "      <td>6.596240e+05</td>\n",
       "    </tr>\n",
       "    <tr>\n",
       "      <th>mean</th>\n",
       "      <td>4.102785e+04</td>\n",
       "      <td>2.397763e+03</td>\n",
       "      <td>4.548653e+03</td>\n",
       "      <td>3.144846e+03</td>\n",
       "      <td>1.842109e+02</td>\n",
       "      <td>2.599848e+02</td>\n",
       "      <td>5.723952e+04</td>\n",
       "      <td>1.273369e+04</td>\n",
       "    </tr>\n",
       "    <tr>\n",
       "      <th>std</th>\n",
       "      <td>1.397215e+06</td>\n",
       "      <td>4.778389e+05</td>\n",
       "      <td>2.230232e+05</td>\n",
       "      <td>7.184628e+04</td>\n",
       "      <td>1.528895e+04</td>\n",
       "      <td>2.447511e+04</td>\n",
       "      <td>6.255421e+05</td>\n",
       "      <td>3.088467e+05</td>\n",
       "    </tr>\n",
       "    <tr>\n",
       "      <th>min</th>\n",
       "      <td>0.000000e+00</td>\n",
       "      <td>0.000000e+00</td>\n",
       "      <td>0.000000e+00</td>\n",
       "      <td>0.000000e+00</td>\n",
       "      <td>-1.770000e+00</td>\n",
       "      <td>0.000000e+00</td>\n",
       "      <td>0.000000e+00</td>\n",
       "      <td>0.000000e+00</td>\n",
       "    </tr>\n",
       "    <tr>\n",
       "      <th>25%</th>\n",
       "      <td>0.000000e+00</td>\n",
       "      <td>0.000000e+00</td>\n",
       "      <td>0.000000e+00</td>\n",
       "      <td>0.000000e+00</td>\n",
       "      <td>0.000000e+00</td>\n",
       "      <td>0.000000e+00</td>\n",
       "      <td>0.000000e+00</td>\n",
       "      <td>0.000000e+00</td>\n",
       "    </tr>\n",
       "    <tr>\n",
       "      <th>50%</th>\n",
       "      <td>0.000000e+00</td>\n",
       "      <td>0.000000e+00</td>\n",
       "      <td>0.000000e+00</td>\n",
       "      <td>0.000000e+00</td>\n",
       "      <td>0.000000e+00</td>\n",
       "      <td>0.000000e+00</td>\n",
       "      <td>0.000000e+00</td>\n",
       "      <td>0.000000e+00</td>\n",
       "    </tr>\n",
       "    <tr>\n",
       "      <th>75%</th>\n",
       "      <td>0.000000e+00</td>\n",
       "      <td>0.000000e+00</td>\n",
       "      <td>2.370000e+00</td>\n",
       "      <td>0.000000e+00</td>\n",
       "      <td>0.000000e+00</td>\n",
       "      <td>0.000000e+00</td>\n",
       "      <td>0.000000e+00</td>\n",
       "      <td>0.000000e+00</td>\n",
       "    </tr>\n",
       "    <tr>\n",
       "      <th>max</th>\n",
       "      <td>2.000000e+08</td>\n",
       "      <td>3.372508e+08</td>\n",
       "      <td>1.091459e+08</td>\n",
       "      <td>1.822000e+07</td>\n",
       "      <td>1.000000e+07</td>\n",
       "      <td>1.000000e+07</td>\n",
       "      <td>3.000000e+07</td>\n",
       "      <td>1.500000e+08</td>\n",
       "    </tr>\n",
       "  </tbody>\n",
       "</table>\n",
       "</div>"
      ],
      "text/plain": [
       "                 X1            X2            X3            X4            X5  \\\n",
       "count  6.596240e+05  6.596240e+05  6.596240e+05  6.596240e+05  6.596240e+05   \n",
       "mean   4.102785e+04  2.397763e+03  4.548653e+03  3.144846e+03  1.842109e+02   \n",
       "std    1.397215e+06  4.778389e+05  2.230232e+05  7.184628e+04  1.528895e+04   \n",
       "min    0.000000e+00  0.000000e+00  0.000000e+00  0.000000e+00 -1.770000e+00   \n",
       "25%    0.000000e+00  0.000000e+00  0.000000e+00  0.000000e+00  0.000000e+00   \n",
       "50%    0.000000e+00  0.000000e+00  0.000000e+00  0.000000e+00  0.000000e+00   \n",
       "75%    0.000000e+00  0.000000e+00  2.370000e+00  0.000000e+00  0.000000e+00   \n",
       "max    2.000000e+08  3.372508e+08  1.091459e+08  1.822000e+07  1.000000e+07   \n",
       "\n",
       "                 X6            X7            X8  \n",
       "count  6.596240e+05  6.596240e+05  6.596240e+05  \n",
       "mean   2.599848e+02  5.723952e+04  1.273369e+04  \n",
       "std    2.447511e+04  6.255421e+05  3.088467e+05  \n",
       "min    0.000000e+00  0.000000e+00  0.000000e+00  \n",
       "25%    0.000000e+00  0.000000e+00  0.000000e+00  \n",
       "50%    0.000000e+00  0.000000e+00  0.000000e+00  \n",
       "75%    0.000000e+00  0.000000e+00  0.000000e+00  \n",
       "max    1.000000e+07  3.000000e+07  1.500000e+08  "
      ]
     },
     "metadata": {},
     "output_type": "display_data"
    },
    {
     "data": {
      "text/html": [
       "<div>\n",
       "<style scoped>\n",
       "    .dataframe tbody tr th:only-of-type {\n",
       "        vertical-align: middle;\n",
       "    }\n",
       "\n",
       "    .dataframe tbody tr th {\n",
       "        vertical-align: top;\n",
       "    }\n",
       "\n",
       "    .dataframe thead th {\n",
       "        text-align: right;\n",
       "    }\n",
       "</style>\n",
       "<table border=\"1\" class=\"dataframe\">\n",
       "  <thead>\n",
       "    <tr style=\"text-align: right;\">\n",
       "      <th></th>\n",
       "      <th>X1</th>\n",
       "      <th>X2</th>\n",
       "      <th>X3</th>\n",
       "      <th>X4</th>\n",
       "      <th>X5</th>\n",
       "      <th>X6</th>\n",
       "      <th>X7</th>\n",
       "      <th>X8</th>\n",
       "    </tr>\n",
       "  </thead>\n",
       "  <tbody>\n",
       "    <tr>\n",
       "      <th>count</th>\n",
       "      <td>4.654410e+05</td>\n",
       "      <td>4.654410e+05</td>\n",
       "      <td>4.654410e+05</td>\n",
       "      <td>4.654410e+05</td>\n",
       "      <td>4.654410e+05</td>\n",
       "      <td>4.654410e+05</td>\n",
       "      <td>4.654410e+05</td>\n",
       "      <td>4.654410e+05</td>\n",
       "    </tr>\n",
       "    <tr>\n",
       "      <th>mean</th>\n",
       "      <td>4.577886e+04</td>\n",
       "      <td>3.865932e+03</td>\n",
       "      <td>6.319957e+03</td>\n",
       "      <td>3.782432e+03</td>\n",
       "      <td>2.138875e+02</td>\n",
       "      <td>5.058526e+02</td>\n",
       "      <td>5.795086e+04</td>\n",
       "      <td>7.914900e+03</td>\n",
       "    </tr>\n",
       "    <tr>\n",
       "      <th>std</th>\n",
       "      <td>1.511018e+06</td>\n",
       "      <td>5.353912e+05</td>\n",
       "      <td>2.793072e+05</td>\n",
       "      <td>1.667316e+05</td>\n",
       "      <td>1.273293e+04</td>\n",
       "      <td>6.875766e+04</td>\n",
       "      <td>6.190032e+05</td>\n",
       "      <td>1.453283e+05</td>\n",
       "    </tr>\n",
       "    <tr>\n",
       "      <th>min</th>\n",
       "      <td>0.000000e+00</td>\n",
       "      <td>0.000000e+00</td>\n",
       "      <td>0.000000e+00</td>\n",
       "      <td>0.000000e+00</td>\n",
       "      <td>0.000000e+00</td>\n",
       "      <td>0.000000e+00</td>\n",
       "      <td>0.000000e+00</td>\n",
       "      <td>0.000000e+00</td>\n",
       "    </tr>\n",
       "    <tr>\n",
       "      <th>25%</th>\n",
       "      <td>0.000000e+00</td>\n",
       "      <td>0.000000e+00</td>\n",
       "      <td>0.000000e+00</td>\n",
       "      <td>0.000000e+00</td>\n",
       "      <td>0.000000e+00</td>\n",
       "      <td>0.000000e+00</td>\n",
       "      <td>0.000000e+00</td>\n",
       "      <td>0.000000e+00</td>\n",
       "    </tr>\n",
       "    <tr>\n",
       "      <th>50%</th>\n",
       "      <td>0.000000e+00</td>\n",
       "      <td>0.000000e+00</td>\n",
       "      <td>0.000000e+00</td>\n",
       "      <td>0.000000e+00</td>\n",
       "      <td>0.000000e+00</td>\n",
       "      <td>0.000000e+00</td>\n",
       "      <td>0.000000e+00</td>\n",
       "      <td>0.000000e+00</td>\n",
       "    </tr>\n",
       "    <tr>\n",
       "      <th>75%</th>\n",
       "      <td>0.000000e+00</td>\n",
       "      <td>0.000000e+00</td>\n",
       "      <td>4.300000e+00</td>\n",
       "      <td>0.000000e+00</td>\n",
       "      <td>0.000000e+00</td>\n",
       "      <td>0.000000e+00</td>\n",
       "      <td>0.000000e+00</td>\n",
       "      <td>0.000000e+00</td>\n",
       "    </tr>\n",
       "    <tr>\n",
       "      <th>max</th>\n",
       "      <td>3.470000e+08</td>\n",
       "      <td>2.106535e+08</td>\n",
       "      <td>1.000718e+08</td>\n",
       "      <td>6.800000e+07</td>\n",
       "      <td>4.035640e+06</td>\n",
       "      <td>4.075714e+07</td>\n",
       "      <td>3.475000e+07</td>\n",
       "      <td>5.000000e+07</td>\n",
       "    </tr>\n",
       "  </tbody>\n",
       "</table>\n",
       "</div>"
      ],
      "text/plain": [
       "                 X1            X2            X3            X4            X5  \\\n",
       "count  4.654410e+05  4.654410e+05  4.654410e+05  4.654410e+05  4.654410e+05   \n",
       "mean   4.577886e+04  3.865932e+03  6.319957e+03  3.782432e+03  2.138875e+02   \n",
       "std    1.511018e+06  5.353912e+05  2.793072e+05  1.667316e+05  1.273293e+04   \n",
       "min    0.000000e+00  0.000000e+00  0.000000e+00  0.000000e+00  0.000000e+00   \n",
       "25%    0.000000e+00  0.000000e+00  0.000000e+00  0.000000e+00  0.000000e+00   \n",
       "50%    0.000000e+00  0.000000e+00  0.000000e+00  0.000000e+00  0.000000e+00   \n",
       "75%    0.000000e+00  0.000000e+00  4.300000e+00  0.000000e+00  0.000000e+00   \n",
       "max    3.470000e+08  2.106535e+08  1.000718e+08  6.800000e+07  4.035640e+06   \n",
       "\n",
       "                 X6            X7            X8  \n",
       "count  4.654410e+05  4.654410e+05  4.654410e+05  \n",
       "mean   5.058526e+02  5.795086e+04  7.914900e+03  \n",
       "std    6.875766e+04  6.190032e+05  1.453283e+05  \n",
       "min    0.000000e+00  0.000000e+00  0.000000e+00  \n",
       "25%    0.000000e+00  0.000000e+00  0.000000e+00  \n",
       "50%    0.000000e+00  0.000000e+00  0.000000e+00  \n",
       "75%    0.000000e+00  0.000000e+00  0.000000e+00  \n",
       "max    4.075714e+07  3.475000e+07  5.000000e+07  "
      ]
     },
     "metadata": {},
     "output_type": "display_data"
    },
    {
     "data": {
      "text/html": [
       "<div>\n",
       "<style scoped>\n",
       "    .dataframe tbody tr th:only-of-type {\n",
       "        vertical-align: middle;\n",
       "    }\n",
       "\n",
       "    .dataframe tbody tr th {\n",
       "        vertical-align: top;\n",
       "    }\n",
       "\n",
       "    .dataframe thead th {\n",
       "        text-align: right;\n",
       "    }\n",
       "</style>\n",
       "<table border=\"1\" class=\"dataframe\">\n",
       "  <thead>\n",
       "    <tr style=\"text-align: right;\">\n",
       "      <th></th>\n",
       "      <th>X1</th>\n",
       "      <th>X2</th>\n",
       "      <th>X3</th>\n",
       "      <th>X4</th>\n",
       "      <th>X5</th>\n",
       "      <th>X6</th>\n",
       "      <th>X7</th>\n",
       "      <th>X8</th>\n",
       "    </tr>\n",
       "  </thead>\n",
       "  <tbody>\n",
       "    <tr>\n",
       "      <th>count</th>\n",
       "      <td>4.790630e+05</td>\n",
       "      <td>4.790630e+05</td>\n",
       "      <td>4.790630e+05</td>\n",
       "      <td>4.790630e+05</td>\n",
       "      <td>4.790630e+05</td>\n",
       "      <td>4.790630e+05</td>\n",
       "      <td>4.790630e+05</td>\n",
       "      <td>4.790630e+05</td>\n",
       "    </tr>\n",
       "    <tr>\n",
       "      <th>mean</th>\n",
       "      <td>5.015033e+04</td>\n",
       "      <td>3.243406e+03</td>\n",
       "      <td>4.790877e+03</td>\n",
       "      <td>3.527987e+03</td>\n",
       "      <td>2.071597e+02</td>\n",
       "      <td>4.809048e+02</td>\n",
       "      <td>5.968186e+04</td>\n",
       "      <td>8.685593e+03</td>\n",
       "    </tr>\n",
       "    <tr>\n",
       "      <th>std</th>\n",
       "      <td>1.633422e+06</td>\n",
       "      <td>5.083591e+05</td>\n",
       "      <td>2.026442e+05</td>\n",
       "      <td>1.213563e+05</td>\n",
       "      <td>1.190652e+04</td>\n",
       "      <td>6.803267e+04</td>\n",
       "      <td>6.276697e+05</td>\n",
       "      <td>1.541113e+05</td>\n",
       "    </tr>\n",
       "    <tr>\n",
       "      <th>min</th>\n",
       "      <td>0.000000e+00</td>\n",
       "      <td>0.000000e+00</td>\n",
       "      <td>0.000000e+00</td>\n",
       "      <td>0.000000e+00</td>\n",
       "      <td>0.000000e+00</td>\n",
       "      <td>0.000000e+00</td>\n",
       "      <td>0.000000e+00</td>\n",
       "      <td>0.000000e+00</td>\n",
       "    </tr>\n",
       "    <tr>\n",
       "      <th>25%</th>\n",
       "      <td>0.000000e+00</td>\n",
       "      <td>0.000000e+00</td>\n",
       "      <td>0.000000e+00</td>\n",
       "      <td>0.000000e+00</td>\n",
       "      <td>0.000000e+00</td>\n",
       "      <td>0.000000e+00</td>\n",
       "      <td>0.000000e+00</td>\n",
       "      <td>0.000000e+00</td>\n",
       "    </tr>\n",
       "    <tr>\n",
       "      <th>50%</th>\n",
       "      <td>0.000000e+00</td>\n",
       "      <td>0.000000e+00</td>\n",
       "      <td>0.000000e+00</td>\n",
       "      <td>0.000000e+00</td>\n",
       "      <td>0.000000e+00</td>\n",
       "      <td>0.000000e+00</td>\n",
       "      <td>0.000000e+00</td>\n",
       "      <td>0.000000e+00</td>\n",
       "    </tr>\n",
       "    <tr>\n",
       "      <th>75%</th>\n",
       "      <td>0.000000e+00</td>\n",
       "      <td>0.000000e+00</td>\n",
       "      <td>4.310000e+00</td>\n",
       "      <td>0.000000e+00</td>\n",
       "      <td>0.000000e+00</td>\n",
       "      <td>0.000000e+00</td>\n",
       "      <td>0.000000e+00</td>\n",
       "      <td>0.000000e+00</td>\n",
       "    </tr>\n",
       "    <tr>\n",
       "      <th>max</th>\n",
       "      <td>2.900000e+08</td>\n",
       "      <td>2.168897e+08</td>\n",
       "      <td>9.467516e+07</td>\n",
       "      <td>5.086000e+07</td>\n",
       "      <td>3.024484e+06</td>\n",
       "      <td>4.086245e+07</td>\n",
       "      <td>3.475000e+07</td>\n",
       "      <td>5.000000e+07</td>\n",
       "    </tr>\n",
       "  </tbody>\n",
       "</table>\n",
       "</div>"
      ],
      "text/plain": [
       "                 X1            X2            X3            X4            X5  \\\n",
       "count  4.790630e+05  4.790630e+05  4.790630e+05  4.790630e+05  4.790630e+05   \n",
       "mean   5.015033e+04  3.243406e+03  4.790877e+03  3.527987e+03  2.071597e+02   \n",
       "std    1.633422e+06  5.083591e+05  2.026442e+05  1.213563e+05  1.190652e+04   \n",
       "min    0.000000e+00  0.000000e+00  0.000000e+00  0.000000e+00  0.000000e+00   \n",
       "25%    0.000000e+00  0.000000e+00  0.000000e+00  0.000000e+00  0.000000e+00   \n",
       "50%    0.000000e+00  0.000000e+00  0.000000e+00  0.000000e+00  0.000000e+00   \n",
       "75%    0.000000e+00  0.000000e+00  4.310000e+00  0.000000e+00  0.000000e+00   \n",
       "max    2.900000e+08  2.168897e+08  9.467516e+07  5.086000e+07  3.024484e+06   \n",
       "\n",
       "                 X6            X7            X8  \n",
       "count  4.790630e+05  4.790630e+05  4.790630e+05  \n",
       "mean   4.809048e+02  5.968186e+04  8.685593e+03  \n",
       "std    6.803267e+04  6.276697e+05  1.541113e+05  \n",
       "min    0.000000e+00  0.000000e+00  0.000000e+00  \n",
       "25%    0.000000e+00  0.000000e+00  0.000000e+00  \n",
       "50%    0.000000e+00  0.000000e+00  0.000000e+00  \n",
       "75%    0.000000e+00  0.000000e+00  0.000000e+00  \n",
       "max    4.086245e+07  3.475000e+07  5.000000e+07  "
      ]
     },
     "metadata": {},
     "output_type": "display_data"
    },
    {
     "data": {
      "text/html": [
       "<div>\n",
       "<style scoped>\n",
       "    .dataframe tbody tr th:only-of-type {\n",
       "        vertical-align: middle;\n",
       "    }\n",
       "\n",
       "    .dataframe tbody tr th {\n",
       "        vertical-align: top;\n",
       "    }\n",
       "\n",
       "    .dataframe thead th {\n",
       "        text-align: right;\n",
       "    }\n",
       "</style>\n",
       "<table border=\"1\" class=\"dataframe\">\n",
       "  <thead>\n",
       "    <tr style=\"text-align: right;\">\n",
       "      <th></th>\n",
       "      <th>X1</th>\n",
       "      <th>X2</th>\n",
       "      <th>X3</th>\n",
       "      <th>X4</th>\n",
       "      <th>X5</th>\n",
       "      <th>X6</th>\n",
       "      <th>X7</th>\n",
       "      <th>X8</th>\n",
       "    </tr>\n",
       "  </thead>\n",
       "  <tbody>\n",
       "    <tr>\n",
       "      <th>count</th>\n",
       "      <td>4.934410e+05</td>\n",
       "      <td>4.934410e+05</td>\n",
       "      <td>4.934410e+05</td>\n",
       "      <td>4.934410e+05</td>\n",
       "      <td>4.934410e+05</td>\n",
       "      <td>4.934410e+05</td>\n",
       "      <td>4.934410e+05</td>\n",
       "      <td>4.934410e+05</td>\n",
       "    </tr>\n",
       "    <tr>\n",
       "      <th>mean</th>\n",
       "      <td>5.107197e+04</td>\n",
       "      <td>3.042671e+03</td>\n",
       "      <td>5.425967e+03</td>\n",
       "      <td>3.708233e+03</td>\n",
       "      <td>2.227427e+02</td>\n",
       "      <td>4.279809e+02</td>\n",
       "      <td>6.160078e+04</td>\n",
       "      <td>1.021980e+04</td>\n",
       "    </tr>\n",
       "    <tr>\n",
       "      <th>std</th>\n",
       "      <td>1.656046e+06</td>\n",
       "      <td>4.052455e+05</td>\n",
       "      <td>3.028736e+05</td>\n",
       "      <td>1.213474e+05</td>\n",
       "      <td>1.451766e+04</td>\n",
       "      <td>3.740105e+04</td>\n",
       "      <td>6.395431e+05</td>\n",
       "      <td>1.915077e+05</td>\n",
       "    </tr>\n",
       "    <tr>\n",
       "      <th>min</th>\n",
       "      <td>0.000000e+00</td>\n",
       "      <td>0.000000e+00</td>\n",
       "      <td>0.000000e+00</td>\n",
       "      <td>0.000000e+00</td>\n",
       "      <td>0.000000e+00</td>\n",
       "      <td>0.000000e+00</td>\n",
       "      <td>0.000000e+00</td>\n",
       "      <td>0.000000e+00</td>\n",
       "    </tr>\n",
       "    <tr>\n",
       "      <th>25%</th>\n",
       "      <td>0.000000e+00</td>\n",
       "      <td>0.000000e+00</td>\n",
       "      <td>0.000000e+00</td>\n",
       "      <td>0.000000e+00</td>\n",
       "      <td>0.000000e+00</td>\n",
       "      <td>0.000000e+00</td>\n",
       "      <td>0.000000e+00</td>\n",
       "      <td>0.000000e+00</td>\n",
       "    </tr>\n",
       "    <tr>\n",
       "      <th>50%</th>\n",
       "      <td>0.000000e+00</td>\n",
       "      <td>0.000000e+00</td>\n",
       "      <td>0.000000e+00</td>\n",
       "      <td>0.000000e+00</td>\n",
       "      <td>0.000000e+00</td>\n",
       "      <td>0.000000e+00</td>\n",
       "      <td>0.000000e+00</td>\n",
       "      <td>0.000000e+00</td>\n",
       "    </tr>\n",
       "    <tr>\n",
       "      <th>75%</th>\n",
       "      <td>0.000000e+00</td>\n",
       "      <td>0.000000e+00</td>\n",
       "      <td>5.730000e+00</td>\n",
       "      <td>0.000000e+00</td>\n",
       "      <td>0.000000e+00</td>\n",
       "      <td>0.000000e+00</td>\n",
       "      <td>0.000000e+00</td>\n",
       "      <td>0.000000e+00</td>\n",
       "    </tr>\n",
       "    <tr>\n",
       "      <th>max</th>\n",
       "      <td>2.900000e+08</td>\n",
       "      <td>2.164307e+08</td>\n",
       "      <td>1.420225e+08</td>\n",
       "      <td>5.086000e+07</td>\n",
       "      <td>5.003991e+06</td>\n",
       "      <td>1.154171e+07</td>\n",
       "      <td>3.283146e+07</td>\n",
       "      <td>5.000000e+07</td>\n",
       "    </tr>\n",
       "  </tbody>\n",
       "</table>\n",
       "</div>"
      ],
      "text/plain": [
       "                 X1            X2            X3            X4            X5  \\\n",
       "count  4.934410e+05  4.934410e+05  4.934410e+05  4.934410e+05  4.934410e+05   \n",
       "mean   5.107197e+04  3.042671e+03  5.425967e+03  3.708233e+03  2.227427e+02   \n",
       "std    1.656046e+06  4.052455e+05  3.028736e+05  1.213474e+05  1.451766e+04   \n",
       "min    0.000000e+00  0.000000e+00  0.000000e+00  0.000000e+00  0.000000e+00   \n",
       "25%    0.000000e+00  0.000000e+00  0.000000e+00  0.000000e+00  0.000000e+00   \n",
       "50%    0.000000e+00  0.000000e+00  0.000000e+00  0.000000e+00  0.000000e+00   \n",
       "75%    0.000000e+00  0.000000e+00  5.730000e+00  0.000000e+00  0.000000e+00   \n",
       "max    2.900000e+08  2.164307e+08  1.420225e+08  5.086000e+07  5.003991e+06   \n",
       "\n",
       "                 X6            X7            X8  \n",
       "count  4.934410e+05  4.934410e+05  4.934410e+05  \n",
       "mean   4.279809e+02  6.160078e+04  1.021980e+04  \n",
       "std    3.740105e+04  6.395431e+05  1.915077e+05  \n",
       "min    0.000000e+00  0.000000e+00  0.000000e+00  \n",
       "25%    0.000000e+00  0.000000e+00  0.000000e+00  \n",
       "50%    0.000000e+00  0.000000e+00  0.000000e+00  \n",
       "75%    0.000000e+00  0.000000e+00  0.000000e+00  \n",
       "max    1.154171e+07  3.283146e+07  5.000000e+07  "
      ]
     },
     "metadata": {},
     "output_type": "display_data"
    },
    {
     "data": {
      "text/html": [
       "<div>\n",
       "<style scoped>\n",
       "    .dataframe tbody tr th:only-of-type {\n",
       "        vertical-align: middle;\n",
       "    }\n",
       "\n",
       "    .dataframe tbody tr th {\n",
       "        vertical-align: top;\n",
       "    }\n",
       "\n",
       "    .dataframe thead th {\n",
       "        text-align: right;\n",
       "    }\n",
       "</style>\n",
       "<table border=\"1\" class=\"dataframe\">\n",
       "  <thead>\n",
       "    <tr style=\"text-align: right;\">\n",
       "      <th></th>\n",
       "      <th>X1</th>\n",
       "      <th>X2</th>\n",
       "      <th>X3</th>\n",
       "      <th>X4</th>\n",
       "      <th>X5</th>\n",
       "      <th>X6</th>\n",
       "      <th>X7</th>\n",
       "      <th>X8</th>\n",
       "    </tr>\n",
       "  </thead>\n",
       "  <tbody>\n",
       "    <tr>\n",
       "      <th>count</th>\n",
       "      <td>5.065130e+05</td>\n",
       "      <td>5.065130e+05</td>\n",
       "      <td>5.065130e+05</td>\n",
       "      <td>5.065130e+05</td>\n",
       "      <td>5.065130e+05</td>\n",
       "      <td>5.065130e+05</td>\n",
       "      <td>5.065130e+05</td>\n",
       "      <td>5.065130e+05</td>\n",
       "    </tr>\n",
       "    <tr>\n",
       "      <th>mean</th>\n",
       "      <td>4.965324e+04</td>\n",
       "      <td>3.594652e+03</td>\n",
       "      <td>6.016074e+03</td>\n",
       "      <td>4.000847e+03</td>\n",
       "      <td>2.039064e+02</td>\n",
       "      <td>3.460443e+02</td>\n",
       "      <td>6.273838e+04</td>\n",
       "      <td>1.066476e+04</td>\n",
       "    </tr>\n",
       "    <tr>\n",
       "      <th>std</th>\n",
       "      <td>1.647982e+06</td>\n",
       "      <td>5.701597e+05</td>\n",
       "      <td>2.185682e+05</td>\n",
       "      <td>8.197853e+04</td>\n",
       "      <td>1.156378e+04</td>\n",
       "      <td>3.068168e+04</td>\n",
       "      <td>6.455918e+05</td>\n",
       "      <td>1.870771e+05</td>\n",
       "    </tr>\n",
       "    <tr>\n",
       "      <th>min</th>\n",
       "      <td>0.000000e+00</td>\n",
       "      <td>0.000000e+00</td>\n",
       "      <td>0.000000e+00</td>\n",
       "      <td>0.000000e+00</td>\n",
       "      <td>0.000000e+00</td>\n",
       "      <td>0.000000e+00</td>\n",
       "      <td>0.000000e+00</td>\n",
       "      <td>0.000000e+00</td>\n",
       "    </tr>\n",
       "    <tr>\n",
       "      <th>25%</th>\n",
       "      <td>0.000000e+00</td>\n",
       "      <td>0.000000e+00</td>\n",
       "      <td>0.000000e+00</td>\n",
       "      <td>0.000000e+00</td>\n",
       "      <td>0.000000e+00</td>\n",
       "      <td>0.000000e+00</td>\n",
       "      <td>0.000000e+00</td>\n",
       "      <td>0.000000e+00</td>\n",
       "    </tr>\n",
       "    <tr>\n",
       "      <th>50%</th>\n",
       "      <td>0.000000e+00</td>\n",
       "      <td>0.000000e+00</td>\n",
       "      <td>0.000000e+00</td>\n",
       "      <td>0.000000e+00</td>\n",
       "      <td>0.000000e+00</td>\n",
       "      <td>0.000000e+00</td>\n",
       "      <td>0.000000e+00</td>\n",
       "      <td>0.000000e+00</td>\n",
       "    </tr>\n",
       "    <tr>\n",
       "      <th>75%</th>\n",
       "      <td>0.000000e+00</td>\n",
       "      <td>0.000000e+00</td>\n",
       "      <td>5.700000e+00</td>\n",
       "      <td>0.000000e+00</td>\n",
       "      <td>0.000000e+00</td>\n",
       "      <td>0.000000e+00</td>\n",
       "      <td>0.000000e+00</td>\n",
       "      <td>0.000000e+00</td>\n",
       "    </tr>\n",
       "    <tr>\n",
       "      <th>max</th>\n",
       "      <td>2.900000e+08</td>\n",
       "      <td>3.357371e+08</td>\n",
       "      <td>7.913093e+07</td>\n",
       "      <td>1.986000e+07</td>\n",
       "      <td>3.100000e+06</td>\n",
       "      <td>1.018211e+07</td>\n",
       "      <td>3.278319e+07</td>\n",
       "      <td>5.000000e+07</td>\n",
       "    </tr>\n",
       "  </tbody>\n",
       "</table>\n",
       "</div>"
      ],
      "text/plain": [
       "                 X1            X2            X3            X4            X5  \\\n",
       "count  5.065130e+05  5.065130e+05  5.065130e+05  5.065130e+05  5.065130e+05   \n",
       "mean   4.965324e+04  3.594652e+03  6.016074e+03  4.000847e+03  2.039064e+02   \n",
       "std    1.647982e+06  5.701597e+05  2.185682e+05  8.197853e+04  1.156378e+04   \n",
       "min    0.000000e+00  0.000000e+00  0.000000e+00  0.000000e+00  0.000000e+00   \n",
       "25%    0.000000e+00  0.000000e+00  0.000000e+00  0.000000e+00  0.000000e+00   \n",
       "50%    0.000000e+00  0.000000e+00  0.000000e+00  0.000000e+00  0.000000e+00   \n",
       "75%    0.000000e+00  0.000000e+00  5.700000e+00  0.000000e+00  0.000000e+00   \n",
       "max    2.900000e+08  3.357371e+08  7.913093e+07  1.986000e+07  3.100000e+06   \n",
       "\n",
       "                 X6            X7            X8  \n",
       "count  5.065130e+05  5.065130e+05  5.065130e+05  \n",
       "mean   3.460443e+02  6.273838e+04  1.066476e+04  \n",
       "std    3.068168e+04  6.455918e+05  1.870771e+05  \n",
       "min    0.000000e+00  0.000000e+00  0.000000e+00  \n",
       "25%    0.000000e+00  0.000000e+00  0.000000e+00  \n",
       "50%    0.000000e+00  0.000000e+00  0.000000e+00  \n",
       "75%    0.000000e+00  0.000000e+00  0.000000e+00  \n",
       "max    1.018211e+07  3.278319e+07  5.000000e+07  "
      ]
     },
     "metadata": {},
     "output_type": "display_data"
    },
    {
     "data": {
      "text/html": [
       "<div>\n",
       "<style scoped>\n",
       "    .dataframe tbody tr th:only-of-type {\n",
       "        vertical-align: middle;\n",
       "    }\n",
       "\n",
       "    .dataframe tbody tr th {\n",
       "        vertical-align: top;\n",
       "    }\n",
       "\n",
       "    .dataframe thead th {\n",
       "        text-align: right;\n",
       "    }\n",
       "</style>\n",
       "<table border=\"1\" class=\"dataframe\">\n",
       "  <thead>\n",
       "    <tr style=\"text-align: right;\">\n",
       "      <th></th>\n",
       "      <th>X1</th>\n",
       "      <th>X2</th>\n",
       "      <th>X3</th>\n",
       "      <th>X4</th>\n",
       "      <th>X5</th>\n",
       "      <th>X6</th>\n",
       "      <th>X7</th>\n",
       "      <th>X8</th>\n",
       "    </tr>\n",
       "  </thead>\n",
       "  <tbody>\n",
       "    <tr>\n",
       "      <th>count</th>\n",
       "      <td>5.215660e+05</td>\n",
       "      <td>5.215660e+05</td>\n",
       "      <td>5.215660e+05</td>\n",
       "      <td>5.215660e+05</td>\n",
       "      <td>5.215660e+05</td>\n",
       "      <td>5.215660e+05</td>\n",
       "      <td>5.215660e+05</td>\n",
       "      <td>5.215660e+05</td>\n",
       "    </tr>\n",
       "    <tr>\n",
       "      <th>mean</th>\n",
       "      <td>4.996368e+04</td>\n",
       "      <td>3.872203e+03</td>\n",
       "      <td>4.449279e+03</td>\n",
       "      <td>4.441739e+03</td>\n",
       "      <td>1.986803e+02</td>\n",
       "      <td>3.376526e+02</td>\n",
       "      <td>6.410221e+04</td>\n",
       "      <td>1.125153e+04</td>\n",
       "    </tr>\n",
       "    <tr>\n",
       "      <th>std</th>\n",
       "      <td>1.623167e+06</td>\n",
       "      <td>5.717576e+05</td>\n",
       "      <td>1.923967e+05</td>\n",
       "      <td>9.522327e+04</td>\n",
       "      <td>1.037671e+04</td>\n",
       "      <td>3.005550e+04</td>\n",
       "      <td>6.513732e+05</td>\n",
       "      <td>1.840652e+05</td>\n",
       "    </tr>\n",
       "    <tr>\n",
       "      <th>min</th>\n",
       "      <td>0.000000e+00</td>\n",
       "      <td>0.000000e+00</td>\n",
       "      <td>0.000000e+00</td>\n",
       "      <td>0.000000e+00</td>\n",
       "      <td>0.000000e+00</td>\n",
       "      <td>0.000000e+00</td>\n",
       "      <td>0.000000e+00</td>\n",
       "      <td>0.000000e+00</td>\n",
       "    </tr>\n",
       "    <tr>\n",
       "      <th>25%</th>\n",
       "      <td>0.000000e+00</td>\n",
       "      <td>0.000000e+00</td>\n",
       "      <td>0.000000e+00</td>\n",
       "      <td>0.000000e+00</td>\n",
       "      <td>0.000000e+00</td>\n",
       "      <td>0.000000e+00</td>\n",
       "      <td>0.000000e+00</td>\n",
       "      <td>0.000000e+00</td>\n",
       "    </tr>\n",
       "    <tr>\n",
       "      <th>50%</th>\n",
       "      <td>0.000000e+00</td>\n",
       "      <td>0.000000e+00</td>\n",
       "      <td>0.000000e+00</td>\n",
       "      <td>0.000000e+00</td>\n",
       "      <td>0.000000e+00</td>\n",
       "      <td>0.000000e+00</td>\n",
       "      <td>0.000000e+00</td>\n",
       "      <td>0.000000e+00</td>\n",
       "    </tr>\n",
       "    <tr>\n",
       "      <th>75%</th>\n",
       "      <td>0.000000e+00</td>\n",
       "      <td>0.000000e+00</td>\n",
       "      <td>5.750000e+00</td>\n",
       "      <td>0.000000e+00</td>\n",
       "      <td>0.000000e+00</td>\n",
       "      <td>0.000000e+00</td>\n",
       "      <td>0.000000e+00</td>\n",
       "      <td>0.000000e+00</td>\n",
       "    </tr>\n",
       "    <tr>\n",
       "      <th>max</th>\n",
       "      <td>2.900000e+08</td>\n",
       "      <td>3.346185e+08</td>\n",
       "      <td>7.913093e+07</td>\n",
       "      <td>3.000000e+07</td>\n",
       "      <td>2.900067e+06</td>\n",
       "      <td>1.020815e+07</td>\n",
       "      <td>3.273456e+07</td>\n",
       "      <td>5.000000e+07</td>\n",
       "    </tr>\n",
       "  </tbody>\n",
       "</table>\n",
       "</div>"
      ],
      "text/plain": [
       "                 X1            X2            X3            X4            X5  \\\n",
       "count  5.215660e+05  5.215660e+05  5.215660e+05  5.215660e+05  5.215660e+05   \n",
       "mean   4.996368e+04  3.872203e+03  4.449279e+03  4.441739e+03  1.986803e+02   \n",
       "std    1.623167e+06  5.717576e+05  1.923967e+05  9.522327e+04  1.037671e+04   \n",
       "min    0.000000e+00  0.000000e+00  0.000000e+00  0.000000e+00  0.000000e+00   \n",
       "25%    0.000000e+00  0.000000e+00  0.000000e+00  0.000000e+00  0.000000e+00   \n",
       "50%    0.000000e+00  0.000000e+00  0.000000e+00  0.000000e+00  0.000000e+00   \n",
       "75%    0.000000e+00  0.000000e+00  5.750000e+00  0.000000e+00  0.000000e+00   \n",
       "max    2.900000e+08  3.346185e+08  7.913093e+07  3.000000e+07  2.900067e+06   \n",
       "\n",
       "                 X6            X7            X8  \n",
       "count  5.215660e+05  5.215660e+05  5.215660e+05  \n",
       "mean   3.376526e+02  6.410221e+04  1.125153e+04  \n",
       "std    3.005550e+04  6.513732e+05  1.840652e+05  \n",
       "min    0.000000e+00  0.000000e+00  0.000000e+00  \n",
       "25%    0.000000e+00  0.000000e+00  0.000000e+00  \n",
       "50%    0.000000e+00  0.000000e+00  0.000000e+00  \n",
       "75%    0.000000e+00  0.000000e+00  0.000000e+00  \n",
       "max    1.020815e+07  3.273456e+07  5.000000e+07  "
      ]
     },
     "metadata": {},
     "output_type": "display_data"
    },
    {
     "data": {
      "text/html": [
       "<div>\n",
       "<style scoped>\n",
       "    .dataframe tbody tr th:only-of-type {\n",
       "        vertical-align: middle;\n",
       "    }\n",
       "\n",
       "    .dataframe tbody tr th {\n",
       "        vertical-align: top;\n",
       "    }\n",
       "\n",
       "    .dataframe thead th {\n",
       "        text-align: right;\n",
       "    }\n",
       "</style>\n",
       "<table border=\"1\" class=\"dataframe\">\n",
       "  <thead>\n",
       "    <tr style=\"text-align: right;\">\n",
       "      <th></th>\n",
       "      <th>X1</th>\n",
       "      <th>X2</th>\n",
       "      <th>X3</th>\n",
       "      <th>X4</th>\n",
       "      <th>X5</th>\n",
       "      <th>X6</th>\n",
       "      <th>X7</th>\n",
       "      <th>X8</th>\n",
       "    </tr>\n",
       "  </thead>\n",
       "  <tbody>\n",
       "    <tr>\n",
       "      <th>count</th>\n",
       "      <td>5.438230e+05</td>\n",
       "      <td>5.438230e+05</td>\n",
       "      <td>5.438230e+05</td>\n",
       "      <td>5.438230e+05</td>\n",
       "      <td>5.438230e+05</td>\n",
       "      <td>5.438230e+05</td>\n",
       "      <td>5.438230e+05</td>\n",
       "      <td>5.438230e+05</td>\n",
       "    </tr>\n",
       "    <tr>\n",
       "      <th>mean</th>\n",
       "      <td>4.767450e+04</td>\n",
       "      <td>3.674215e+03</td>\n",
       "      <td>5.989938e+03</td>\n",
       "      <td>4.462179e+03</td>\n",
       "      <td>2.572643e+02</td>\n",
       "      <td>4.353697e+02</td>\n",
       "      <td>6.395352e+04</td>\n",
       "      <td>1.230428e+04</td>\n",
       "    </tr>\n",
       "    <tr>\n",
       "      <th>std</th>\n",
       "      <td>1.590177e+06</td>\n",
       "      <td>5.750387e+05</td>\n",
       "      <td>2.448612e+05</td>\n",
       "      <td>1.169876e+05</td>\n",
       "      <td>1.835657e+04</td>\n",
       "      <td>3.916726e+04</td>\n",
       "      <td>6.508835e+05</td>\n",
       "      <td>2.063124e+05</td>\n",
       "    </tr>\n",
       "    <tr>\n",
       "      <th>min</th>\n",
       "      <td>0.000000e+00</td>\n",
       "      <td>0.000000e+00</td>\n",
       "      <td>0.000000e+00</td>\n",
       "      <td>0.000000e+00</td>\n",
       "      <td>0.000000e+00</td>\n",
       "      <td>0.000000e+00</td>\n",
       "      <td>0.000000e+00</td>\n",
       "      <td>0.000000e+00</td>\n",
       "    </tr>\n",
       "    <tr>\n",
       "      <th>25%</th>\n",
       "      <td>0.000000e+00</td>\n",
       "      <td>0.000000e+00</td>\n",
       "      <td>0.000000e+00</td>\n",
       "      <td>0.000000e+00</td>\n",
       "      <td>0.000000e+00</td>\n",
       "      <td>0.000000e+00</td>\n",
       "      <td>0.000000e+00</td>\n",
       "      <td>0.000000e+00</td>\n",
       "    </tr>\n",
       "    <tr>\n",
       "      <th>50%</th>\n",
       "      <td>0.000000e+00</td>\n",
       "      <td>0.000000e+00</td>\n",
       "      <td>0.000000e+00</td>\n",
       "      <td>0.000000e+00</td>\n",
       "      <td>0.000000e+00</td>\n",
       "      <td>0.000000e+00</td>\n",
       "      <td>0.000000e+00</td>\n",
       "      <td>0.000000e+00</td>\n",
       "    </tr>\n",
       "    <tr>\n",
       "      <th>75%</th>\n",
       "      <td>0.000000e+00</td>\n",
       "      <td>0.000000e+00</td>\n",
       "      <td>8.510000e+00</td>\n",
       "      <td>0.000000e+00</td>\n",
       "      <td>0.000000e+00</td>\n",
       "      <td>0.000000e+00</td>\n",
       "      <td>0.000000e+00</td>\n",
       "      <td>0.000000e+00</td>\n",
       "    </tr>\n",
       "    <tr>\n",
       "      <th>max</th>\n",
       "      <td>2.900000e+08</td>\n",
       "      <td>3.320671e+08</td>\n",
       "      <td>1.090412e+08</td>\n",
       "      <td>4.500000e+07</td>\n",
       "      <td>7.000000e+06</td>\n",
       "      <td>1.001083e+07</td>\n",
       "      <td>3.000000e+07</td>\n",
       "      <td>7.600000e+07</td>\n",
       "    </tr>\n",
       "  </tbody>\n",
       "</table>\n",
       "</div>"
      ],
      "text/plain": [
       "                 X1            X2            X3            X4            X5  \\\n",
       "count  5.438230e+05  5.438230e+05  5.438230e+05  5.438230e+05  5.438230e+05   \n",
       "mean   4.767450e+04  3.674215e+03  5.989938e+03  4.462179e+03  2.572643e+02   \n",
       "std    1.590177e+06  5.750387e+05  2.448612e+05  1.169876e+05  1.835657e+04   \n",
       "min    0.000000e+00  0.000000e+00  0.000000e+00  0.000000e+00  0.000000e+00   \n",
       "25%    0.000000e+00  0.000000e+00  0.000000e+00  0.000000e+00  0.000000e+00   \n",
       "50%    0.000000e+00  0.000000e+00  0.000000e+00  0.000000e+00  0.000000e+00   \n",
       "75%    0.000000e+00  0.000000e+00  8.510000e+00  0.000000e+00  0.000000e+00   \n",
       "max    2.900000e+08  3.320671e+08  1.090412e+08  4.500000e+07  7.000000e+06   \n",
       "\n",
       "                 X6            X7            X8  \n",
       "count  5.438230e+05  5.438230e+05  5.438230e+05  \n",
       "mean   4.353697e+02  6.395352e+04  1.230428e+04  \n",
       "std    3.916726e+04  6.508835e+05  2.063124e+05  \n",
       "min    0.000000e+00  0.000000e+00  0.000000e+00  \n",
       "25%    0.000000e+00  0.000000e+00  0.000000e+00  \n",
       "50%    0.000000e+00  0.000000e+00  0.000000e+00  \n",
       "75%    0.000000e+00  0.000000e+00  0.000000e+00  \n",
       "max    1.001083e+07  3.000000e+07  7.600000e+07  "
      ]
     },
     "metadata": {},
     "output_type": "display_data"
    }
   ],
   "source": [
    "display(aum_m1.describe(), aum_m2.describe(), aum_m3.describe(), aum_m7.describe(), aum_m8.describe(), \n",
    "        aum_m9.describe(), aum_m10.describe(), aum_m11.describe(), aum_m12.describe())"
   ]
  }
 ],
 "metadata": {
  "kernelspec": {
   "display_name": "Python 3",
   "language": "python",
   "name": "python3"
  },
  "language_info": {
   "codemirror_mode": {
    "name": "ipython",
    "version": 3
   },
   "file_extension": ".py",
   "mimetype": "text/x-python",
   "name": "python",
   "nbconvert_exporter": "python",
   "pygments_lexer": "ipython3",
   "version": "3.8.2"
  }
 },
 "nbformat": 4,
 "nbformat_minor": 2
}
